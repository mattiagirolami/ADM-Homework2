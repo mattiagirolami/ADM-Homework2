{
  "cells": [
    {
      "cell_type": "code",
      "execution_count": 1,
      "metadata": {
        "id": "UHLgzelgfy9Q"
      },
      "outputs": [],
      "source": [
        "# libraries\n",
        "import pandas as pd\n",
        "import matplotlib.pyplot as plt\n",
        "import seaborn as sns\n",
        "import numpy as np"
      ]
    },
    {
      "cell_type": "code",
      "execution_count": 2,
      "metadata": {
        "id": "zSU9bDtyNhFa"
      },
      "outputs": [],
      "source": [
        "%matplotlib inline"
      ]
    },
    {
      "cell_type": "code",
      "execution_count": 3,
      "metadata": {
        "colab": {
          "base_uri": "https://localhost:8080/"
        },
        "id": "qyjzWN2RDf89",
        "outputId": "306e7d20-92cf-4ba6-880a-91744e1d3a4c"
      },
      "outputs": [
        {
          "output_type": "stream",
          "name": "stdout",
          "text": [
            "Using device: cuda\n"
          ]
        }
      ],
      "source": [
        "#--------------------------------\n",
        "# Device configuration\n",
        "#--------------------------------\n",
        "import torch\n",
        "\n",
        "device = torch.device('cuda' if torch.cuda.is_available() else 'cpu')\n",
        "print('Using device: %s'%device)"
      ]
    },
    {
      "cell_type": "code",
      "execution_count": 4,
      "metadata": {
        "colab": {
          "base_uri": "https://localhost:8080/"
        },
        "id": "P4nI8uUPU26L",
        "outputId": "9edf35c3-ebc6-4ea0-e89a-979a7a5143e6"
      },
      "outputs": [
        {
          "output_type": "stream",
          "name": "stdout",
          "text": [
            "Mounted at /content/gdrive\n"
          ]
        }
      ],
      "source": [
        "# https://www.aboutdatablog.com/post/how-to-successfully-add-large-data-sets-to-google-drive-and-use-them-in-google-colab\n",
        "# mounting google drive\n",
        "from google.colab import drive\n",
        "drive.mount('/content/gdrive', force_remount=True)\n",
        "\n"
      ]
    },
    {
      "cell_type": "code",
      "execution_count": null,
      "metadata": {
        "colab": {
          "base_uri": "https://localhost:8080/"
        },
        "id": "05VUERuCZyDp",
        "outputId": "617280c1-90ce-49a7-d6da-a95b00372d02"
      },
      "outputs": [
        {
          "output_type": "stream",
          "name": "stdout",
          "text": [
            "Archive:  gdrive/My Drive/ADM-HM2/archive.zip\n",
            "  inflating: instagram_locations.csv  \n",
            "  inflating: instagram_posts.csv     \n",
            "  inflating: instagram_profiles.csv  \n"
          ]
        }
      ],
      "source": [
        "# unzip files\n",
        "#!unzip gdrive/My\\ Drive/ADM-HW2/datahw1.zip\n",
        "!unzip gdrive/My\\ Drive/ADM-HM2/archive.zip\n",
        "#!unzip gdrive/My\\ Drive/SapienzaColab/ADM_Ass1/datahw1.zip\n"
      ]
    },
    {
      "cell_type": "markdown",
      "metadata": {
        "id": "Nulpal7Ig7C5"
      },
      "source": [
        "## *Research Questions*"
      ]
    },
    {
      "cell_type": "markdown",
      "metadata": {
        "id": "VEdOLrYW44YQ"
      },
      "source": [
        "### Research question 1: EDA\n",
        "We use the Instagram dataset provided by Kaggle (https://www.kaggle.com/datasets/shmalex/instagram-dataset?select=instagram_profiles.csv). As Kaggle shows, the dataset is collected data from 2019. It provides information of 1 204 583 locations over the world, 4 509 586 different people and business, and 42 710 197 different posts with information about their location, user, date, number of likes, etc.\n",
        "This information is given in 3 different comma separated files.\n",
        "\n",
        "* The locations file provides 23 different parameters;\n",
        "*   The posts file provides 10 different parameters;\n",
        "*   The profiles file provides 11 different parameters.\n",
        "\n",
        "\n",
        "In this first research question, we will look into the provided datasets, so we will understand with what data we are working with. "
      ]
    },
    {
      "cell_type": "code",
      "source": [
        "# load the datasets\n",
        "df_locations = pd.read_csv(\"instagram_locations.csv\", delimiter = '\\t')\n",
        "df_locations.head(5)"
      ],
      "metadata": {
        "id": "ZEZK3R4G5N5w",
        "colab": {
          "base_uri": "https://localhost:8080/",
          "height": 491
        },
        "outputId": "4afc48d6-b240-4ee5-c658-8230aa9d856a"
      },
      "execution_count": null,
      "outputs": [
        {
          "output_type": "execute_result",
          "data": {
            "text/plain": [
              "      sid               id                                               name  \\\n",
              "0  719981  110296492939207                 Playa de Daimuz - Valencia, España   \n",
              "1  719983        274391278                                        Nová Vieska   \n",
              "2  719985  148885595789195                                      Everest Today   \n",
              "3  719987        263258277  BULAC - Bibliothèque universitaire des langues...   \n",
              "4  326443  406147529857708                           ABC Cable Networks Group   \n",
              "\n",
              "                       street    zip                 city region   cd  \\\n",
              "0                         NaN    NaN                  NaN    NaN  NaN   \n",
              "1                         NaN    NaN          Nová Vieska    NaN   SK   \n",
              "2                   Himalayas   +977     Kathmandu, Nepal    NaN   NP   \n",
              "3  65, rue des Grands-Moulins  75013        Paris, France    NaN   FR   \n",
              "4          3800 W Alameda Ave  91505  Burbank, California    NaN   US   \n",
              "\n",
              "            phone aj_exact_city_match  ...               dir_city_name  \\\n",
              "0             NaN               False  ...                         NaN   \n",
              "1             NaN                True  ...                  Kis-Újfalu   \n",
              "2             NaN               False  ...                    Pasupati   \n",
              "3  01 81 69 18 00               False  ...  13ème Arrondissement Paris   \n",
              "4  (818) 569-7500               False  ...                         NaN   \n",
              "\n",
              "                dir_city_slug dir_country_id dir_country_name         lat  \\\n",
              "0                         NaN            NaN              NaN   -0.139475   \n",
              "1                  kis-ujfalu             SK         Slovakia   18.466667   \n",
              "2                    pasupati             NP            Nepal   85.330150   \n",
              "3  13eme-arrondissement-paris             FR           France    2.375995   \n",
              "4                         NaN            NaN              NaN -118.341864   \n",
              "\n",
              "         lng primary_alias_on_fb  \\\n",
              "0  38.974391         daimuzplaya   \n",
              "1  47.866667                 NaN   \n",
              "2  27.701960        EverestToday   \n",
              "3  48.827240         BULAC.Paris   \n",
              "4  34.153265                 NaN   \n",
              "\n",
              "                                                slug  \\\n",
              "0                    playa-de-daimuz-valencia-espana   \n",
              "1                                        nova-vieska   \n",
              "2                                      everest-today   \n",
              "3  bulac-bibliotheque-universitaire-des-langues-e...   \n",
              "4                           abc-cable-networks-group   \n",
              "\n",
              "                                website                      cts  \n",
              "0  https://es.wikipedia.org/wiki/Daimuz  2019-05-29 01:21:29.987  \n",
              "1                                   NaN  2019-05-29 01:21:38.037  \n",
              "2                                   NaN  2019-05-29 01:21:46.295  \n",
              "3                          www.bulac.fr  2019-05-29 01:21:54.355  \n",
              "4                                   NaN  2019-04-02 15:22:55.703  \n",
              "\n",
              "[5 rows x 23 columns]"
            ],
            "text/html": [
              "\n",
              "  <div id=\"df-578df865-26f4-4be5-ac3f-e3bac94ec8ed\">\n",
              "    <div class=\"colab-df-container\">\n",
              "      <div>\n",
              "<style scoped>\n",
              "    .dataframe tbody tr th:only-of-type {\n",
              "        vertical-align: middle;\n",
              "    }\n",
              "\n",
              "    .dataframe tbody tr th {\n",
              "        vertical-align: top;\n",
              "    }\n",
              "\n",
              "    .dataframe thead th {\n",
              "        text-align: right;\n",
              "    }\n",
              "</style>\n",
              "<table border=\"1\" class=\"dataframe\">\n",
              "  <thead>\n",
              "    <tr style=\"text-align: right;\">\n",
              "      <th></th>\n",
              "      <th>sid</th>\n",
              "      <th>id</th>\n",
              "      <th>name</th>\n",
              "      <th>street</th>\n",
              "      <th>zip</th>\n",
              "      <th>city</th>\n",
              "      <th>region</th>\n",
              "      <th>cd</th>\n",
              "      <th>phone</th>\n",
              "      <th>aj_exact_city_match</th>\n",
              "      <th>...</th>\n",
              "      <th>dir_city_name</th>\n",
              "      <th>dir_city_slug</th>\n",
              "      <th>dir_country_id</th>\n",
              "      <th>dir_country_name</th>\n",
              "      <th>lat</th>\n",
              "      <th>lng</th>\n",
              "      <th>primary_alias_on_fb</th>\n",
              "      <th>slug</th>\n",
              "      <th>website</th>\n",
              "      <th>cts</th>\n",
              "    </tr>\n",
              "  </thead>\n",
              "  <tbody>\n",
              "    <tr>\n",
              "      <th>0</th>\n",
              "      <td>719981</td>\n",
              "      <td>110296492939207</td>\n",
              "      <td>Playa de Daimuz - Valencia, España</td>\n",
              "      <td>NaN</td>\n",
              "      <td>NaN</td>\n",
              "      <td>NaN</td>\n",
              "      <td>NaN</td>\n",
              "      <td>NaN</td>\n",
              "      <td>NaN</td>\n",
              "      <td>False</td>\n",
              "      <td>...</td>\n",
              "      <td>NaN</td>\n",
              "      <td>NaN</td>\n",
              "      <td>NaN</td>\n",
              "      <td>NaN</td>\n",
              "      <td>-0.139475</td>\n",
              "      <td>38.974391</td>\n",
              "      <td>daimuzplaya</td>\n",
              "      <td>playa-de-daimuz-valencia-espana</td>\n",
              "      <td>https://es.wikipedia.org/wiki/Daimuz</td>\n",
              "      <td>2019-05-29 01:21:29.987</td>\n",
              "    </tr>\n",
              "    <tr>\n",
              "      <th>1</th>\n",
              "      <td>719983</td>\n",
              "      <td>274391278</td>\n",
              "      <td>Nová Vieska</td>\n",
              "      <td>NaN</td>\n",
              "      <td>NaN</td>\n",
              "      <td>Nová Vieska</td>\n",
              "      <td>NaN</td>\n",
              "      <td>SK</td>\n",
              "      <td>NaN</td>\n",
              "      <td>True</td>\n",
              "      <td>...</td>\n",
              "      <td>Kis-Újfalu</td>\n",
              "      <td>kis-ujfalu</td>\n",
              "      <td>SK</td>\n",
              "      <td>Slovakia</td>\n",
              "      <td>18.466667</td>\n",
              "      <td>47.866667</td>\n",
              "      <td>NaN</td>\n",
              "      <td>nova-vieska</td>\n",
              "      <td>NaN</td>\n",
              "      <td>2019-05-29 01:21:38.037</td>\n",
              "    </tr>\n",
              "    <tr>\n",
              "      <th>2</th>\n",
              "      <td>719985</td>\n",
              "      <td>148885595789195</td>\n",
              "      <td>Everest Today</td>\n",
              "      <td>Himalayas</td>\n",
              "      <td>+977</td>\n",
              "      <td>Kathmandu, Nepal</td>\n",
              "      <td>NaN</td>\n",
              "      <td>NP</td>\n",
              "      <td>NaN</td>\n",
              "      <td>False</td>\n",
              "      <td>...</td>\n",
              "      <td>Pasupati</td>\n",
              "      <td>pasupati</td>\n",
              "      <td>NP</td>\n",
              "      <td>Nepal</td>\n",
              "      <td>85.330150</td>\n",
              "      <td>27.701960</td>\n",
              "      <td>EverestToday</td>\n",
              "      <td>everest-today</td>\n",
              "      <td>NaN</td>\n",
              "      <td>2019-05-29 01:21:46.295</td>\n",
              "    </tr>\n",
              "    <tr>\n",
              "      <th>3</th>\n",
              "      <td>719987</td>\n",
              "      <td>263258277</td>\n",
              "      <td>BULAC - Bibliothèque universitaire des langues...</td>\n",
              "      <td>65, rue des Grands-Moulins</td>\n",
              "      <td>75013</td>\n",
              "      <td>Paris, France</td>\n",
              "      <td>NaN</td>\n",
              "      <td>FR</td>\n",
              "      <td>01 81 69 18 00</td>\n",
              "      <td>False</td>\n",
              "      <td>...</td>\n",
              "      <td>13ème Arrondissement Paris</td>\n",
              "      <td>13eme-arrondissement-paris</td>\n",
              "      <td>FR</td>\n",
              "      <td>France</td>\n",
              "      <td>2.375995</td>\n",
              "      <td>48.827240</td>\n",
              "      <td>BULAC.Paris</td>\n",
              "      <td>bulac-bibliotheque-universitaire-des-langues-e...</td>\n",
              "      <td>www.bulac.fr</td>\n",
              "      <td>2019-05-29 01:21:54.355</td>\n",
              "    </tr>\n",
              "    <tr>\n",
              "      <th>4</th>\n",
              "      <td>326443</td>\n",
              "      <td>406147529857708</td>\n",
              "      <td>ABC Cable Networks Group</td>\n",
              "      <td>3800 W Alameda Ave</td>\n",
              "      <td>91505</td>\n",
              "      <td>Burbank, California</td>\n",
              "      <td>NaN</td>\n",
              "      <td>US</td>\n",
              "      <td>(818) 569-7500</td>\n",
              "      <td>False</td>\n",
              "      <td>...</td>\n",
              "      <td>NaN</td>\n",
              "      <td>NaN</td>\n",
              "      <td>NaN</td>\n",
              "      <td>NaN</td>\n",
              "      <td>-118.341864</td>\n",
              "      <td>34.153265</td>\n",
              "      <td>NaN</td>\n",
              "      <td>abc-cable-networks-group</td>\n",
              "      <td>NaN</td>\n",
              "      <td>2019-04-02 15:22:55.703</td>\n",
              "    </tr>\n",
              "  </tbody>\n",
              "</table>\n",
              "<p>5 rows × 23 columns</p>\n",
              "</div>\n",
              "      <button class=\"colab-df-convert\" onclick=\"convertToInteractive('df-578df865-26f4-4be5-ac3f-e3bac94ec8ed')\"\n",
              "              title=\"Convert this dataframe to an interactive table.\"\n",
              "              style=\"display:none;\">\n",
              "        \n",
              "  <svg xmlns=\"http://www.w3.org/2000/svg\" height=\"24px\"viewBox=\"0 0 24 24\"\n",
              "       width=\"24px\">\n",
              "    <path d=\"M0 0h24v24H0V0z\" fill=\"none\"/>\n",
              "    <path d=\"M18.56 5.44l.94 2.06.94-2.06 2.06-.94-2.06-.94-.94-2.06-.94 2.06-2.06.94zm-11 1L8.5 8.5l.94-2.06 2.06-.94-2.06-.94L8.5 2.5l-.94 2.06-2.06.94zm10 10l.94 2.06.94-2.06 2.06-.94-2.06-.94-.94-2.06-.94 2.06-2.06.94z\"/><path d=\"M17.41 7.96l-1.37-1.37c-.4-.4-.92-.59-1.43-.59-.52 0-1.04.2-1.43.59L10.3 9.45l-7.72 7.72c-.78.78-.78 2.05 0 2.83L4 21.41c.39.39.9.59 1.41.59.51 0 1.02-.2 1.41-.59l7.78-7.78 2.81-2.81c.8-.78.8-2.07 0-2.86zM5.41 20L4 18.59l7.72-7.72 1.47 1.35L5.41 20z\"/>\n",
              "  </svg>\n",
              "      </button>\n",
              "      \n",
              "  <style>\n",
              "    .colab-df-container {\n",
              "      display:flex;\n",
              "      flex-wrap:wrap;\n",
              "      gap: 12px;\n",
              "    }\n",
              "\n",
              "    .colab-df-convert {\n",
              "      background-color: #E8F0FE;\n",
              "      border: none;\n",
              "      border-radius: 50%;\n",
              "      cursor: pointer;\n",
              "      display: none;\n",
              "      fill: #1967D2;\n",
              "      height: 32px;\n",
              "      padding: 0 0 0 0;\n",
              "      width: 32px;\n",
              "    }\n",
              "\n",
              "    .colab-df-convert:hover {\n",
              "      background-color: #E2EBFA;\n",
              "      box-shadow: 0px 1px 2px rgba(60, 64, 67, 0.3), 0px 1px 3px 1px rgba(60, 64, 67, 0.15);\n",
              "      fill: #174EA6;\n",
              "    }\n",
              "\n",
              "    [theme=dark] .colab-df-convert {\n",
              "      background-color: #3B4455;\n",
              "      fill: #D2E3FC;\n",
              "    }\n",
              "\n",
              "    [theme=dark] .colab-df-convert:hover {\n",
              "      background-color: #434B5C;\n",
              "      box-shadow: 0px 1px 3px 1px rgba(0, 0, 0, 0.15);\n",
              "      filter: drop-shadow(0px 1px 2px rgba(0, 0, 0, 0.3));\n",
              "      fill: #FFFFFF;\n",
              "    }\n",
              "  </style>\n",
              "\n",
              "      <script>\n",
              "        const buttonEl =\n",
              "          document.querySelector('#df-578df865-26f4-4be5-ac3f-e3bac94ec8ed button.colab-df-convert');\n",
              "        buttonEl.style.display =\n",
              "          google.colab.kernel.accessAllowed ? 'block' : 'none';\n",
              "\n",
              "        async function convertToInteractive(key) {\n",
              "          const element = document.querySelector('#df-578df865-26f4-4be5-ac3f-e3bac94ec8ed');\n",
              "          const dataTable =\n",
              "            await google.colab.kernel.invokeFunction('convertToInteractive',\n",
              "                                                     [key], {});\n",
              "          if (!dataTable) return;\n",
              "\n",
              "          const docLinkHtml = 'Like what you see? Visit the ' +\n",
              "            '<a target=\"_blank\" href=https://colab.research.google.com/notebooks/data_table.ipynb>data table notebook</a>'\n",
              "            + ' to learn more about interactive tables.';\n",
              "          element.innerHTML = '';\n",
              "          dataTable['output_type'] = 'display_data';\n",
              "          await google.colab.output.renderOutput(dataTable, element);\n",
              "          const docLink = document.createElement('div');\n",
              "          docLink.innerHTML = docLinkHtml;\n",
              "          element.appendChild(docLink);\n",
              "        }\n",
              "      </script>\n",
              "    </div>\n",
              "  </div>\n",
              "  "
            ]
          },
          "metadata": {},
          "execution_count": 10
        }
      ]
    },
    {
      "cell_type": "code",
      "source": [
        "df_profiles = pd.read_csv(\"instagram_profiles.csv\", delimiter = '\\t')\n",
        "df_profiles.head(5)"
      ],
      "metadata": {
        "id": "WVeZtXmu5Pdh",
        "colab": {
          "base_uri": "https://localhost:8080/",
          "height": 337
        },
        "outputId": "82fadd92-e52b-4157-a9cd-d58b74fafeee"
      },
      "execution_count": null,
      "outputs": [
        {
          "output_type": "execute_result",
          "data": {
            "text/plain": [
              "       sid    profile_id      profile_name firstname_lastname  \\\n",
              "0  4184446  4.721050e+09       jphillip033        John Pierce   \n",
              "1  4184457  5.905830e+08         mama_haas             Deanna   \n",
              "2  4184460  1.074147e+09  yellowlightbreen         Eliza Gray   \n",
              "3  4184461  1.472039e+09           tec1025       Thomas Clark   \n",
              "4  4184462  3.531421e+09        luckyfluff                NaN   \n",
              "\n",
              "                                         description  following  followers  \\\n",
              "0                       \"Document Everything Always\"      250.0      146.0   \n",
              "1  Trying to enjoy the simple things in life. Kni...      534.0     1145.0   \n",
              "2                                Maine is for Lovers      469.0      324.0   \n",
              "3                                                NaN        NaN        NaN   \n",
              "4                                                NaN        NaN        NaN   \n",
              "\n",
              "   n_posts                           url                            cts  \\\n",
              "0    170.0                           NaN  2019-08-01 14:38:55.394 -0400   \n",
              "1   2878.0  www.etsy.com/shop/MamaHaas69  2019-08-01 14:39:36.526 -0400   \n",
              "2    431.0             elizajanegray.com  2019-08-01 14:39:54.407 -0400   \n",
              "3      NaN                           NaN  2019-08-01 14:40:06.472 -0400   \n",
              "4      NaN                           NaN  2019-08-01 14:40:07.806 -0400   \n",
              "\n",
              "  is_business_account  \n",
              "0               False  \n",
              "1               False  \n",
              "2               False  \n",
              "3                 NaN  \n",
              "4                 NaN  "
            ],
            "text/html": [
              "\n",
              "  <div id=\"df-5040264c-80b4-4777-9eb2-77460af34d52\">\n",
              "    <div class=\"colab-df-container\">\n",
              "      <div>\n",
              "<style scoped>\n",
              "    .dataframe tbody tr th:only-of-type {\n",
              "        vertical-align: middle;\n",
              "    }\n",
              "\n",
              "    .dataframe tbody tr th {\n",
              "        vertical-align: top;\n",
              "    }\n",
              "\n",
              "    .dataframe thead th {\n",
              "        text-align: right;\n",
              "    }\n",
              "</style>\n",
              "<table border=\"1\" class=\"dataframe\">\n",
              "  <thead>\n",
              "    <tr style=\"text-align: right;\">\n",
              "      <th></th>\n",
              "      <th>sid</th>\n",
              "      <th>profile_id</th>\n",
              "      <th>profile_name</th>\n",
              "      <th>firstname_lastname</th>\n",
              "      <th>description</th>\n",
              "      <th>following</th>\n",
              "      <th>followers</th>\n",
              "      <th>n_posts</th>\n",
              "      <th>url</th>\n",
              "      <th>cts</th>\n",
              "      <th>is_business_account</th>\n",
              "    </tr>\n",
              "  </thead>\n",
              "  <tbody>\n",
              "    <tr>\n",
              "      <th>0</th>\n",
              "      <td>4184446</td>\n",
              "      <td>4.721050e+09</td>\n",
              "      <td>jphillip033</td>\n",
              "      <td>John Pierce</td>\n",
              "      <td>\"Document Everything Always\"</td>\n",
              "      <td>250.0</td>\n",
              "      <td>146.0</td>\n",
              "      <td>170.0</td>\n",
              "      <td>NaN</td>\n",
              "      <td>2019-08-01 14:38:55.394 -0400</td>\n",
              "      <td>False</td>\n",
              "    </tr>\n",
              "    <tr>\n",
              "      <th>1</th>\n",
              "      <td>4184457</td>\n",
              "      <td>5.905830e+08</td>\n",
              "      <td>mama_haas</td>\n",
              "      <td>Deanna</td>\n",
              "      <td>Trying to enjoy the simple things in life. Kni...</td>\n",
              "      <td>534.0</td>\n",
              "      <td>1145.0</td>\n",
              "      <td>2878.0</td>\n",
              "      <td>www.etsy.com/shop/MamaHaas69</td>\n",
              "      <td>2019-08-01 14:39:36.526 -0400</td>\n",
              "      <td>False</td>\n",
              "    </tr>\n",
              "    <tr>\n",
              "      <th>2</th>\n",
              "      <td>4184460</td>\n",
              "      <td>1.074147e+09</td>\n",
              "      <td>yellowlightbreen</td>\n",
              "      <td>Eliza Gray</td>\n",
              "      <td>Maine is for Lovers</td>\n",
              "      <td>469.0</td>\n",
              "      <td>324.0</td>\n",
              "      <td>431.0</td>\n",
              "      <td>elizajanegray.com</td>\n",
              "      <td>2019-08-01 14:39:54.407 -0400</td>\n",
              "      <td>False</td>\n",
              "    </tr>\n",
              "    <tr>\n",
              "      <th>3</th>\n",
              "      <td>4184461</td>\n",
              "      <td>1.472039e+09</td>\n",
              "      <td>tec1025</td>\n",
              "      <td>Thomas Clark</td>\n",
              "      <td>NaN</td>\n",
              "      <td>NaN</td>\n",
              "      <td>NaN</td>\n",
              "      <td>NaN</td>\n",
              "      <td>NaN</td>\n",
              "      <td>2019-08-01 14:40:06.472 -0400</td>\n",
              "      <td>NaN</td>\n",
              "    </tr>\n",
              "    <tr>\n",
              "      <th>4</th>\n",
              "      <td>4184462</td>\n",
              "      <td>3.531421e+09</td>\n",
              "      <td>luckyfluff</td>\n",
              "      <td>NaN</td>\n",
              "      <td>NaN</td>\n",
              "      <td>NaN</td>\n",
              "      <td>NaN</td>\n",
              "      <td>NaN</td>\n",
              "      <td>NaN</td>\n",
              "      <td>2019-08-01 14:40:07.806 -0400</td>\n",
              "      <td>NaN</td>\n",
              "    </tr>\n",
              "  </tbody>\n",
              "</table>\n",
              "</div>\n",
              "      <button class=\"colab-df-convert\" onclick=\"convertToInteractive('df-5040264c-80b4-4777-9eb2-77460af34d52')\"\n",
              "              title=\"Convert this dataframe to an interactive table.\"\n",
              "              style=\"display:none;\">\n",
              "        \n",
              "  <svg xmlns=\"http://www.w3.org/2000/svg\" height=\"24px\"viewBox=\"0 0 24 24\"\n",
              "       width=\"24px\">\n",
              "    <path d=\"M0 0h24v24H0V0z\" fill=\"none\"/>\n",
              "    <path d=\"M18.56 5.44l.94 2.06.94-2.06 2.06-.94-2.06-.94-.94-2.06-.94 2.06-2.06.94zm-11 1L8.5 8.5l.94-2.06 2.06-.94-2.06-.94L8.5 2.5l-.94 2.06-2.06.94zm10 10l.94 2.06.94-2.06 2.06-.94-2.06-.94-.94-2.06-.94 2.06-2.06.94z\"/><path d=\"M17.41 7.96l-1.37-1.37c-.4-.4-.92-.59-1.43-.59-.52 0-1.04.2-1.43.59L10.3 9.45l-7.72 7.72c-.78.78-.78 2.05 0 2.83L4 21.41c.39.39.9.59 1.41.59.51 0 1.02-.2 1.41-.59l7.78-7.78 2.81-2.81c.8-.78.8-2.07 0-2.86zM5.41 20L4 18.59l7.72-7.72 1.47 1.35L5.41 20z\"/>\n",
              "  </svg>\n",
              "      </button>\n",
              "      \n",
              "  <style>\n",
              "    .colab-df-container {\n",
              "      display:flex;\n",
              "      flex-wrap:wrap;\n",
              "      gap: 12px;\n",
              "    }\n",
              "\n",
              "    .colab-df-convert {\n",
              "      background-color: #E8F0FE;\n",
              "      border: none;\n",
              "      border-radius: 50%;\n",
              "      cursor: pointer;\n",
              "      display: none;\n",
              "      fill: #1967D2;\n",
              "      height: 32px;\n",
              "      padding: 0 0 0 0;\n",
              "      width: 32px;\n",
              "    }\n",
              "\n",
              "    .colab-df-convert:hover {\n",
              "      background-color: #E2EBFA;\n",
              "      box-shadow: 0px 1px 2px rgba(60, 64, 67, 0.3), 0px 1px 3px 1px rgba(60, 64, 67, 0.15);\n",
              "      fill: #174EA6;\n",
              "    }\n",
              "\n",
              "    [theme=dark] .colab-df-convert {\n",
              "      background-color: #3B4455;\n",
              "      fill: #D2E3FC;\n",
              "    }\n",
              "\n",
              "    [theme=dark] .colab-df-convert:hover {\n",
              "      background-color: #434B5C;\n",
              "      box-shadow: 0px 1px 3px 1px rgba(0, 0, 0, 0.15);\n",
              "      filter: drop-shadow(0px 1px 2px rgba(0, 0, 0, 0.3));\n",
              "      fill: #FFFFFF;\n",
              "    }\n",
              "  </style>\n",
              "\n",
              "      <script>\n",
              "        const buttonEl =\n",
              "          document.querySelector('#df-5040264c-80b4-4777-9eb2-77460af34d52 button.colab-df-convert');\n",
              "        buttonEl.style.display =\n",
              "          google.colab.kernel.accessAllowed ? 'block' : 'none';\n",
              "\n",
              "        async function convertToInteractive(key) {\n",
              "          const element = document.querySelector('#df-5040264c-80b4-4777-9eb2-77460af34d52');\n",
              "          const dataTable =\n",
              "            await google.colab.kernel.invokeFunction('convertToInteractive',\n",
              "                                                     [key], {});\n",
              "          if (!dataTable) return;\n",
              "\n",
              "          const docLinkHtml = 'Like what you see? Visit the ' +\n",
              "            '<a target=\"_blank\" href=https://colab.research.google.com/notebooks/data_table.ipynb>data table notebook</a>'\n",
              "            + ' to learn more about interactive tables.';\n",
              "          element.innerHTML = '';\n",
              "          dataTable['output_type'] = 'display_data';\n",
              "          await google.colab.output.renderOutput(dataTable, element);\n",
              "          const docLink = document.createElement('div');\n",
              "          docLink.innerHTML = docLinkHtml;\n",
              "          element.appendChild(docLink);\n",
              "        }\n",
              "      </script>\n",
              "    </div>\n",
              "  </div>\n",
              "  "
            ]
          },
          "metadata": {},
          "execution_count": 11
        }
      ]
    },
    {
      "cell_type": "code",
      "source": [
        "df_posts = pd.read_csv(\"instagram_posts.csv\", delimiter = '\\t', nrows = 5000000)\n",
        "df_posts.head(5)"
      ],
      "metadata": {
        "id": "eTCG5xhI5SAR",
        "colab": {
          "base_uri": "https://localhost:8080/",
          "height": 206
        },
        "outputId": "90314160-aa29-4c9f-9ec0-9c78288d3682"
      },
      "execution_count": null,
      "outputs": [
        {
          "output_type": "execute_result",
          "data": {
            "text/plain": [
              "        sid  sid_profile      post_id    profile_id   location_id  \\\n",
              "0  28370919      3496776  BXdjjUlgcgq  2.237948e+09  1.022366e+15   \n",
              "1  28370932           -1  BVg0pbolYBC  5.579335e+09  4.574268e+14   \n",
              "2  28370933           -1  BRgkjcXFp3Q  3.134296e+08  4.574268e+14   \n",
              "3  28370934           -1  BKTKeNhjEA7  1.837593e+09  4.574268e+14   \n",
              "4  28370935           -1   8-NQrvoYLX  1.131527e+09  4.574268e+14   \n",
              "\n",
              "                       cts  post_type  \\\n",
              "0  2017-08-06 20:06:57.000          2   \n",
              "1  2017-06-19 09:31:16.000          1   \n",
              "2  2017-03-11 20:05:03.000          1   \n",
              "3  2016-09-13 16:27:16.000          1   \n",
              "4  2015-10-18 10:19:27.000          1   \n",
              "\n",
              "                                         description  numbr_likes  \\\n",
              "0  Wreckloose! Deevalley bike park laps on the @i...           80   \n",
              "1  🙌🏼 believe in ya dreams 🙌🏼 just like I believe...           25   \n",
              "2  #meraviglia #incensi #the #candele #profumo #a...            9   \n",
              "3  #teatime #scorpion #friends #love #mountains #...            4   \n",
              "4                   thE sky gavE mE a #constEllation            8   \n",
              "\n",
              "   number_comments  \n",
              "0                0  \n",
              "1                1  \n",
              "2                0  \n",
              "3                0  \n",
              "4                0  "
            ],
            "text/html": [
              "\n",
              "  <div id=\"df-41bfd520-d03f-40e7-a954-c27c029a90c1\">\n",
              "    <div class=\"colab-df-container\">\n",
              "      <div>\n",
              "<style scoped>\n",
              "    .dataframe tbody tr th:only-of-type {\n",
              "        vertical-align: middle;\n",
              "    }\n",
              "\n",
              "    .dataframe tbody tr th {\n",
              "        vertical-align: top;\n",
              "    }\n",
              "\n",
              "    .dataframe thead th {\n",
              "        text-align: right;\n",
              "    }\n",
              "</style>\n",
              "<table border=\"1\" class=\"dataframe\">\n",
              "  <thead>\n",
              "    <tr style=\"text-align: right;\">\n",
              "      <th></th>\n",
              "      <th>sid</th>\n",
              "      <th>sid_profile</th>\n",
              "      <th>post_id</th>\n",
              "      <th>profile_id</th>\n",
              "      <th>location_id</th>\n",
              "      <th>cts</th>\n",
              "      <th>post_type</th>\n",
              "      <th>description</th>\n",
              "      <th>numbr_likes</th>\n",
              "      <th>number_comments</th>\n",
              "    </tr>\n",
              "  </thead>\n",
              "  <tbody>\n",
              "    <tr>\n",
              "      <th>0</th>\n",
              "      <td>28370919</td>\n",
              "      <td>3496776</td>\n",
              "      <td>BXdjjUlgcgq</td>\n",
              "      <td>2.237948e+09</td>\n",
              "      <td>1.022366e+15</td>\n",
              "      <td>2017-08-06 20:06:57.000</td>\n",
              "      <td>2</td>\n",
              "      <td>Wreckloose! Deevalley bike park laps on the @i...</td>\n",
              "      <td>80</td>\n",
              "      <td>0</td>\n",
              "    </tr>\n",
              "    <tr>\n",
              "      <th>1</th>\n",
              "      <td>28370932</td>\n",
              "      <td>-1</td>\n",
              "      <td>BVg0pbolYBC</td>\n",
              "      <td>5.579335e+09</td>\n",
              "      <td>4.574268e+14</td>\n",
              "      <td>2017-06-19 09:31:16.000</td>\n",
              "      <td>1</td>\n",
              "      <td>🙌🏼 believe in ya dreams 🙌🏼 just like I believe...</td>\n",
              "      <td>25</td>\n",
              "      <td>1</td>\n",
              "    </tr>\n",
              "    <tr>\n",
              "      <th>2</th>\n",
              "      <td>28370933</td>\n",
              "      <td>-1</td>\n",
              "      <td>BRgkjcXFp3Q</td>\n",
              "      <td>3.134296e+08</td>\n",
              "      <td>4.574268e+14</td>\n",
              "      <td>2017-03-11 20:05:03.000</td>\n",
              "      <td>1</td>\n",
              "      <td>#meraviglia #incensi #the #candele #profumo #a...</td>\n",
              "      <td>9</td>\n",
              "      <td>0</td>\n",
              "    </tr>\n",
              "    <tr>\n",
              "      <th>3</th>\n",
              "      <td>28370934</td>\n",
              "      <td>-1</td>\n",
              "      <td>BKTKeNhjEA7</td>\n",
              "      <td>1.837593e+09</td>\n",
              "      <td>4.574268e+14</td>\n",
              "      <td>2016-09-13 16:27:16.000</td>\n",
              "      <td>1</td>\n",
              "      <td>#teatime #scorpion #friends #love #mountains #...</td>\n",
              "      <td>4</td>\n",
              "      <td>0</td>\n",
              "    </tr>\n",
              "    <tr>\n",
              "      <th>4</th>\n",
              "      <td>28370935</td>\n",
              "      <td>-1</td>\n",
              "      <td>8-NQrvoYLX</td>\n",
              "      <td>1.131527e+09</td>\n",
              "      <td>4.574268e+14</td>\n",
              "      <td>2015-10-18 10:19:27.000</td>\n",
              "      <td>1</td>\n",
              "      <td>thE sky gavE mE a #constEllation</td>\n",
              "      <td>8</td>\n",
              "      <td>0</td>\n",
              "    </tr>\n",
              "  </tbody>\n",
              "</table>\n",
              "</div>\n",
              "      <button class=\"colab-df-convert\" onclick=\"convertToInteractive('df-41bfd520-d03f-40e7-a954-c27c029a90c1')\"\n",
              "              title=\"Convert this dataframe to an interactive table.\"\n",
              "              style=\"display:none;\">\n",
              "        \n",
              "  <svg xmlns=\"http://www.w3.org/2000/svg\" height=\"24px\"viewBox=\"0 0 24 24\"\n",
              "       width=\"24px\">\n",
              "    <path d=\"M0 0h24v24H0V0z\" fill=\"none\"/>\n",
              "    <path d=\"M18.56 5.44l.94 2.06.94-2.06 2.06-.94-2.06-.94-.94-2.06-.94 2.06-2.06.94zm-11 1L8.5 8.5l.94-2.06 2.06-.94-2.06-.94L8.5 2.5l-.94 2.06-2.06.94zm10 10l.94 2.06.94-2.06 2.06-.94-2.06-.94-.94-2.06-.94 2.06-2.06.94z\"/><path d=\"M17.41 7.96l-1.37-1.37c-.4-.4-.92-.59-1.43-.59-.52 0-1.04.2-1.43.59L10.3 9.45l-7.72 7.72c-.78.78-.78 2.05 0 2.83L4 21.41c.39.39.9.59 1.41.59.51 0 1.02-.2 1.41-.59l7.78-7.78 2.81-2.81c.8-.78.8-2.07 0-2.86zM5.41 20L4 18.59l7.72-7.72 1.47 1.35L5.41 20z\"/>\n",
              "  </svg>\n",
              "      </button>\n",
              "      \n",
              "  <style>\n",
              "    .colab-df-container {\n",
              "      display:flex;\n",
              "      flex-wrap:wrap;\n",
              "      gap: 12px;\n",
              "    }\n",
              "\n",
              "    .colab-df-convert {\n",
              "      background-color: #E8F0FE;\n",
              "      border: none;\n",
              "      border-radius: 50%;\n",
              "      cursor: pointer;\n",
              "      display: none;\n",
              "      fill: #1967D2;\n",
              "      height: 32px;\n",
              "      padding: 0 0 0 0;\n",
              "      width: 32px;\n",
              "    }\n",
              "\n",
              "    .colab-df-convert:hover {\n",
              "      background-color: #E2EBFA;\n",
              "      box-shadow: 0px 1px 2px rgba(60, 64, 67, 0.3), 0px 1px 3px 1px rgba(60, 64, 67, 0.15);\n",
              "      fill: #174EA6;\n",
              "    }\n",
              "\n",
              "    [theme=dark] .colab-df-convert {\n",
              "      background-color: #3B4455;\n",
              "      fill: #D2E3FC;\n",
              "    }\n",
              "\n",
              "    [theme=dark] .colab-df-convert:hover {\n",
              "      background-color: #434B5C;\n",
              "      box-shadow: 0px 1px 3px 1px rgba(0, 0, 0, 0.15);\n",
              "      filter: drop-shadow(0px 1px 2px rgba(0, 0, 0, 0.3));\n",
              "      fill: #FFFFFF;\n",
              "    }\n",
              "  </style>\n",
              "\n",
              "      <script>\n",
              "        const buttonEl =\n",
              "          document.querySelector('#df-41bfd520-d03f-40e7-a954-c27c029a90c1 button.colab-df-convert');\n",
              "        buttonEl.style.display =\n",
              "          google.colab.kernel.accessAllowed ? 'block' : 'none';\n",
              "\n",
              "        async function convertToInteractive(key) {\n",
              "          const element = document.querySelector('#df-41bfd520-d03f-40e7-a954-c27c029a90c1');\n",
              "          const dataTable =\n",
              "            await google.colab.kernel.invokeFunction('convertToInteractive',\n",
              "                                                     [key], {});\n",
              "          if (!dataTable) return;\n",
              "\n",
              "          const docLinkHtml = 'Like what you see? Visit the ' +\n",
              "            '<a target=\"_blank\" href=https://colab.research.google.com/notebooks/data_table.ipynb>data table notebook</a>'\n",
              "            + ' to learn more about interactive tables.';\n",
              "          element.innerHTML = '';\n",
              "          dataTable['output_type'] = 'display_data';\n",
              "          await google.colab.output.renderOutput(dataTable, element);\n",
              "          const docLink = document.createElement('div');\n",
              "          docLink.innerHTML = docLinkHtml;\n",
              "          element.appendChild(docLink);\n",
              "        }\n",
              "      </script>\n",
              "    </div>\n",
              "  </div>\n",
              "  "
            ]
          },
          "metadata": {},
          "execution_count": 8
        }
      ]
    },
    {
      "cell_type": "code",
      "execution_count": null,
      "metadata": {
        "id": "DwvBWVgF-f1U",
        "colab": {
          "base_uri": "https://localhost:8080/",
          "height": 1000
        },
        "outputId": "88e3c453-a52f-479a-8e5d-8664d2a0c87f"
      },
      "outputs": [
        {
          "output_type": "execute_result",
          "data": {
            "text/plain": [
              "              sid  sid_profile      post_id    profile_id   location_id  \\\n",
              "0        28370919      3496776  BXdjjUlgcgq  2.237948e+09  1.022366e+15   \n",
              "1        28370932           -1  BVg0pbolYBC  5.579335e+09  4.574268e+14   \n",
              "2        28370933           -1  BRgkjcXFp3Q  3.134296e+08  4.574268e+14   \n",
              "3        28370934           -1  BKTKeNhjEA7  1.837593e+09  4.574268e+14   \n",
              "4        28370935           -1   8-NQrvoYLX  1.131527e+09  4.574268e+14   \n",
              "...           ...          ...          ...           ...           ...   \n",
              "2999995  31414319           -1  BuEwr57Bwom  2.289467e+08  5.944980e+08   \n",
              "2999996  31414320           -1  BuEwdrPhZCm  2.289467e+08  5.944980e+08   \n",
              "2999997  31414321           -1  BtqwTa9hG-G  2.289467e+08  5.944980e+08   \n",
              "2999998  31414322           -1  BtqwF_NBNea  2.289467e+08  5.944980e+08   \n",
              "2999999  31414366           -1  Bs0Op7ZgoCM  2.367284e+08  1.850074e+06   \n",
              "\n",
              "                             cts  post_type  \\\n",
              "0        2017-08-06 20:06:57.000          2   \n",
              "1        2017-06-19 09:31:16.000          1   \n",
              "2        2017-03-11 20:05:03.000          1   \n",
              "3        2016-09-13 16:27:16.000          1   \n",
              "4        2015-10-18 10:19:27.000          1   \n",
              "...                          ...        ...   \n",
              "2999995  2019-02-19 20:02:46.000          1   \n",
              "2999996  2019-02-19 20:00:49.000          1   \n",
              "2999997  2019-02-09 17:39:10.000          1   \n",
              "2999998  2019-02-09 17:37:20.000          1   \n",
              "2999999  2019-01-19 13:26:09.000          1   \n",
              "\n",
              "                                               description  numbr_likes  \\\n",
              "0        Wreckloose! Deevalley bike park laps on the @i...           80   \n",
              "1        🙌🏼 believe in ya dreams 🙌🏼 just like I believe...           25   \n",
              "2        #meraviglia #incensi #the #candele #profumo #a...            9   \n",
              "3        #teatime #scorpion #friends #love #mountains #...            4   \n",
              "4                         thE sky gavE mE a #constEllation            8   \n",
              "...                                                    ...          ...   \n",
              "2999995  Beating hard on the F1 in 25kts and one crew s...           34   \n",
              "2999996  Cracking day sailing Sunday past, some great s...           41   \n",
              "2999997  Having a drifting downwind dual with the Starf...           33   \n",
              "2999998  Back sailing last Sunday for the 2nd half of A...           24   \n",
              "2999999               Lovely brunch with Jen at Cafe Rouge           10   \n",
              "\n",
              "         number_comments  \n",
              "0                      0  \n",
              "1                      1  \n",
              "2                      0  \n",
              "3                      0  \n",
              "4                      0  \n",
              "...                  ...  \n",
              "2999995               10  \n",
              "2999996                3  \n",
              "2999997                1  \n",
              "2999998                0  \n",
              "2999999                0  \n",
              "\n",
              "[3000000 rows x 10 columns]"
            ],
            "text/html": [
              "\n",
              "  <div id=\"df-d32fb09a-b7bb-4bdc-960c-9e8a71106cdb\">\n",
              "    <div class=\"colab-df-container\">\n",
              "      <div>\n",
              "<style scoped>\n",
              "    .dataframe tbody tr th:only-of-type {\n",
              "        vertical-align: middle;\n",
              "    }\n",
              "\n",
              "    .dataframe tbody tr th {\n",
              "        vertical-align: top;\n",
              "    }\n",
              "\n",
              "    .dataframe thead th {\n",
              "        text-align: right;\n",
              "    }\n",
              "</style>\n",
              "<table border=\"1\" class=\"dataframe\">\n",
              "  <thead>\n",
              "    <tr style=\"text-align: right;\">\n",
              "      <th></th>\n",
              "      <th>sid</th>\n",
              "      <th>sid_profile</th>\n",
              "      <th>post_id</th>\n",
              "      <th>profile_id</th>\n",
              "      <th>location_id</th>\n",
              "      <th>cts</th>\n",
              "      <th>post_type</th>\n",
              "      <th>description</th>\n",
              "      <th>numbr_likes</th>\n",
              "      <th>number_comments</th>\n",
              "    </tr>\n",
              "  </thead>\n",
              "  <tbody>\n",
              "    <tr>\n",
              "      <th>0</th>\n",
              "      <td>28370919</td>\n",
              "      <td>3496776</td>\n",
              "      <td>BXdjjUlgcgq</td>\n",
              "      <td>2.237948e+09</td>\n",
              "      <td>1.022366e+15</td>\n",
              "      <td>2017-08-06 20:06:57.000</td>\n",
              "      <td>2</td>\n",
              "      <td>Wreckloose! Deevalley bike park laps on the @i...</td>\n",
              "      <td>80</td>\n",
              "      <td>0</td>\n",
              "    </tr>\n",
              "    <tr>\n",
              "      <th>1</th>\n",
              "      <td>28370932</td>\n",
              "      <td>-1</td>\n",
              "      <td>BVg0pbolYBC</td>\n",
              "      <td>5.579335e+09</td>\n",
              "      <td>4.574268e+14</td>\n",
              "      <td>2017-06-19 09:31:16.000</td>\n",
              "      <td>1</td>\n",
              "      <td>🙌🏼 believe in ya dreams 🙌🏼 just like I believe...</td>\n",
              "      <td>25</td>\n",
              "      <td>1</td>\n",
              "    </tr>\n",
              "    <tr>\n",
              "      <th>2</th>\n",
              "      <td>28370933</td>\n",
              "      <td>-1</td>\n",
              "      <td>BRgkjcXFp3Q</td>\n",
              "      <td>3.134296e+08</td>\n",
              "      <td>4.574268e+14</td>\n",
              "      <td>2017-03-11 20:05:03.000</td>\n",
              "      <td>1</td>\n",
              "      <td>#meraviglia #incensi #the #candele #profumo #a...</td>\n",
              "      <td>9</td>\n",
              "      <td>0</td>\n",
              "    </tr>\n",
              "    <tr>\n",
              "      <th>3</th>\n",
              "      <td>28370934</td>\n",
              "      <td>-1</td>\n",
              "      <td>BKTKeNhjEA7</td>\n",
              "      <td>1.837593e+09</td>\n",
              "      <td>4.574268e+14</td>\n",
              "      <td>2016-09-13 16:27:16.000</td>\n",
              "      <td>1</td>\n",
              "      <td>#teatime #scorpion #friends #love #mountains #...</td>\n",
              "      <td>4</td>\n",
              "      <td>0</td>\n",
              "    </tr>\n",
              "    <tr>\n",
              "      <th>4</th>\n",
              "      <td>28370935</td>\n",
              "      <td>-1</td>\n",
              "      <td>8-NQrvoYLX</td>\n",
              "      <td>1.131527e+09</td>\n",
              "      <td>4.574268e+14</td>\n",
              "      <td>2015-10-18 10:19:27.000</td>\n",
              "      <td>1</td>\n",
              "      <td>thE sky gavE mE a #constEllation</td>\n",
              "      <td>8</td>\n",
              "      <td>0</td>\n",
              "    </tr>\n",
              "    <tr>\n",
              "      <th>...</th>\n",
              "      <td>...</td>\n",
              "      <td>...</td>\n",
              "      <td>...</td>\n",
              "      <td>...</td>\n",
              "      <td>...</td>\n",
              "      <td>...</td>\n",
              "      <td>...</td>\n",
              "      <td>...</td>\n",
              "      <td>...</td>\n",
              "      <td>...</td>\n",
              "    </tr>\n",
              "    <tr>\n",
              "      <th>2999995</th>\n",
              "      <td>31414319</td>\n",
              "      <td>-1</td>\n",
              "      <td>BuEwr57Bwom</td>\n",
              "      <td>2.289467e+08</td>\n",
              "      <td>5.944980e+08</td>\n",
              "      <td>2019-02-19 20:02:46.000</td>\n",
              "      <td>1</td>\n",
              "      <td>Beating hard on the F1 in 25kts and one crew s...</td>\n",
              "      <td>34</td>\n",
              "      <td>10</td>\n",
              "    </tr>\n",
              "    <tr>\n",
              "      <th>2999996</th>\n",
              "      <td>31414320</td>\n",
              "      <td>-1</td>\n",
              "      <td>BuEwdrPhZCm</td>\n",
              "      <td>2.289467e+08</td>\n",
              "      <td>5.944980e+08</td>\n",
              "      <td>2019-02-19 20:00:49.000</td>\n",
              "      <td>1</td>\n",
              "      <td>Cracking day sailing Sunday past, some great s...</td>\n",
              "      <td>41</td>\n",
              "      <td>3</td>\n",
              "    </tr>\n",
              "    <tr>\n",
              "      <th>2999997</th>\n",
              "      <td>31414321</td>\n",
              "      <td>-1</td>\n",
              "      <td>BtqwTa9hG-G</td>\n",
              "      <td>2.289467e+08</td>\n",
              "      <td>5.944980e+08</td>\n",
              "      <td>2019-02-09 17:39:10.000</td>\n",
              "      <td>1</td>\n",
              "      <td>Having a drifting downwind dual with the Starf...</td>\n",
              "      <td>33</td>\n",
              "      <td>1</td>\n",
              "    </tr>\n",
              "    <tr>\n",
              "      <th>2999998</th>\n",
              "      <td>31414322</td>\n",
              "      <td>-1</td>\n",
              "      <td>BtqwF_NBNea</td>\n",
              "      <td>2.289467e+08</td>\n",
              "      <td>5.944980e+08</td>\n",
              "      <td>2019-02-09 17:37:20.000</td>\n",
              "      <td>1</td>\n",
              "      <td>Back sailing last Sunday for the 2nd half of A...</td>\n",
              "      <td>24</td>\n",
              "      <td>0</td>\n",
              "    </tr>\n",
              "    <tr>\n",
              "      <th>2999999</th>\n",
              "      <td>31414366</td>\n",
              "      <td>-1</td>\n",
              "      <td>Bs0Op7ZgoCM</td>\n",
              "      <td>2.367284e+08</td>\n",
              "      <td>1.850074e+06</td>\n",
              "      <td>2019-01-19 13:26:09.000</td>\n",
              "      <td>1</td>\n",
              "      <td>Lovely brunch with Jen at Cafe Rouge</td>\n",
              "      <td>10</td>\n",
              "      <td>0</td>\n",
              "    </tr>\n",
              "  </tbody>\n",
              "</table>\n",
              "<p>3000000 rows × 10 columns</p>\n",
              "</div>\n",
              "      <button class=\"colab-df-convert\" onclick=\"convertToInteractive('df-d32fb09a-b7bb-4bdc-960c-9e8a71106cdb')\"\n",
              "              title=\"Convert this dataframe to an interactive table.\"\n",
              "              style=\"display:none;\">\n",
              "        \n",
              "  <svg xmlns=\"http://www.w3.org/2000/svg\" height=\"24px\"viewBox=\"0 0 24 24\"\n",
              "       width=\"24px\">\n",
              "    <path d=\"M0 0h24v24H0V0z\" fill=\"none\"/>\n",
              "    <path d=\"M18.56 5.44l.94 2.06.94-2.06 2.06-.94-2.06-.94-.94-2.06-.94 2.06-2.06.94zm-11 1L8.5 8.5l.94-2.06 2.06-.94-2.06-.94L8.5 2.5l-.94 2.06-2.06.94zm10 10l.94 2.06.94-2.06 2.06-.94-2.06-.94-.94-2.06-.94 2.06-2.06.94z\"/><path d=\"M17.41 7.96l-1.37-1.37c-.4-.4-.92-.59-1.43-.59-.52 0-1.04.2-1.43.59L10.3 9.45l-7.72 7.72c-.78.78-.78 2.05 0 2.83L4 21.41c.39.39.9.59 1.41.59.51 0 1.02-.2 1.41-.59l7.78-7.78 2.81-2.81c.8-.78.8-2.07 0-2.86zM5.41 20L4 18.59l7.72-7.72 1.47 1.35L5.41 20z\"/>\n",
              "  </svg>\n",
              "      </button>\n",
              "      \n",
              "  <style>\n",
              "    .colab-df-container {\n",
              "      display:flex;\n",
              "      flex-wrap:wrap;\n",
              "      gap: 12px;\n",
              "    }\n",
              "\n",
              "    .colab-df-convert {\n",
              "      background-color: #E8F0FE;\n",
              "      border: none;\n",
              "      border-radius: 50%;\n",
              "      cursor: pointer;\n",
              "      display: none;\n",
              "      fill: #1967D2;\n",
              "      height: 32px;\n",
              "      padding: 0 0 0 0;\n",
              "      width: 32px;\n",
              "    }\n",
              "\n",
              "    .colab-df-convert:hover {\n",
              "      background-color: #E2EBFA;\n",
              "      box-shadow: 0px 1px 2px rgba(60, 64, 67, 0.3), 0px 1px 3px 1px rgba(60, 64, 67, 0.15);\n",
              "      fill: #174EA6;\n",
              "    }\n",
              "\n",
              "    [theme=dark] .colab-df-convert {\n",
              "      background-color: #3B4455;\n",
              "      fill: #D2E3FC;\n",
              "    }\n",
              "\n",
              "    [theme=dark] .colab-df-convert:hover {\n",
              "      background-color: #434B5C;\n",
              "      box-shadow: 0px 1px 3px 1px rgba(0, 0, 0, 0.15);\n",
              "      filter: drop-shadow(0px 1px 2px rgba(0, 0, 0, 0.3));\n",
              "      fill: #FFFFFF;\n",
              "    }\n",
              "  </style>\n",
              "\n",
              "      <script>\n",
              "        const buttonEl =\n",
              "          document.querySelector('#df-d32fb09a-b7bb-4bdc-960c-9e8a71106cdb button.colab-df-convert');\n",
              "        buttonEl.style.display =\n",
              "          google.colab.kernel.accessAllowed ? 'block' : 'none';\n",
              "\n",
              "        async function convertToInteractive(key) {\n",
              "          const element = document.querySelector('#df-d32fb09a-b7bb-4bdc-960c-9e8a71106cdb');\n",
              "          const dataTable =\n",
              "            await google.colab.kernel.invokeFunction('convertToInteractive',\n",
              "                                                     [key], {});\n",
              "          if (!dataTable) return;\n",
              "\n",
              "          const docLinkHtml = 'Like what you see? Visit the ' +\n",
              "            '<a target=\"_blank\" href=https://colab.research.google.com/notebooks/data_table.ipynb>data table notebook</a>'\n",
              "            + ' to learn more about interactive tables.';\n",
              "          element.innerHTML = '';\n",
              "          dataTable['output_type'] = 'display_data';\n",
              "          await google.colab.output.renderOutput(dataTable, element);\n",
              "          const docLink = document.createElement('div');\n",
              "          docLink.innerHTML = docLinkHtml;\n",
              "          element.appendChild(docLink);\n",
              "        }\n",
              "      </script>\n",
              "    </div>\n",
              "  </div>\n",
              "  "
            ]
          },
          "metadata": {},
          "execution_count": 17
        }
      ],
      "source": [
        "# first we check and remove any duplicates in the dataset\n",
        "df_locations.drop_duplicates()\n",
        "df_profiles.drop_duplicates()\n",
        "df_posts.drop_duplicates()"
      ]
    },
    {
      "cell_type": "markdown",
      "metadata": {
        "id": "MhSt5wopEwuS"
      },
      "source": [
        "First, we will determine the datatypes of the parameters that are given to us. In our opinion, the datatypes match the description of the given data on Kaggle, so we will not change any of the datatypes."
      ]
    },
    {
      "cell_type": "code",
      "execution_count": null,
      "metadata": {
        "id": "5nNbxSJKE3XK",
        "colab": {
          "base_uri": "https://localhost:8080/"
        },
        "outputId": "559f5886-81e9-4cab-a37e-b93a47cdc560"
      },
      "outputs": [
        {
          "output_type": "stream",
          "name": "stdout",
          "text": [
            "sid                         int64\n",
            "id                          int64\n",
            "name                       object\n",
            "street                     object\n",
            "zip                        object\n",
            "city                       object\n",
            "region                     object\n",
            "cd                         object\n",
            "phone                      object\n",
            "aj_exact_city_match        object\n",
            "aj_exact_country_match     object\n",
            "blurb                      object\n",
            "dir_city_id                object\n",
            "dir_city_name              object\n",
            "dir_city_slug              object\n",
            "dir_country_id             object\n",
            "dir_country_name           object\n",
            "lat                       float64\n",
            "lng                       float64\n",
            "primary_alias_on_fb        object\n",
            "slug                       object\n",
            "website                    object\n",
            "cts                        object\n",
            "dtype: object\n",
            "sid                  int64\n",
            "sid_profile          int64\n",
            "post_id             object\n",
            "profile_id         float64\n",
            "location_id        float64\n",
            "cts                 object\n",
            "post_type            int64\n",
            "description         object\n",
            "numbr_likes          int64\n",
            "number_comments      int64\n",
            "dtype: object\n",
            "sid                      int64\n",
            "profile_id             float64\n",
            "profile_name            object\n",
            "firstname_lastname      object\n",
            "description             object\n",
            "following              float64\n",
            "followers              float64\n",
            "n_posts                float64\n",
            "url                     object\n",
            "cts                     object\n",
            "is_business_account     object\n",
            "dtype: object\n"
          ]
        }
      ],
      "source": [
        "print(df_locations.dtypes)\n",
        "print(df_posts.dtypes)\n",
        "print(df_profiles.dtypes)"
      ]
    },
    {
      "cell_type": "markdown",
      "metadata": {
        "id": "sdki2RoIE5d1"
      },
      "source": [
        "We can get data summaries of the three different datasets by using the describe function. \n",
        "This function only gives information based on the numerical data"
      ]
    },
    {
      "cell_type": "code",
      "execution_count": null,
      "metadata": {
        "id": "-ZkudXY0_XfU",
        "colab": {
          "base_uri": "https://localhost:8080/",
          "height": 300
        },
        "outputId": "246ed41a-8410-44ff-9127-cb7ba593257d"
      },
      "outputs": [
        {
          "output_type": "execute_result",
          "data": {
            "text/plain": [
              "                sid            id           lat           lng\n",
              "count  1.022658e+06  1.022658e+06  1.016495e+06  1.016495e+06\n",
              "mean   5.274856e+05  3.152851e+14 -1.529215e+01  3.421718e+01\n",
              "std    2.994567e+05  5.795031e+14  7.615085e+01  2.201081e+01\n",
              "min    1.000000e+00  7.000000e+00 -1.799830e+02 -9.000000e+01\n",
              "25%    2.688392e+05  2.522377e+08 -8.015575e+01  2.997555e+01\n",
              "50%    5.300405e+05  8.573350e+08 -2.450000e+00  4.067820e+01\n",
              "75%    7.866598e+05  3.304662e+14  3.071740e+01  4.884722e+01\n",
              "max    1.043657e+06  2.402148e+16  1.799941e+02  8.999870e+01"
            ],
            "text/html": [
              "\n",
              "  <div id=\"df-35b232c1-e15c-4f51-86c8-29596ae8ffb3\">\n",
              "    <div class=\"colab-df-container\">\n",
              "      <div>\n",
              "<style scoped>\n",
              "    .dataframe tbody tr th:only-of-type {\n",
              "        vertical-align: middle;\n",
              "    }\n",
              "\n",
              "    .dataframe tbody tr th {\n",
              "        vertical-align: top;\n",
              "    }\n",
              "\n",
              "    .dataframe thead th {\n",
              "        text-align: right;\n",
              "    }\n",
              "</style>\n",
              "<table border=\"1\" class=\"dataframe\">\n",
              "  <thead>\n",
              "    <tr style=\"text-align: right;\">\n",
              "      <th></th>\n",
              "      <th>sid</th>\n",
              "      <th>id</th>\n",
              "      <th>lat</th>\n",
              "      <th>lng</th>\n",
              "    </tr>\n",
              "  </thead>\n",
              "  <tbody>\n",
              "    <tr>\n",
              "      <th>count</th>\n",
              "      <td>1.022658e+06</td>\n",
              "      <td>1.022658e+06</td>\n",
              "      <td>1.016495e+06</td>\n",
              "      <td>1.016495e+06</td>\n",
              "    </tr>\n",
              "    <tr>\n",
              "      <th>mean</th>\n",
              "      <td>5.274856e+05</td>\n",
              "      <td>3.152851e+14</td>\n",
              "      <td>-1.529215e+01</td>\n",
              "      <td>3.421718e+01</td>\n",
              "    </tr>\n",
              "    <tr>\n",
              "      <th>std</th>\n",
              "      <td>2.994567e+05</td>\n",
              "      <td>5.795031e+14</td>\n",
              "      <td>7.615085e+01</td>\n",
              "      <td>2.201081e+01</td>\n",
              "    </tr>\n",
              "    <tr>\n",
              "      <th>min</th>\n",
              "      <td>1.000000e+00</td>\n",
              "      <td>7.000000e+00</td>\n",
              "      <td>-1.799830e+02</td>\n",
              "      <td>-9.000000e+01</td>\n",
              "    </tr>\n",
              "    <tr>\n",
              "      <th>25%</th>\n",
              "      <td>2.688392e+05</td>\n",
              "      <td>2.522377e+08</td>\n",
              "      <td>-8.015575e+01</td>\n",
              "      <td>2.997555e+01</td>\n",
              "    </tr>\n",
              "    <tr>\n",
              "      <th>50%</th>\n",
              "      <td>5.300405e+05</td>\n",
              "      <td>8.573350e+08</td>\n",
              "      <td>-2.450000e+00</td>\n",
              "      <td>4.067820e+01</td>\n",
              "    </tr>\n",
              "    <tr>\n",
              "      <th>75%</th>\n",
              "      <td>7.866598e+05</td>\n",
              "      <td>3.304662e+14</td>\n",
              "      <td>3.071740e+01</td>\n",
              "      <td>4.884722e+01</td>\n",
              "    </tr>\n",
              "    <tr>\n",
              "      <th>max</th>\n",
              "      <td>1.043657e+06</td>\n",
              "      <td>2.402148e+16</td>\n",
              "      <td>1.799941e+02</td>\n",
              "      <td>8.999870e+01</td>\n",
              "    </tr>\n",
              "  </tbody>\n",
              "</table>\n",
              "</div>\n",
              "      <button class=\"colab-df-convert\" onclick=\"convertToInteractive('df-35b232c1-e15c-4f51-86c8-29596ae8ffb3')\"\n",
              "              title=\"Convert this dataframe to an interactive table.\"\n",
              "              style=\"display:none;\">\n",
              "        \n",
              "  <svg xmlns=\"http://www.w3.org/2000/svg\" height=\"24px\"viewBox=\"0 0 24 24\"\n",
              "       width=\"24px\">\n",
              "    <path d=\"M0 0h24v24H0V0z\" fill=\"none\"/>\n",
              "    <path d=\"M18.56 5.44l.94 2.06.94-2.06 2.06-.94-2.06-.94-.94-2.06-.94 2.06-2.06.94zm-11 1L8.5 8.5l.94-2.06 2.06-.94-2.06-.94L8.5 2.5l-.94 2.06-2.06.94zm10 10l.94 2.06.94-2.06 2.06-.94-2.06-.94-.94-2.06-.94 2.06-2.06.94z\"/><path d=\"M17.41 7.96l-1.37-1.37c-.4-.4-.92-.59-1.43-.59-.52 0-1.04.2-1.43.59L10.3 9.45l-7.72 7.72c-.78.78-.78 2.05 0 2.83L4 21.41c.39.39.9.59 1.41.59.51 0 1.02-.2 1.41-.59l7.78-7.78 2.81-2.81c.8-.78.8-2.07 0-2.86zM5.41 20L4 18.59l7.72-7.72 1.47 1.35L5.41 20z\"/>\n",
              "  </svg>\n",
              "      </button>\n",
              "      \n",
              "  <style>\n",
              "    .colab-df-container {\n",
              "      display:flex;\n",
              "      flex-wrap:wrap;\n",
              "      gap: 12px;\n",
              "    }\n",
              "\n",
              "    .colab-df-convert {\n",
              "      background-color: #E8F0FE;\n",
              "      border: none;\n",
              "      border-radius: 50%;\n",
              "      cursor: pointer;\n",
              "      display: none;\n",
              "      fill: #1967D2;\n",
              "      height: 32px;\n",
              "      padding: 0 0 0 0;\n",
              "      width: 32px;\n",
              "    }\n",
              "\n",
              "    .colab-df-convert:hover {\n",
              "      background-color: #E2EBFA;\n",
              "      box-shadow: 0px 1px 2px rgba(60, 64, 67, 0.3), 0px 1px 3px 1px rgba(60, 64, 67, 0.15);\n",
              "      fill: #174EA6;\n",
              "    }\n",
              "\n",
              "    [theme=dark] .colab-df-convert {\n",
              "      background-color: #3B4455;\n",
              "      fill: #D2E3FC;\n",
              "    }\n",
              "\n",
              "    [theme=dark] .colab-df-convert:hover {\n",
              "      background-color: #434B5C;\n",
              "      box-shadow: 0px 1px 3px 1px rgba(0, 0, 0, 0.15);\n",
              "      filter: drop-shadow(0px 1px 2px rgba(0, 0, 0, 0.3));\n",
              "      fill: #FFFFFF;\n",
              "    }\n",
              "  </style>\n",
              "\n",
              "      <script>\n",
              "        const buttonEl =\n",
              "          document.querySelector('#df-35b232c1-e15c-4f51-86c8-29596ae8ffb3 button.colab-df-convert');\n",
              "        buttonEl.style.display =\n",
              "          google.colab.kernel.accessAllowed ? 'block' : 'none';\n",
              "\n",
              "        async function convertToInteractive(key) {\n",
              "          const element = document.querySelector('#df-35b232c1-e15c-4f51-86c8-29596ae8ffb3');\n",
              "          const dataTable =\n",
              "            await google.colab.kernel.invokeFunction('convertToInteractive',\n",
              "                                                     [key], {});\n",
              "          if (!dataTable) return;\n",
              "\n",
              "          const docLinkHtml = 'Like what you see? Visit the ' +\n",
              "            '<a target=\"_blank\" href=https://colab.research.google.com/notebooks/data_table.ipynb>data table notebook</a>'\n",
              "            + ' to learn more about interactive tables.';\n",
              "          element.innerHTML = '';\n",
              "          dataTable['output_type'] = 'display_data';\n",
              "          await google.colab.output.renderOutput(dataTable, element);\n",
              "          const docLink = document.createElement('div');\n",
              "          docLink.innerHTML = docLinkHtml;\n",
              "          element.appendChild(docLink);\n",
              "        }\n",
              "      </script>\n",
              "    </div>\n",
              "  </div>\n",
              "  "
            ]
          },
          "metadata": {},
          "execution_count": 32
        }
      ],
      "source": [
        "df_locations.describe()"
      ]
    },
    {
      "cell_type": "code",
      "execution_count": null,
      "metadata": {
        "id": "L7A75tOsC-LZ",
        "colab": {
          "base_uri": "https://localhost:8080/",
          "height": 300
        },
        "outputId": "229e6d5d-86b0-42a0-c071-115296c36ac9"
      },
      "outputs": [
        {
          "output_type": "execute_result",
          "data": {
            "text/plain": [
              "                sid   sid_profile    profile_id   location_id     post_type  \\\n",
              "count  3.000000e+06  3.000000e+06  2.999863e+06  2.996873e+06  3.000000e+06   \n",
              "mean   2.944016e+07  2.333161e+05  3.195472e+09  3.075259e+14  1.061249e+00   \n",
              "std    2.594281e+06  8.105454e+05  7.357614e+10  5.715731e+14  2.398066e-01   \n",
              "min    6.025000e+03 -1.000000e+00  3.000000e+00  7.670000e+02  1.000000e+00   \n",
              "25%    2.903071e+07 -1.000000e+00  2.963938e+08  2.742526e+08  1.000000e+00   \n",
              "50%    2.983005e+07 -1.000000e+00  1.610783e+09  8.805117e+08  1.000000e+00   \n",
              "75%    3.062258e+07 -1.000000e+00  5.428964e+09  3.171835e+14  1.000000e+00   \n",
              "max    3.144308e+07  4.510762e+06  9.001013e+13  1.015016e+16  3.000000e+00   \n",
              "\n",
              "        numbr_likes  number_comments  \n",
              "count  3.000000e+06     3.000000e+06  \n",
              "mean   2.869894e+02     7.160539e+00  \n",
              "std    5.560712e+03     1.579671e+02  \n",
              "min    0.000000e+00     0.000000e+00  \n",
              "25%    1.900000e+01     0.000000e+00  \n",
              "50%    4.600000e+01     1.000000e+00  \n",
              "75%    1.230000e+02     5.000000e+00  \n",
              "max    2.212264e+06     1.352210e+05  "
            ],
            "text/html": [
              "\n",
              "  <div id=\"df-4232e6cd-aac8-4c92-84df-ecb0f1576f0d\">\n",
              "    <div class=\"colab-df-container\">\n",
              "      <div>\n",
              "<style scoped>\n",
              "    .dataframe tbody tr th:only-of-type {\n",
              "        vertical-align: middle;\n",
              "    }\n",
              "\n",
              "    .dataframe tbody tr th {\n",
              "        vertical-align: top;\n",
              "    }\n",
              "\n",
              "    .dataframe thead th {\n",
              "        text-align: right;\n",
              "    }\n",
              "</style>\n",
              "<table border=\"1\" class=\"dataframe\">\n",
              "  <thead>\n",
              "    <tr style=\"text-align: right;\">\n",
              "      <th></th>\n",
              "      <th>sid</th>\n",
              "      <th>sid_profile</th>\n",
              "      <th>profile_id</th>\n",
              "      <th>location_id</th>\n",
              "      <th>post_type</th>\n",
              "      <th>numbr_likes</th>\n",
              "      <th>number_comments</th>\n",
              "    </tr>\n",
              "  </thead>\n",
              "  <tbody>\n",
              "    <tr>\n",
              "      <th>count</th>\n",
              "      <td>3.000000e+06</td>\n",
              "      <td>3.000000e+06</td>\n",
              "      <td>2.999863e+06</td>\n",
              "      <td>2.996873e+06</td>\n",
              "      <td>3.000000e+06</td>\n",
              "      <td>3.000000e+06</td>\n",
              "      <td>3.000000e+06</td>\n",
              "    </tr>\n",
              "    <tr>\n",
              "      <th>mean</th>\n",
              "      <td>2.944016e+07</td>\n",
              "      <td>2.333161e+05</td>\n",
              "      <td>3.195472e+09</td>\n",
              "      <td>3.075259e+14</td>\n",
              "      <td>1.061249e+00</td>\n",
              "      <td>2.869894e+02</td>\n",
              "      <td>7.160539e+00</td>\n",
              "    </tr>\n",
              "    <tr>\n",
              "      <th>std</th>\n",
              "      <td>2.594281e+06</td>\n",
              "      <td>8.105454e+05</td>\n",
              "      <td>7.357614e+10</td>\n",
              "      <td>5.715731e+14</td>\n",
              "      <td>2.398066e-01</td>\n",
              "      <td>5.560712e+03</td>\n",
              "      <td>1.579671e+02</td>\n",
              "    </tr>\n",
              "    <tr>\n",
              "      <th>min</th>\n",
              "      <td>6.025000e+03</td>\n",
              "      <td>-1.000000e+00</td>\n",
              "      <td>3.000000e+00</td>\n",
              "      <td>7.670000e+02</td>\n",
              "      <td>1.000000e+00</td>\n",
              "      <td>0.000000e+00</td>\n",
              "      <td>0.000000e+00</td>\n",
              "    </tr>\n",
              "    <tr>\n",
              "      <th>25%</th>\n",
              "      <td>2.903071e+07</td>\n",
              "      <td>-1.000000e+00</td>\n",
              "      <td>2.963938e+08</td>\n",
              "      <td>2.742526e+08</td>\n",
              "      <td>1.000000e+00</td>\n",
              "      <td>1.900000e+01</td>\n",
              "      <td>0.000000e+00</td>\n",
              "    </tr>\n",
              "    <tr>\n",
              "      <th>50%</th>\n",
              "      <td>2.983005e+07</td>\n",
              "      <td>-1.000000e+00</td>\n",
              "      <td>1.610783e+09</td>\n",
              "      <td>8.805117e+08</td>\n",
              "      <td>1.000000e+00</td>\n",
              "      <td>4.600000e+01</td>\n",
              "      <td>1.000000e+00</td>\n",
              "    </tr>\n",
              "    <tr>\n",
              "      <th>75%</th>\n",
              "      <td>3.062258e+07</td>\n",
              "      <td>-1.000000e+00</td>\n",
              "      <td>5.428964e+09</td>\n",
              "      <td>3.171835e+14</td>\n",
              "      <td>1.000000e+00</td>\n",
              "      <td>1.230000e+02</td>\n",
              "      <td>5.000000e+00</td>\n",
              "    </tr>\n",
              "    <tr>\n",
              "      <th>max</th>\n",
              "      <td>3.144308e+07</td>\n",
              "      <td>4.510762e+06</td>\n",
              "      <td>9.001013e+13</td>\n",
              "      <td>1.015016e+16</td>\n",
              "      <td>3.000000e+00</td>\n",
              "      <td>2.212264e+06</td>\n",
              "      <td>1.352210e+05</td>\n",
              "    </tr>\n",
              "  </tbody>\n",
              "</table>\n",
              "</div>\n",
              "      <button class=\"colab-df-convert\" onclick=\"convertToInteractive('df-4232e6cd-aac8-4c92-84df-ecb0f1576f0d')\"\n",
              "              title=\"Convert this dataframe to an interactive table.\"\n",
              "              style=\"display:none;\">\n",
              "        \n",
              "  <svg xmlns=\"http://www.w3.org/2000/svg\" height=\"24px\"viewBox=\"0 0 24 24\"\n",
              "       width=\"24px\">\n",
              "    <path d=\"M0 0h24v24H0V0z\" fill=\"none\"/>\n",
              "    <path d=\"M18.56 5.44l.94 2.06.94-2.06 2.06-.94-2.06-.94-.94-2.06-.94 2.06-2.06.94zm-11 1L8.5 8.5l.94-2.06 2.06-.94-2.06-.94L8.5 2.5l-.94 2.06-2.06.94zm10 10l.94 2.06.94-2.06 2.06-.94-2.06-.94-.94-2.06-.94 2.06-2.06.94z\"/><path d=\"M17.41 7.96l-1.37-1.37c-.4-.4-.92-.59-1.43-.59-.52 0-1.04.2-1.43.59L10.3 9.45l-7.72 7.72c-.78.78-.78 2.05 0 2.83L4 21.41c.39.39.9.59 1.41.59.51 0 1.02-.2 1.41-.59l7.78-7.78 2.81-2.81c.8-.78.8-2.07 0-2.86zM5.41 20L4 18.59l7.72-7.72 1.47 1.35L5.41 20z\"/>\n",
              "  </svg>\n",
              "      </button>\n",
              "      \n",
              "  <style>\n",
              "    .colab-df-container {\n",
              "      display:flex;\n",
              "      flex-wrap:wrap;\n",
              "      gap: 12px;\n",
              "    }\n",
              "\n",
              "    .colab-df-convert {\n",
              "      background-color: #E8F0FE;\n",
              "      border: none;\n",
              "      border-radius: 50%;\n",
              "      cursor: pointer;\n",
              "      display: none;\n",
              "      fill: #1967D2;\n",
              "      height: 32px;\n",
              "      padding: 0 0 0 0;\n",
              "      width: 32px;\n",
              "    }\n",
              "\n",
              "    .colab-df-convert:hover {\n",
              "      background-color: #E2EBFA;\n",
              "      box-shadow: 0px 1px 2px rgba(60, 64, 67, 0.3), 0px 1px 3px 1px rgba(60, 64, 67, 0.15);\n",
              "      fill: #174EA6;\n",
              "    }\n",
              "\n",
              "    [theme=dark] .colab-df-convert {\n",
              "      background-color: #3B4455;\n",
              "      fill: #D2E3FC;\n",
              "    }\n",
              "\n",
              "    [theme=dark] .colab-df-convert:hover {\n",
              "      background-color: #434B5C;\n",
              "      box-shadow: 0px 1px 3px 1px rgba(0, 0, 0, 0.15);\n",
              "      filter: drop-shadow(0px 1px 2px rgba(0, 0, 0, 0.3));\n",
              "      fill: #FFFFFF;\n",
              "    }\n",
              "  </style>\n",
              "\n",
              "      <script>\n",
              "        const buttonEl =\n",
              "          document.querySelector('#df-4232e6cd-aac8-4c92-84df-ecb0f1576f0d button.colab-df-convert');\n",
              "        buttonEl.style.display =\n",
              "          google.colab.kernel.accessAllowed ? 'block' : 'none';\n",
              "\n",
              "        async function convertToInteractive(key) {\n",
              "          const element = document.querySelector('#df-4232e6cd-aac8-4c92-84df-ecb0f1576f0d');\n",
              "          const dataTable =\n",
              "            await google.colab.kernel.invokeFunction('convertToInteractive',\n",
              "                                                     [key], {});\n",
              "          if (!dataTable) return;\n",
              "\n",
              "          const docLinkHtml = 'Like what you see? Visit the ' +\n",
              "            '<a target=\"_blank\" href=https://colab.research.google.com/notebooks/data_table.ipynb>data table notebook</a>'\n",
              "            + ' to learn more about interactive tables.';\n",
              "          element.innerHTML = '';\n",
              "          dataTable['output_type'] = 'display_data';\n",
              "          await google.colab.output.renderOutput(dataTable, element);\n",
              "          const docLink = document.createElement('div');\n",
              "          docLink.innerHTML = docLinkHtml;\n",
              "          element.appendChild(docLink);\n",
              "        }\n",
              "      </script>\n",
              "    </div>\n",
              "  </div>\n",
              "  "
            ]
          },
          "metadata": {},
          "execution_count": 31
        }
      ],
      "source": [
        "df_posts.describe()"
      ]
    },
    {
      "cell_type": "code",
      "execution_count": null,
      "metadata": {
        "id": "niWSrHMJDATr",
        "colab": {
          "base_uri": "https://localhost:8080/",
          "height": 300
        },
        "outputId": "bcfcebf2-7f84-4189-fc5c-49352888d099"
      },
      "outputs": [
        {
          "output_type": "execute_result",
          "data": {
            "text/plain": [
              "                sid    profile_id     following     followers       n_posts\n",
              "count  4.509586e+06  4.477139e+06  3.452771e+06  3.452771e+06  3.452771e+06\n",
              "mean   2.255992e+06  3.083302e+09  1.405641e+03  4.739899e+03  4.095414e+02\n",
              "std    1.301807e+06  4.266575e+10  8.113473e+03  1.939087e+05  1.041940e+03\n",
              "min    1.186000e+03  4.000000e+00  0.000000e+00  0.000000e+00  0.000000e+00\n",
              "25%    1.128596e+06  2.735177e+08  3.560000e+02  1.590000e+02  2.200000e+01\n",
              "50%    2.255992e+06  1.649248e+09  7.540000e+02  4.060000e+02  1.200000e+02\n",
              "75%    3.383389e+06  5.514691e+09  1.573000e+03  9.740000e+02  4.200000e+02\n",
              "max    4.510785e+06  9.001013e+13  4.191080e+06  2.854576e+08  1.837300e+05"
            ],
            "text/html": [
              "\n",
              "  <div id=\"df-9a38eac4-ea58-4c3c-bd97-37e1fbf1bda8\">\n",
              "    <div class=\"colab-df-container\">\n",
              "      <div>\n",
              "<style scoped>\n",
              "    .dataframe tbody tr th:only-of-type {\n",
              "        vertical-align: middle;\n",
              "    }\n",
              "\n",
              "    .dataframe tbody tr th {\n",
              "        vertical-align: top;\n",
              "    }\n",
              "\n",
              "    .dataframe thead th {\n",
              "        text-align: right;\n",
              "    }\n",
              "</style>\n",
              "<table border=\"1\" class=\"dataframe\">\n",
              "  <thead>\n",
              "    <tr style=\"text-align: right;\">\n",
              "      <th></th>\n",
              "      <th>sid</th>\n",
              "      <th>profile_id</th>\n",
              "      <th>following</th>\n",
              "      <th>followers</th>\n",
              "      <th>n_posts</th>\n",
              "    </tr>\n",
              "  </thead>\n",
              "  <tbody>\n",
              "    <tr>\n",
              "      <th>count</th>\n",
              "      <td>4.509586e+06</td>\n",
              "      <td>4.477139e+06</td>\n",
              "      <td>3.452771e+06</td>\n",
              "      <td>3.452771e+06</td>\n",
              "      <td>3.452771e+06</td>\n",
              "    </tr>\n",
              "    <tr>\n",
              "      <th>mean</th>\n",
              "      <td>2.255992e+06</td>\n",
              "      <td>3.083302e+09</td>\n",
              "      <td>1.405641e+03</td>\n",
              "      <td>4.739899e+03</td>\n",
              "      <td>4.095414e+02</td>\n",
              "    </tr>\n",
              "    <tr>\n",
              "      <th>std</th>\n",
              "      <td>1.301807e+06</td>\n",
              "      <td>4.266575e+10</td>\n",
              "      <td>8.113473e+03</td>\n",
              "      <td>1.939087e+05</td>\n",
              "      <td>1.041940e+03</td>\n",
              "    </tr>\n",
              "    <tr>\n",
              "      <th>min</th>\n",
              "      <td>1.186000e+03</td>\n",
              "      <td>4.000000e+00</td>\n",
              "      <td>0.000000e+00</td>\n",
              "      <td>0.000000e+00</td>\n",
              "      <td>0.000000e+00</td>\n",
              "    </tr>\n",
              "    <tr>\n",
              "      <th>25%</th>\n",
              "      <td>1.128596e+06</td>\n",
              "      <td>2.735177e+08</td>\n",
              "      <td>3.560000e+02</td>\n",
              "      <td>1.590000e+02</td>\n",
              "      <td>2.200000e+01</td>\n",
              "    </tr>\n",
              "    <tr>\n",
              "      <th>50%</th>\n",
              "      <td>2.255992e+06</td>\n",
              "      <td>1.649248e+09</td>\n",
              "      <td>7.540000e+02</td>\n",
              "      <td>4.060000e+02</td>\n",
              "      <td>1.200000e+02</td>\n",
              "    </tr>\n",
              "    <tr>\n",
              "      <th>75%</th>\n",
              "      <td>3.383389e+06</td>\n",
              "      <td>5.514691e+09</td>\n",
              "      <td>1.573000e+03</td>\n",
              "      <td>9.740000e+02</td>\n",
              "      <td>4.200000e+02</td>\n",
              "    </tr>\n",
              "    <tr>\n",
              "      <th>max</th>\n",
              "      <td>4.510785e+06</td>\n",
              "      <td>9.001013e+13</td>\n",
              "      <td>4.191080e+06</td>\n",
              "      <td>2.854576e+08</td>\n",
              "      <td>1.837300e+05</td>\n",
              "    </tr>\n",
              "  </tbody>\n",
              "</table>\n",
              "</div>\n",
              "      <button class=\"colab-df-convert\" onclick=\"convertToInteractive('df-9a38eac4-ea58-4c3c-bd97-37e1fbf1bda8')\"\n",
              "              title=\"Convert this dataframe to an interactive table.\"\n",
              "              style=\"display:none;\">\n",
              "        \n",
              "  <svg xmlns=\"http://www.w3.org/2000/svg\" height=\"24px\"viewBox=\"0 0 24 24\"\n",
              "       width=\"24px\">\n",
              "    <path d=\"M0 0h24v24H0V0z\" fill=\"none\"/>\n",
              "    <path d=\"M18.56 5.44l.94 2.06.94-2.06 2.06-.94-2.06-.94-.94-2.06-.94 2.06-2.06.94zm-11 1L8.5 8.5l.94-2.06 2.06-.94-2.06-.94L8.5 2.5l-.94 2.06-2.06.94zm10 10l.94 2.06.94-2.06 2.06-.94-2.06-.94-.94-2.06-.94 2.06-2.06.94z\"/><path d=\"M17.41 7.96l-1.37-1.37c-.4-.4-.92-.59-1.43-.59-.52 0-1.04.2-1.43.59L10.3 9.45l-7.72 7.72c-.78.78-.78 2.05 0 2.83L4 21.41c.39.39.9.59 1.41.59.51 0 1.02-.2 1.41-.59l7.78-7.78 2.81-2.81c.8-.78.8-2.07 0-2.86zM5.41 20L4 18.59l7.72-7.72 1.47 1.35L5.41 20z\"/>\n",
              "  </svg>\n",
              "      </button>\n",
              "      \n",
              "  <style>\n",
              "    .colab-df-container {\n",
              "      display:flex;\n",
              "      flex-wrap:wrap;\n",
              "      gap: 12px;\n",
              "    }\n",
              "\n",
              "    .colab-df-convert {\n",
              "      background-color: #E8F0FE;\n",
              "      border: none;\n",
              "      border-radius: 50%;\n",
              "      cursor: pointer;\n",
              "      display: none;\n",
              "      fill: #1967D2;\n",
              "      height: 32px;\n",
              "      padding: 0 0 0 0;\n",
              "      width: 32px;\n",
              "    }\n",
              "\n",
              "    .colab-df-convert:hover {\n",
              "      background-color: #E2EBFA;\n",
              "      box-shadow: 0px 1px 2px rgba(60, 64, 67, 0.3), 0px 1px 3px 1px rgba(60, 64, 67, 0.15);\n",
              "      fill: #174EA6;\n",
              "    }\n",
              "\n",
              "    [theme=dark] .colab-df-convert {\n",
              "      background-color: #3B4455;\n",
              "      fill: #D2E3FC;\n",
              "    }\n",
              "\n",
              "    [theme=dark] .colab-df-convert:hover {\n",
              "      background-color: #434B5C;\n",
              "      box-shadow: 0px 1px 3px 1px rgba(0, 0, 0, 0.15);\n",
              "      filter: drop-shadow(0px 1px 2px rgba(0, 0, 0, 0.3));\n",
              "      fill: #FFFFFF;\n",
              "    }\n",
              "  </style>\n",
              "\n",
              "      <script>\n",
              "        const buttonEl =\n",
              "          document.querySelector('#df-9a38eac4-ea58-4c3c-bd97-37e1fbf1bda8 button.colab-df-convert');\n",
              "        buttonEl.style.display =\n",
              "          google.colab.kernel.accessAllowed ? 'block' : 'none';\n",
              "\n",
              "        async function convertToInteractive(key) {\n",
              "          const element = document.querySelector('#df-9a38eac4-ea58-4c3c-bd97-37e1fbf1bda8');\n",
              "          const dataTable =\n",
              "            await google.colab.kernel.invokeFunction('convertToInteractive',\n",
              "                                                     [key], {});\n",
              "          if (!dataTable) return;\n",
              "\n",
              "          const docLinkHtml = 'Like what you see? Visit the ' +\n",
              "            '<a target=\"_blank\" href=https://colab.research.google.com/notebooks/data_table.ipynb>data table notebook</a>'\n",
              "            + ' to learn more about interactive tables.';\n",
              "          element.innerHTML = '';\n",
              "          dataTable['output_type'] = 'display_data';\n",
              "          await google.colab.output.renderOutput(dataTable, element);\n",
              "          const docLink = document.createElement('div');\n",
              "          docLink.innerHTML = docLinkHtml;\n",
              "          element.appendChild(docLink);\n",
              "        }\n",
              "      </script>\n",
              "    </div>\n",
              "  </div>\n",
              "  "
            ]
          },
          "metadata": {},
          "execution_count": 30
        }
      ],
      "source": [
        "df_profiles.describe()"
      ]
    },
    {
      "cell_type": "markdown",
      "metadata": {
        "id": "cpOhCA2vD_l0"
      },
      "source": [
        "Next, we can see how many null values there are present for each dataset per parameter. As visible, there are a lot of null values per parameter. These values do not provide us with any information. Therefore, we have to be careful and remove these values, depending on the type of question."
      ]
    },
    {
      "cell_type": "code",
      "execution_count": null,
      "metadata": {
        "id": "N0ETRTghDypv"
      },
      "outputs": [],
      "source": [
        "df_locations.isnull().sum()"
      ]
    },
    {
      "cell_type": "code",
      "execution_count": null,
      "metadata": {
        "id": "fkWfGaVlD63K"
      },
      "outputs": [],
      "source": [
        "df_posts.isnull().sum()"
      ]
    },
    {
      "cell_type": "code",
      "execution_count": null,
      "metadata": {
        "id": "FM-_JkN-D8qf"
      },
      "outputs": [],
      "source": [
        "df_profiles.isnull().sum()"
      ]
    },
    {
      "cell_type": "markdown",
      "metadata": {
        "id": "ComzPYUHFhAP"
      },
      "source": [
        "Furthermore, we can make correlation plots to see if there is a strong correlation between the parameters in one dataset. \n",
        "\n",
        "As shown by the three heatmaps, there is no strong correlation between any parameters within one dataset."
      ]
    },
    {
      "cell_type": "code",
      "execution_count": null,
      "metadata": {
        "id": "DpIWZ9DbFojK",
        "colab": {
          "base_uri": "https://localhost:8080/",
          "height": 269
        },
        "outputId": "ef625c16-0b14-4853-987b-314da5199169"
      },
      "outputs": [
        {
          "output_type": "display_data",
          "data": {
            "text/plain": [
              "<Figure size 432x288 with 2 Axes>"
            ],
            "image/png": "[encoded data removed]"
          },
          "metadata": {
            "needs_background": "light"
          }
        }
      ],
      "source": [
        "sns.heatmap(df_locations.corr())\n",
        "plt.show()\n"
      ]
    },
    {
      "cell_type": "code",
      "execution_count": null,
      "metadata": {
        "id": "CdnSrVEGHw5X",
        "colab": {
          "base_uri": "https://localhost:8080/",
          "height": 356
        },
        "outputId": "af4b1d50-08bd-499b-b95e-043d5dcbac54"
      },
      "outputs": [
        {
          "output_type": "display_data",
          "data": {
            "text/plain": [
              "<Figure size 432x288 with 2 Axes>"
            ],
            "image/png": "[encoded data removed]"
          },
          "metadata": {
            "needs_background": "light"
          }
        }
      ],
      "source": [
        "sns.heatmap(df_posts.corr())\n",
        "plt.show()\n"
      ]
    },
    {
      "cell_type": "code",
      "execution_count": null,
      "metadata": {
        "id": "qqMxRxfOHxRl",
        "colab": {
          "base_uri": "https://localhost:8080/",
          "height": 270
        },
        "outputId": "6674b30a-88d8-4750-82c0-617f595aab89"
      },
      "outputs": [
        {
          "output_type": "display_data",
          "data": {
            "text/plain": [
              "<Figure size 432x288 with 2 Axes>"
            ],
            "image/png": "[encoded data removed]"
          },
          "metadata": {
            "needs_background": "light"
          }
        }
      ],
      "source": [
        "sns.heatmap(df_profiles.corr())\n",
        "plt.show()\n"
      ]
    },
    {
      "cell_type": "markdown",
      "metadata": {
        "id": "g3hXGkDi-STT"
      },
      "source": [
        "### Research question 2: Explore dataset"
      ]
    },
    {
      "cell_type": "markdown",
      "metadata": {
        "id": "tOlXTLYZ5cJk"
      },
      "source": [
        "##### **Plot the number of posts for each profile in descending order**\n",
        "\n",
        "We first removed the rows that contained NaNs so we only use data that is actually available.\n",
        "The first subplot shows the trend of the top 150, lowest 150, and the total data. As can be seen, there are some profiles with a lot of posts, but it decreases very fast. The lowest 150 profiles have never posted anything.\n",
        "\n",
        "Afterwards, we decided to also look into the data if we would remove the profiles that do not have any likes to see what influence that would have on the data.\n"
      ]
    },
    {
      "cell_type": "code",
      "execution_count": null,
      "metadata": {
        "id": "nXJiiOyC46lW"
      },
      "outputs": [],
      "source": [
        "# remove the rows with nan in n_posts\n",
        "df_profiles_nposts = df_profiles.dropna( how='any',\n",
        "                    subset=['n_posts'])\n",
        "\n",
        "# sort the dataframe based on the nposts\n",
        "df_profiles_sort = df_profiles_nposts.sort_values(by='n_posts', ascending=False)"
      ]
    },
    {
      "cell_type": "code",
      "execution_count": null,
      "metadata": {
        "id": "eJtWQ0sK5wTy"
      },
      "outputs": [],
      "source": [
        "#define subplot layout\n",
        "fig, axes = plt.subplots(nrows=3, ncols=1, figsize=(10, 6))\n",
        "\n",
        "# plot the highest 150 number of posts\n",
        "ax1 = df_profiles_sort.iloc[0:150].plot(x='profile_name', y='n_posts', ax=axes[0])\n",
        "ax1.get_xaxis().set_visible(False)\n",
        "ax1.title.set_text('150 highest number of posts')\n",
        "\n",
        "# plot the lowest 150 number of posts\n",
        "ax2 = df_profiles_sort.iloc[-150:].plot(x='profile_name', y='n_posts', ax=axes[1])\n",
        "ax2.get_xaxis().set_visible(False)\n",
        "ax2.title.set_text('150 lowest number of posts')\n",
        "\n",
        "# plot for every profile\n",
        "ax3 = df_profiles_sort.plot(x='profile_name', y='n_posts', ax=axes[2])\n",
        "ax3.get_xaxis().set_visible(False)\n",
        "ax3.title.set_text('All profiles')"
      ]
    },
    {
      "cell_type": "code",
      "execution_count": null,
      "metadata": {
        "colab": {
          "base_uri": "https://localhost:8080/",
          "height": 377
        },
        "id": "sBSo6EG97ZvA",
        "outputId": "8478e474-bb1e-42ad-dcbe-1d49e927549a"
      },
      "outputs": [
        {
          "data": {
            "image/png": "[encoded data removed]",
            "text/plain": [
              "<Figure size 720x432 with 3 Axes>"
            ]
          },
          "metadata": {},
          "output_type": "display_data"
        }
      ],
      "source": [
        "# remove profiles with 0 posts\n",
        "df_profiles_sort = df_profiles_sort.loc[~((df_profiles_sort['n_posts'] == 0))]\n",
        "\n",
        "#define subplot layout\n",
        "fig, axes = plt.subplots(nrows=3, ncols=1, figsize=(10, 6))\n",
        "\n",
        "# plot the highest 150 number of posts\n",
        "ax1 = df_profiles_sort.iloc[0:150].plot(x='profile_name', y='n_posts', ax=axes[0])\n",
        "ax1.get_xaxis().set_visible(False)\n",
        "ax1.title.set_text('150 highest number of posts')\n",
        "\n",
        "# plot the lowest 150 number of posts\n",
        "ax2 = df_profiles_sort.iloc[-150:].plot(x='profile_name', y='n_posts', ax=axes[1])\n",
        "ax2.get_xaxis().set_visible(False)\n",
        "ax2.title.set_text('150 lowest number of posts')\n",
        "\n",
        "# plot for every profile\n",
        "ax3 = df_profiles_sort.plot(x='profile_name', y='n_posts', ax=axes[2])\n",
        "ax3.get_xaxis().set_visible(False)\n",
        "ax3.title.set_text('All profiles')"
      ]
    },
    {
      "cell_type": "markdown",
      "metadata": {
        "id": "Z3e1Uef3-ma3"
      },
      "source": [
        "##### **What posts have the highest number of \"likes\"?**\n",
        "To answer this question, we only load in certain columns of the posts data set, namely the post id, the number of likes, and the number of comments. The id post can be tracked back to the specific post. As we can see, the highest number of likes also has a lot of comments, but it does not necessarily mean the highest number of comments. It does make sense that it also has a lot of comments, since a lot of people have seen the post (which can be concluded from the fact that it has so many likes). \n",
        "\n"
      ]
    },
    {
      "cell_type": "code",
      "source": [
        "df_small_posts = pd.read_csv('instagram_posts.csv', delimiter=\"\\t\", usecols = ['post_id','numbr_likes', 'number_comments'], low_memory = True)\n"
      ],
      "metadata": {
        "id": "P7kOA9sC55nb"
      },
      "execution_count": null,
      "outputs": []
    },
    {
      "cell_type": "code",
      "execution_count": null,
      "metadata": {
        "id": "fAr-zncI5zQm",
        "colab": {
          "base_uri": "https://localhost:8080/",
          "height": 381
        },
        "outputId": "f832dbd7-0635-43e6-b5bc-454ced2e6410"
      },
      "outputs": [
        {
          "output_type": "stream",
          "name": "stdout",
          "text": [
            "These are the first 10 post with the highest number of likes:   \n"
          ]
        },
        {
          "output_type": "execute_result",
          "data": {
            "text/plain": [
              "              post_id  numbr_likes  number_comments\n",
              "19624085  Bt3yaXmAM0d    8822952.0         165886.0\n",
              "19623988  BuwffB7g8cK    5447066.0          25303.0\n",
              "19624082  Buc1gyZAaMQ    5116398.0          40608.0\n",
              "19623986  BvcukE8AMuG    4271466.0          30770.0\n",
              "39701024  BqSLFVBFLfq    4264745.0          18691.0\n",
              "6293907   BwTSXBKg7gN    3586546.0          15405.0\n",
              "19624086  Btw8pFXAvQm    3558599.0          15715.0\n",
              "19802016  BvC3n6_gqin    3533326.0          59475.0\n",
              "30850564  Bw7vqLrFkHi    3340297.0         149489.0\n",
              "39812576  Bw2gTH1AiDA    3311246.0          64318.0"
            ],
            "text/html": [
              "\n",
              "  <div id=\"df-2408daa3-f640-46e6-9b0b-18242d779861\">\n",
              "    <div class=\"colab-df-container\">\n",
              "      <div>\n",
              "<style scoped>\n",
              "    .dataframe tbody tr th:only-of-type {\n",
              "        vertical-align: middle;\n",
              "    }\n",
              "\n",
              "    .dataframe tbody tr th {\n",
              "        vertical-align: top;\n",
              "    }\n",
              "\n",
              "    .dataframe thead th {\n",
              "        text-align: right;\n",
              "    }\n",
              "</style>\n",
              "<table border=\"1\" class=\"dataframe\">\n",
              "  <thead>\n",
              "    <tr style=\"text-align: right;\">\n",
              "      <th></th>\n",
              "      <th>post_id</th>\n",
              "      <th>numbr_likes</th>\n",
              "      <th>number_comments</th>\n",
              "    </tr>\n",
              "  </thead>\n",
              "  <tbody>\n",
              "    <tr>\n",
              "      <th>19624085</th>\n",
              "      <td>Bt3yaXmAM0d</td>\n",
              "      <td>8822952.0</td>\n",
              "      <td>165886.0</td>\n",
              "    </tr>\n",
              "    <tr>\n",
              "      <th>19623988</th>\n",
              "      <td>BuwffB7g8cK</td>\n",
              "      <td>5447066.0</td>\n",
              "      <td>25303.0</td>\n",
              "    </tr>\n",
              "    <tr>\n",
              "      <th>19624082</th>\n",
              "      <td>Buc1gyZAaMQ</td>\n",
              "      <td>5116398.0</td>\n",
              "      <td>40608.0</td>\n",
              "    </tr>\n",
              "    <tr>\n",
              "      <th>19623986</th>\n",
              "      <td>BvcukE8AMuG</td>\n",
              "      <td>4271466.0</td>\n",
              "      <td>30770.0</td>\n",
              "    </tr>\n",
              "    <tr>\n",
              "      <th>39701024</th>\n",
              "      <td>BqSLFVBFLfq</td>\n",
              "      <td>4264745.0</td>\n",
              "      <td>18691.0</td>\n",
              "    </tr>\n",
              "    <tr>\n",
              "      <th>6293907</th>\n",
              "      <td>BwTSXBKg7gN</td>\n",
              "      <td>3586546.0</td>\n",
              "      <td>15405.0</td>\n",
              "    </tr>\n",
              "    <tr>\n",
              "      <th>19624086</th>\n",
              "      <td>Btw8pFXAvQm</td>\n",
              "      <td>3558599.0</td>\n",
              "      <td>15715.0</td>\n",
              "    </tr>\n",
              "    <tr>\n",
              "      <th>19802016</th>\n",
              "      <td>BvC3n6_gqin</td>\n",
              "      <td>3533326.0</td>\n",
              "      <td>59475.0</td>\n",
              "    </tr>\n",
              "    <tr>\n",
              "      <th>30850564</th>\n",
              "      <td>Bw7vqLrFkHi</td>\n",
              "      <td>3340297.0</td>\n",
              "      <td>149489.0</td>\n",
              "    </tr>\n",
              "    <tr>\n",
              "      <th>39812576</th>\n",
              "      <td>Bw2gTH1AiDA</td>\n",
              "      <td>3311246.0</td>\n",
              "      <td>64318.0</td>\n",
              "    </tr>\n",
              "  </tbody>\n",
              "</table>\n",
              "</div>\n",
              "      <button class=\"colab-df-convert\" onclick=\"convertToInteractive('df-2408daa3-f640-46e6-9b0b-18242d779861')\"\n",
              "              title=\"Convert this dataframe to an interactive table.\"\n",
              "              style=\"display:none;\">\n",
              "        \n",
              "  <svg xmlns=\"http://www.w3.org/2000/svg\" height=\"24px\"viewBox=\"0 0 24 24\"\n",
              "       width=\"24px\">\n",
              "    <path d=\"M0 0h24v24H0V0z\" fill=\"none\"/>\n",
              "    <path d=\"M18.56 5.44l.94 2.06.94-2.06 2.06-.94-2.06-.94-.94-2.06-.94 2.06-2.06.94zm-11 1L8.5 8.5l.94-2.06 2.06-.94-2.06-.94L8.5 2.5l-.94 2.06-2.06.94zm10 10l.94 2.06.94-2.06 2.06-.94-2.06-.94-.94-2.06-.94 2.06-2.06.94z\"/><path d=\"M17.41 7.96l-1.37-1.37c-.4-.4-.92-.59-1.43-.59-.52 0-1.04.2-1.43.59L10.3 9.45l-7.72 7.72c-.78.78-.78 2.05 0 2.83L4 21.41c.39.39.9.59 1.41.59.51 0 1.02-.2 1.41-.59l7.78-7.78 2.81-2.81c.8-.78.8-2.07 0-2.86zM5.41 20L4 18.59l7.72-7.72 1.47 1.35L5.41 20z\"/>\n",
              "  </svg>\n",
              "      </button>\n",
              "      \n",
              "  <style>\n",
              "    .colab-df-container {\n",
              "      display:flex;\n",
              "      flex-wrap:wrap;\n",
              "      gap: 12px;\n",
              "    }\n",
              "\n",
              "    .colab-df-convert {\n",
              "      background-color: #E8F0FE;\n",
              "      border: none;\n",
              "      border-radius: 50%;\n",
              "      cursor: pointer;\n",
              "      display: none;\n",
              "      fill: #1967D2;\n",
              "      height: 32px;\n",
              "      padding: 0 0 0 0;\n",
              "      width: 32px;\n",
              "    }\n",
              "\n",
              "    .colab-df-convert:hover {\n",
              "      background-color: #E2EBFA;\n",
              "      box-shadow: 0px 1px 2px rgba(60, 64, 67, 0.3), 0px 1px 3px 1px rgba(60, 64, 67, 0.15);\n",
              "      fill: #174EA6;\n",
              "    }\n",
              "\n",
              "    [theme=dark] .colab-df-convert {\n",
              "      background-color: #3B4455;\n",
              "      fill: #D2E3FC;\n",
              "    }\n",
              "\n",
              "    [theme=dark] .colab-df-convert:hover {\n",
              "      background-color: #434B5C;\n",
              "      box-shadow: 0px 1px 3px 1px rgba(0, 0, 0, 0.15);\n",
              "      filter: drop-shadow(0px 1px 2px rgba(0, 0, 0, 0.3));\n",
              "      fill: #FFFFFF;\n",
              "    }\n",
              "  </style>\n",
              "\n",
              "      <script>\n",
              "        const buttonEl =\n",
              "          document.querySelector('#df-2408daa3-f640-46e6-9b0b-18242d779861 button.colab-df-convert');\n",
              "        buttonEl.style.display =\n",
              "          google.colab.kernel.accessAllowed ? 'block' : 'none';\n",
              "\n",
              "        async function convertToInteractive(key) {\n",
              "          const element = document.querySelector('#df-2408daa3-f640-46e6-9b0b-18242d779861');\n",
              "          const dataTable =\n",
              "            await google.colab.kernel.invokeFunction('convertToInteractive',\n",
              "                                                     [key], {});\n",
              "          if (!dataTable) return;\n",
              "\n",
              "          const docLinkHtml = 'Like what you see? Visit the ' +\n",
              "            '<a target=\"_blank\" href=https://colab.research.google.com/notebooks/data_table.ipynb>data table notebook</a>'\n",
              "            + ' to learn more about interactive tables.';\n",
              "          element.innerHTML = '';\n",
              "          dataTable['output_type'] = 'display_data';\n",
              "          await google.colab.output.renderOutput(dataTable, element);\n",
              "          const docLink = document.createElement('div');\n",
              "          docLink.innerHTML = docLinkHtml;\n",
              "          element.appendChild(docLink);\n",
              "        }\n",
              "      </script>\n",
              "    </div>\n",
              "  </div>\n",
              "  "
            ]
          },
          "metadata": {},
          "execution_count": 4
        }
      ],
      "source": [
        "# Sort the posts_dataframe based on the number of likes\n",
        "df_posts_sorted = df_small_posts.sort_values(by='numbr_likes', ascending=False)\n",
        "\n",
        "# Show top 10\n",
        "print(\"These are the first 10 post with the highest number of likes:   \")\n",
        "df_posts_sorted.head(10)\n"
      ]
    },
    {
      "cell_type": "markdown",
      "metadata": {
        "id": "QwcubDgjECSu"
      },
      "source": [
        "##### **What posts have the most and the least number of comments?**\n",
        "For this question we use the same dataset as used above. As we can see, the post with the highest number of comments, has way less likes than comments. This could be due to the fact that some people have responded multiple times or that it was a controversial post where people felt the need to comment, but not like. However, we are not sure if it is either of these conclusions, since we do not have any data about if people have responded multiple times or not. \n",
        "\n",
        "If we look at the 10 posts with the least amount of comments, we see that these are posts where no one has placed a comment. They still received likes, however, so people did see the post. They just did not feel the need to leave a comment."
      ]
    },
    {
      "cell_type": "code",
      "execution_count": null,
      "metadata": {
        "id": "lI96RHCFZ_s-"
      },
      "outputs": [],
      "source": [
        "# remove the NAN\n",
        "df_small_posts = df_small_posts.dropna( how='any',\n",
        "                    subset=['number_comments'])\n",
        "\n",
        "# sort the dataframe based on the number of comments\n",
        "df_posts_sorted = df_small_posts.sort_values(by='number_comments', ascending=False)"
      ]
    },
    {
      "cell_type": "code",
      "execution_count": null,
      "metadata": {
        "id": "3jRLKBS2Z00h",
        "colab": {
          "base_uri": "https://localhost:8080/",
          "height": 380
        },
        "outputId": "4d42c9c6-d32a-42de-a748-570dd9d3a39a"
      },
      "outputs": [
        {
          "output_type": "stream",
          "name": "stdout",
          "text": [
            "These are the first 10 posts with the most comments:   \n"
          ]
        },
        {
          "output_type": "execute_result",
          "data": {
            "text/plain": [
              "              post_id  numbr_likes  number_comments\n",
              "41873060  Bx2sPAjHviO      38871.0         488953.0\n",
              "12164781  BuGjhWAhAW5      81523.0         313997.0\n",
              "33261751  BJ-rkpTgn1N      54507.0         257488.0\n",
              "11149127  BMtisIxjhtT     331703.0         214365.0\n",
              "9383817   BzOOWj3DfZK      23515.0         189888.0\n",
              "5427268   BoQoM-JFkPA     129258.0         180635.0\n",
              "25257169  Bwarws1lCok     684861.0         173988.0\n",
              "6220011   Bt4qlVDAZMH    2224495.0         170836.0\n",
              "31689573  Bs9NhQkAcJA     226336.0         166919.0\n",
              "14257307  Bzqb95QI_1E     169791.0         166198.0"
            ],
            "text/html": [
              "\n",
              "  <div id=\"df-feae70cf-46b9-44d9-b25a-c528f5d8b4bb\">\n",
              "    <div class=\"colab-df-container\">\n",
              "      <div>\n",
              "<style scoped>\n",
              "    .dataframe tbody tr th:only-of-type {\n",
              "        vertical-align: middle;\n",
              "    }\n",
              "\n",
              "    .dataframe tbody tr th {\n",
              "        vertical-align: top;\n",
              "    }\n",
              "\n",
              "    .dataframe thead th {\n",
              "        text-align: right;\n",
              "    }\n",
              "</style>\n",
              "<table border=\"1\" class=\"dataframe\">\n",
              "  <thead>\n",
              "    <tr style=\"text-align: right;\">\n",
              "      <th></th>\n",
              "      <th>post_id</th>\n",
              "      <th>numbr_likes</th>\n",
              "      <th>number_comments</th>\n",
              "    </tr>\n",
              "  </thead>\n",
              "  <tbody>\n",
              "    <tr>\n",
              "      <th>41873060</th>\n",
              "      <td>Bx2sPAjHviO</td>\n",
              "      <td>38871.0</td>\n",
              "      <td>488953.0</td>\n",
              "    </tr>\n",
              "    <tr>\n",
              "      <th>12164781</th>\n",
              "      <td>BuGjhWAhAW5</td>\n",
              "      <td>81523.0</td>\n",
              "      <td>313997.0</td>\n",
              "    </tr>\n",
              "    <tr>\n",
              "      <th>33261751</th>\n",
              "      <td>BJ-rkpTgn1N</td>\n",
              "      <td>54507.0</td>\n",
              "      <td>257488.0</td>\n",
              "    </tr>\n",
              "    <tr>\n",
              "      <th>11149127</th>\n",
              "      <td>BMtisIxjhtT</td>\n",
              "      <td>331703.0</td>\n",
              "      <td>214365.0</td>\n",
              "    </tr>\n",
              "    <tr>\n",
              "      <th>9383817</th>\n",
              "      <td>BzOOWj3DfZK</td>\n",
              "      <td>23515.0</td>\n",
              "      <td>189888.0</td>\n",
              "    </tr>\n",
              "    <tr>\n",
              "      <th>5427268</th>\n",
              "      <td>BoQoM-JFkPA</td>\n",
              "      <td>129258.0</td>\n",
              "      <td>180635.0</td>\n",
              "    </tr>\n",
              "    <tr>\n",
              "      <th>25257169</th>\n",
              "      <td>Bwarws1lCok</td>\n",
              "      <td>684861.0</td>\n",
              "      <td>173988.0</td>\n",
              "    </tr>\n",
              "    <tr>\n",
              "      <th>6220011</th>\n",
              "      <td>Bt4qlVDAZMH</td>\n",
              "      <td>2224495.0</td>\n",
              "      <td>170836.0</td>\n",
              "    </tr>\n",
              "    <tr>\n",
              "      <th>31689573</th>\n",
              "      <td>Bs9NhQkAcJA</td>\n",
              "      <td>226336.0</td>\n",
              "      <td>166919.0</td>\n",
              "    </tr>\n",
              "    <tr>\n",
              "      <th>14257307</th>\n",
              "      <td>Bzqb95QI_1E</td>\n",
              "      <td>169791.0</td>\n",
              "      <td>166198.0</td>\n",
              "    </tr>\n",
              "  </tbody>\n",
              "</table>\n",
              "</div>\n",
              "      <button class=\"colab-df-convert\" onclick=\"convertToInteractive('df-feae70cf-46b9-44d9-b25a-c528f5d8b4bb')\"\n",
              "              title=\"Convert this dataframe to an interactive table.\"\n",
              "              style=\"display:none;\">\n",
              "        \n",
              "  <svg xmlns=\"http://www.w3.org/2000/svg\" height=\"24px\"viewBox=\"0 0 24 24\"\n",
              "       width=\"24px\">\n",
              "    <path d=\"M0 0h24v24H0V0z\" fill=\"none\"/>\n",
              "    <path d=\"M18.56 5.44l.94 2.06.94-2.06 2.06-.94-2.06-.94-.94-2.06-.94 2.06-2.06.94zm-11 1L8.5 8.5l.94-2.06 2.06-.94-2.06-.94L8.5 2.5l-.94 2.06-2.06.94zm10 10l.94 2.06.94-2.06 2.06-.94-2.06-.94-.94-2.06-.94 2.06-2.06.94z\"/><path d=\"M17.41 7.96l-1.37-1.37c-.4-.4-.92-.59-1.43-.59-.52 0-1.04.2-1.43.59L10.3 9.45l-7.72 7.72c-.78.78-.78 2.05 0 2.83L4 21.41c.39.39.9.59 1.41.59.51 0 1.02-.2 1.41-.59l7.78-7.78 2.81-2.81c.8-.78.8-2.07 0-2.86zM5.41 20L4 18.59l7.72-7.72 1.47 1.35L5.41 20z\"/>\n",
              "  </svg>\n",
              "      </button>\n",
              "      \n",
              "  <style>\n",
              "    .colab-df-container {\n",
              "      display:flex;\n",
              "      flex-wrap:wrap;\n",
              "      gap: 12px;\n",
              "    }\n",
              "\n",
              "    .colab-df-convert {\n",
              "      background-color: #E8F0FE;\n",
              "      border: none;\n",
              "      border-radius: 50%;\n",
              "      cursor: pointer;\n",
              "      display: none;\n",
              "      fill: #1967D2;\n",
              "      height: 32px;\n",
              "      padding: 0 0 0 0;\n",
              "      width: 32px;\n",
              "    }\n",
              "\n",
              "    .colab-df-convert:hover {\n",
              "      background-color: #E2EBFA;\n",
              "      box-shadow: 0px 1px 2px rgba(60, 64, 67, 0.3), 0px 1px 3px 1px rgba(60, 64, 67, 0.15);\n",
              "      fill: #174EA6;\n",
              "    }\n",
              "\n",
              "    [theme=dark] .colab-df-convert {\n",
              "      background-color: #3B4455;\n",
              "      fill: #D2E3FC;\n",
              "    }\n",
              "\n",
              "    [theme=dark] .colab-df-convert:hover {\n",
              "      background-color: #434B5C;\n",
              "      box-shadow: 0px 1px 3px 1px rgba(0, 0, 0, 0.15);\n",
              "      filter: drop-shadow(0px 1px 2px rgba(0, 0, 0, 0.3));\n",
              "      fill: #FFFFFF;\n",
              "    }\n",
              "  </style>\n",
              "\n",
              "      <script>\n",
              "        const buttonEl =\n",
              "          document.querySelector('#df-feae70cf-46b9-44d9-b25a-c528f5d8b4bb button.colab-df-convert');\n",
              "        buttonEl.style.display =\n",
              "          google.colab.kernel.accessAllowed ? 'block' : 'none';\n",
              "\n",
              "        async function convertToInteractive(key) {\n",
              "          const element = document.querySelector('#df-feae70cf-46b9-44d9-b25a-c528f5d8b4bb');\n",
              "          const dataTable =\n",
              "            await google.colab.kernel.invokeFunction('convertToInteractive',\n",
              "                                                     [key], {});\n",
              "          if (!dataTable) return;\n",
              "\n",
              "          const docLinkHtml = 'Like what you see? Visit the ' +\n",
              "            '<a target=\"_blank\" href=https://colab.research.google.com/notebooks/data_table.ipynb>data table notebook</a>'\n",
              "            + ' to learn more about interactive tables.';\n",
              "          element.innerHTML = '';\n",
              "          dataTable['output_type'] = 'display_data';\n",
              "          await google.colab.output.renderOutput(dataTable, element);\n",
              "          const docLink = document.createElement('div');\n",
              "          docLink.innerHTML = docLinkHtml;\n",
              "          element.appendChild(docLink);\n",
              "        }\n",
              "      </script>\n",
              "    </div>\n",
              "  </div>\n",
              "  "
            ]
          },
          "metadata": {},
          "execution_count": 4
        }
      ],
      "source": [
        "# Show first 10\n",
        "print(\"These are the first 10 posts with the most comments:   \")\n",
        "df_posts_sorted.head(10)"
      ]
    },
    {
      "cell_type": "code",
      "execution_count": null,
      "metadata": {
        "id": "9OTU22bMZ4Ep",
        "colab": {
          "base_uri": "https://localhost:8080/",
          "height": 380
        },
        "outputId": "ada23b5c-df95-4877-895d-d1b07e161065"
      },
      "outputs": [
        {
          "output_type": "stream",
          "name": "stdout",
          "text": [
            "These are the least 10 posts with the least comments:   \n"
          ]
        },
        {
          "output_type": "execute_result",
          "data": {
            "text/plain": [
              "              post_id  numbr_likes  number_comments\n",
              "10727132  Bx5XAzDHUe7         36.0              0.0\n",
              "29592201  BxIenYFnmAu         17.0              0.0\n",
              "29592204  Bw69L_ollho          9.0              0.0\n",
              "29592205  Bw5K1oGjIK4       1120.0              0.0\n",
              "10727121  BzQkgAUpp-y         83.0              0.0\n",
              "10727119  BohcyBgFtD6         16.0              0.0\n",
              "10727117  BqEZ-DRFCy8         29.0              0.0\n",
              "10727106  BzaQtxKJPci         31.0              0.0\n",
              "10727103  BzdFSh-nONl          5.0              0.0\n",
              "0         BXdjjUlgcgq         80.0              0.0"
            ],
            "text/html": [
              "\n",
              "  <div id=\"df-377ff282-694e-4f9d-9818-b54cd8274f16\">\n",
              "    <div class=\"colab-df-container\">\n",
              "      <div>\n",
              "<style scoped>\n",
              "    .dataframe tbody tr th:only-of-type {\n",
              "        vertical-align: middle;\n",
              "    }\n",
              "\n",
              "    .dataframe tbody tr th {\n",
              "        vertical-align: top;\n",
              "    }\n",
              "\n",
              "    .dataframe thead th {\n",
              "        text-align: right;\n",
              "    }\n",
              "</style>\n",
              "<table border=\"1\" class=\"dataframe\">\n",
              "  <thead>\n",
              "    <tr style=\"text-align: right;\">\n",
              "      <th></th>\n",
              "      <th>post_id</th>\n",
              "      <th>numbr_likes</th>\n",
              "      <th>number_comments</th>\n",
              "    </tr>\n",
              "  </thead>\n",
              "  <tbody>\n",
              "    <tr>\n",
              "      <th>10727132</th>\n",
              "      <td>Bx5XAzDHUe7</td>\n",
              "      <td>36.0</td>\n",
              "      <td>0.0</td>\n",
              "    </tr>\n",
              "    <tr>\n",
              "      <th>29592201</th>\n",
              "      <td>BxIenYFnmAu</td>\n",
              "      <td>17.0</td>\n",
              "      <td>0.0</td>\n",
              "    </tr>\n",
              "    <tr>\n",
              "      <th>29592204</th>\n",
              "      <td>Bw69L_ollho</td>\n",
              "      <td>9.0</td>\n",
              "      <td>0.0</td>\n",
              "    </tr>\n",
              "    <tr>\n",
              "      <th>29592205</th>\n",
              "      <td>Bw5K1oGjIK4</td>\n",
              "      <td>1120.0</td>\n",
              "      <td>0.0</td>\n",
              "    </tr>\n",
              "    <tr>\n",
              "      <th>10727121</th>\n",
              "      <td>BzQkgAUpp-y</td>\n",
              "      <td>83.0</td>\n",
              "      <td>0.0</td>\n",
              "    </tr>\n",
              "    <tr>\n",
              "      <th>10727119</th>\n",
              "      <td>BohcyBgFtD6</td>\n",
              "      <td>16.0</td>\n",
              "      <td>0.0</td>\n",
              "    </tr>\n",
              "    <tr>\n",
              "      <th>10727117</th>\n",
              "      <td>BqEZ-DRFCy8</td>\n",
              "      <td>29.0</td>\n",
              "      <td>0.0</td>\n",
              "    </tr>\n",
              "    <tr>\n",
              "      <th>10727106</th>\n",
              "      <td>BzaQtxKJPci</td>\n",
              "      <td>31.0</td>\n",
              "      <td>0.0</td>\n",
              "    </tr>\n",
              "    <tr>\n",
              "      <th>10727103</th>\n",
              "      <td>BzdFSh-nONl</td>\n",
              "      <td>5.0</td>\n",
              "      <td>0.0</td>\n",
              "    </tr>\n",
              "    <tr>\n",
              "      <th>0</th>\n",
              "      <td>BXdjjUlgcgq</td>\n",
              "      <td>80.0</td>\n",
              "      <td>0.0</td>\n",
              "    </tr>\n",
              "  </tbody>\n",
              "</table>\n",
              "</div>\n",
              "      <button class=\"colab-df-convert\" onclick=\"convertToInteractive('df-377ff282-694e-4f9d-9818-b54cd8274f16')\"\n",
              "              title=\"Convert this dataframe to an interactive table.\"\n",
              "              style=\"display:none;\">\n",
              "        \n",
              "  <svg xmlns=\"http://www.w3.org/2000/svg\" height=\"24px\"viewBox=\"0 0 24 24\"\n",
              "       width=\"24px\">\n",
              "    <path d=\"M0 0h24v24H0V0z\" fill=\"none\"/>\n",
              "    <path d=\"M18.56 5.44l.94 2.06.94-2.06 2.06-.94-2.06-.94-.94-2.06-.94 2.06-2.06.94zm-11 1L8.5 8.5l.94-2.06 2.06-.94-2.06-.94L8.5 2.5l-.94 2.06-2.06.94zm10 10l.94 2.06.94-2.06 2.06-.94-2.06-.94-.94-2.06-.94 2.06-2.06.94z\"/><path d=\"M17.41 7.96l-1.37-1.37c-.4-.4-.92-.59-1.43-.59-.52 0-1.04.2-1.43.59L10.3 9.45l-7.72 7.72c-.78.78-.78 2.05 0 2.83L4 21.41c.39.39.9.59 1.41.59.51 0 1.02-.2 1.41-.59l7.78-7.78 2.81-2.81c.8-.78.8-2.07 0-2.86zM5.41 20L4 18.59l7.72-7.72 1.47 1.35L5.41 20z\"/>\n",
              "  </svg>\n",
              "      </button>\n",
              "      \n",
              "  <style>\n",
              "    .colab-df-container {\n",
              "      display:flex;\n",
              "      flex-wrap:wrap;\n",
              "      gap: 12px;\n",
              "    }\n",
              "\n",
              "    .colab-df-convert {\n",
              "      background-color: #E8F0FE;\n",
              "      border: none;\n",
              "      border-radius: 50%;\n",
              "      cursor: pointer;\n",
              "      display: none;\n",
              "      fill: #1967D2;\n",
              "      height: 32px;\n",
              "      padding: 0 0 0 0;\n",
              "      width: 32px;\n",
              "    }\n",
              "\n",
              "    .colab-df-convert:hover {\n",
              "      background-color: #E2EBFA;\n",
              "      box-shadow: 0px 1px 2px rgba(60, 64, 67, 0.3), 0px 1px 3px 1px rgba(60, 64, 67, 0.15);\n",
              "      fill: #174EA6;\n",
              "    }\n",
              "\n",
              "    [theme=dark] .colab-df-convert {\n",
              "      background-color: #3B4455;\n",
              "      fill: #D2E3FC;\n",
              "    }\n",
              "\n",
              "    [theme=dark] .colab-df-convert:hover {\n",
              "      background-color: #434B5C;\n",
              "      box-shadow: 0px 1px 3px 1px rgba(0, 0, 0, 0.15);\n",
              "      filter: drop-shadow(0px 1px 2px rgba(0, 0, 0, 0.3));\n",
              "      fill: #FFFFFF;\n",
              "    }\n",
              "  </style>\n",
              "\n",
              "      <script>\n",
              "        const buttonEl =\n",
              "          document.querySelector('#df-377ff282-694e-4f9d-9818-b54cd8274f16 button.colab-df-convert');\n",
              "        buttonEl.style.display =\n",
              "          google.colab.kernel.accessAllowed ? 'block' : 'none';\n",
              "\n",
              "        async function convertToInteractive(key) {\n",
              "          const element = document.querySelector('#df-377ff282-694e-4f9d-9818-b54cd8274f16');\n",
              "          const dataTable =\n",
              "            await google.colab.kernel.invokeFunction('convertToInteractive',\n",
              "                                                     [key], {});\n",
              "          if (!dataTable) return;\n",
              "\n",
              "          const docLinkHtml = 'Like what you see? Visit the ' +\n",
              "            '<a target=\"_blank\" href=https://colab.research.google.com/notebooks/data_table.ipynb>data table notebook</a>'\n",
              "            + ' to learn more about interactive tables.';\n",
              "          element.innerHTML = '';\n",
              "          dataTable['output_type'] = 'display_data';\n",
              "          await google.colab.output.renderOutput(dataTable, element);\n",
              "          const docLink = document.createElement('div');\n",
              "          docLink.innerHTML = docLinkHtml;\n",
              "          element.appendChild(docLink);\n",
              "        }\n",
              "      </script>\n",
              "    </div>\n",
              "  </div>\n",
              "  "
            ]
          },
          "metadata": {},
          "execution_count": 7
        }
      ],
      "source": [
        "# Show least 10\n",
        "print(\"These are the least 10 posts with the least comments:   \")\n",
        "df_posts_sorted.tail(10)"
      ]
    },
    {
      "cell_type": "markdown",
      "metadata": {
        "id": "OBcgar43EGLm"
      },
      "source": [
        "##### **How many posts include tagged locations, and how many do not? Show it using an appropriate chart and comment your results.**\n",
        "To answer this question, we only need the column with the location id, since this column shows if (and what) location is tagged in a post. To visualise how many posts have a tagged location, we have chosen a pie chart, where the percentages of both categories are also displayed.\n",
        "\n",
        "As we can see, approximately 70% of the posts have a tagged location. It makes sense that the number of posts with a tagged location is higher than without a tagged location, because you can engage your followers more with what you do. Especially if you are a business."
      ]
    },
    {
      "cell_type": "code",
      "source": [
        "posts = pd.read_csv('instagram_posts.csv', delimiter=\"\\t\", usecols = ['location_id'], low_memory = True)\n",
        "\n",
        "#Counts all the posts without location\n",
        "n_no_location = posts['location_id'].isnull().sum()\n",
        "#Counts all the post with location\n",
        "n_location = posts['location_id'].count()\n"
      ],
      "metadata": {
        "id": "oAAlo72LGUTr"
      },
      "execution_count": null,
      "outputs": []
    },
    {
      "cell_type": "code",
      "source": [
        "print(\"The number of posts with location is:   \", n_location)\n",
        "print(\"The number of posts without location is:   \", n_no_location)\n",
        "\n",
        "# Create data\n",
        "size_of_groups=[n_location, n_no_location]\n",
        "\n",
        "# Create a pieplot\n",
        "plt.pie(size_of_groups, labels=['Location', 'No location'], colors=['yellow', 'blue'], autopct='%1.2f%%')\n",
        "\n",
        "plt.show()"
      ],
      "metadata": {
        "colab": {
          "base_uri": "https://localhost:8080/",
          "height": 284
        },
        "id": "rYkZ20ZfCez8",
        "outputId": "1ed987ea-f28b-4724-aacc-f7b0acefcbe7"
      },
      "execution_count": null,
      "outputs": [
        {
          "output_type": "stream",
          "name": "stdout",
          "text": [
            "The number of posts with location is:    29737425\n",
            "The number of posts without location is:    12972772\n"
          ]
        },
        {
          "output_type": "display_data",
          "data": {
            "text/plain": [
              "<Figure size 432x288 with 1 Axes>"
            ],
            "image/png": "[encoded data removed]"
          },
          "metadata": {}
        }
      ]
    },
    {
      "cell_type": "markdown",
      "metadata": {
        "id": "2r27Pa_DEKGS"
      },
      "source": [
        "##### **How many posts include only photos? How many also have videos?**\n",
        "For this question, we use the parameter 'post_type' of the posts dataset. A pie chart is created to visualize the number of posts with photos, videos or both. \n",
        "\n",
        "The pie chart shows that more than 95% of the posts contain only a picture, approximately 3% shows a video, and 0.1% of the posts have both. "
      ]
    },
    {
      "cell_type": "code",
      "execution_count": null,
      "metadata": {
        "id": "__nF7FIPWlOV"
      },
      "outputs": [],
      "source": [
        "# load in the data\n",
        "posts_type = pd.read_csv('instagram_posts.csv', delimiter=\"\\t\", usecols = ['post_type'], low_memory = True)"
      ]
    },
    {
      "cell_type": "code",
      "source": [
        "# We decided the name \"test\" with \"posts\" because it's more understandable\n",
        "post_photo = posts_type[\"post_type\"].value_counts()[1]\n",
        "post_video = posts_type[\"post_type\"].value_counts()[2]\n",
        "post_both = posts_type[\"post_type\"].value_counts()[3]\n",
        "\n",
        "print(\"Number of posts with only photos:  \", post_photo)\n",
        "print(\"Number of posts with only videos:  \", post_video)\n",
        "print(\"Number of posts with photos and videos:  \", post_both)\n",
        "\n",
        "# Create data\n",
        "size_of_groups=[post_photo, post_video,post_both]\n",
        "\n",
        "# Create a pieplot\n",
        "plt.pie(size_of_groups, labels=['Photos', 'Videos', 'Both'], colors=['yellow', 'orange', 'green'], autopct='%1.2f%%')\n",
        "\n",
        "plt.show()"
      ],
      "metadata": {
        "colab": {
          "base_uri": "https://localhost:8080/",
          "height": 302
        },
        "id": "y3X_G7d_Dl9m",
        "outputId": "08a654b0-3a47-46ef-84b4-5cbbcb308575"
      },
      "execution_count": null,
      "outputs": [
        {
          "output_type": "stream",
          "name": "stdout",
          "text": [
            "Number of posts with only photos:   41534486\n",
            "Number of posts with only videos:   1134768\n",
            "Number of posts with photos and videos:   40943\n"
          ]
        },
        {
          "output_type": "display_data",
          "data": {
            "text/plain": [
              "<Figure size 432x288 with 1 Axes>"
            ],
            "image/png": "[encoded data removed]"
          },
          "metadata": {}
        }
      ]
    },
    {
      "cell_type": "markdown",
      "metadata": {
        "id": "ODgiSZdxEOuw"
      },
      "source": [
        "##### **What's the percentage of business accounts vs non-business? What can you interpret regarding that percentage?**\n",
        "\n",
        "From the code, we can see that approximately 75% of the accounts are non-business accounts. We can interpret from this that most instagram users use it for private use instead for a business."
      ]
    },
    {
      "cell_type": "code",
      "execution_count": null,
      "metadata": {
        "id": "I5Su0HKUERzz"
      },
      "outputs": [],
      "source": [
        "# first remove the rows without any info\n",
        "df_profiles_business = df_profiles.dropna( how='any',\n",
        "                    subset=['is_business_account'])"
      ]
    },
    {
      "cell_type": "code",
      "execution_count": null,
      "metadata": {
        "colab": {
          "base_uri": "https://localhost:8080/"
        },
        "id": "CO4AeCuAFcng",
        "outputId": "54483eb8-91bd-4896-ec1f-00b3f7854158"
      },
      "outputs": [
        {
          "data": {
            "text/plain": [
              "False    0.751764\n",
              "True     0.248236\n",
              "Name: is_business_account, dtype: float64"
            ]
          },
          "execution_count": 13,
          "metadata": {},
          "output_type": "execute_result"
        }
      ],
      "source": [
        "# calculate the percentages\n",
        "df_profiles_business['is_business_account'].value_counts(normalize=True)\n"
      ]
    },
    {
      "cell_type": "markdown",
      "metadata": {
        "id": "th85T5UHyvQR"
      },
      "source": [
        "### Research question 3:  most common time in which users publish their posts"
      ]
    },
    {
      "cell_type": "markdown",
      "metadata": {
        "id": "q-hnSldMcTv4"
      },
      "source": [
        "##### **What is the most common time in which users publish their posts?**\n",
        "For this question, we will need to look at the cts which represents the time a post is published. To answer this question, we will convert the cts to hours, minutes, and seconds so we can see what is the most populair time to post a post. If we look at does three aspects, we see that the most common time to post is 21:00:09."
      ]
    },
    {
      "cell_type": "code",
      "source": [
        "# load in data\n",
        "posts = pd.read_csv('instagram_posts.csv', delimiter=\"\\t\", usecols = ['cts'], low_memory = True)\n"
      ],
      "metadata": {
        "id": "nQevqnmJFa7H"
      },
      "execution_count": null,
      "outputs": []
    },
    {
      "cell_type": "code",
      "execution_count": null,
      "metadata": {
        "colab": {
          "base_uri": "https://localhost:8080/"
        },
        "id": "MeIBq89-zIgo",
        "outputId": "1603f710-6b75-4dec-f52e-4caaf89459d6"
      },
      "outputs": [
        {
          "output_type": "stream",
          "name": "stdout",
          "text": [
            "This is the most common time in which users publish their posts:  \n",
            "21:00:09\n"
          ]
        }
      ],
      "source": [
        "\n",
        "#Takes only the date_time column and extrapolate only hours_minutes_seconds\n",
        "posts['cts'] = pd.to_datetime(posts['cts'], unit='ns').dt.time\n",
        "\n",
        "best_time = posts['cts'].value_counts()[0]\n",
        "c=0\n",
        "\n",
        "for values in posts['cts'].value_counts():\n",
        "  if values == best_time:\n",
        "    c+=1\n",
        "\n",
        "best_times = posts['cts'].value_counts().head(c).index.tolist()\n",
        "if c==1:\n",
        "  print(\"This is the most common time in which users publish their posts:  \")\n",
        "else:\n",
        "  print(\"Those are the most common times in which users publish their posts:  \")\n",
        "\n",
        "for x in best_times:\n",
        "  print (x)\n"
      ]
    },
    {
      "cell_type": "markdown",
      "metadata": {
        "id": "rtrVBBfGceN2"
      },
      "source": [
        "#### Create a function that receives a time intervals list as a parameter and returns a plot with the number of posts for each given interval."
      ]
    },
    {
      "cell_type": "code",
      "execution_count": 5,
      "metadata": {
        "id": "jeboXJ7iqsau"
      },
      "outputs": [],
      "source": [
        "import numpy as np\n",
        "from datetime import datetime\n",
        "import matplotlib.pyplot as plt\n",
        "\n",
        "def post_per_interval(interval, posts):\n",
        "\n",
        "  times = pd.to_datetime(posts['cts'], unit='ns')\n",
        "\n",
        "  times = pd.DataFrame(times)\n",
        "  times.set_index(pd.DatetimeIndex(times),inplace=True)\n",
        "\n",
        "  value_counts=pd.DataFrame()\n",
        "  \n",
        "  for i in interval:\n",
        "    start,end = i\n",
        "    total = times.between_time(start,end).count()\n",
        "    total = int(total[0])\n",
        "    results = pd.DataFrame({'Time interval' : [i], 'Total posts' : total})\n",
        "    value_counts = value_counts.append(results)\n",
        "\n",
        "  value_counts.reset_index(drop = True, inplace = True)\n",
        "  print(value_counts)\n",
        "\n",
        "  f = plt.figure()\n",
        "  ax = value_counts.plot(figsize=(15,8), kind='bar', color = \"green\", zorder=3)\n",
        "  plt.setp(ax, xlabel='Time Intervals', ylabel='Number of posts', title = 'Number of posts for each time interval')\n",
        "  plt.show()\n",
        "  return"
      ]
    },
    {
      "cell_type": "markdown",
      "metadata": {
        "id": "nhdtKoj8qUeM"
      },
      "source": [
        "#### Use the function that you created in the previous literal to plot the number of posts between the following time intervals:\n",
        "\n",
        "(Initial time, \tFinal time) :\n",
        "(06:00:00, 10:59:59)\n",
        "(11:00:00, 13:59:59)\n",
        "(14:00:00, 16:59:59)\n",
        "(17:00:00, 19:59:59)\n",
        "(20:00:00, 23:59:59)\n",
        "(00:00:00, 02:59:59)\n",
        "(03:00:00, 05:59:59)\n",
        "\n",
        "For this question, we will load in the cts and convert this using the function. After that, we will check what post falls in which interval.\n",
        "\n",
        "As we can see, most posts are posted between 20 and 24. In our opinion this makes sense, since most accounts are non-business accounts and this is after office hours. That is the moment people have time to look at instagram and post new posts. The least 'popular' time interval is between 03 - 06, which can be explained by the fact that most people are sleeping in this time interval. "
      ]
    },
    {
      "cell_type": "code",
      "source": [
        "# load in data\n",
        "posts = pd.read_csv('instagram_posts.csv', delimiter=\"\\t\", usecols = ['profile_id','cts'], low_memory = True)"
      ],
      "metadata": {
        "id": "AyyPox6OKG9T"
      },
      "execution_count": null,
      "outputs": []
    },
    {
      "cell_type": "code",
      "source": [
        "interval = [('06:00:00', '10:59:59'),\n",
        "('11:00:00', '13:59:59'),\n",
        "('14:00:00', '16:59:59'),\n",
        "('17:00:00', '19:59:59'),\n",
        "('20:00:00', '23:59:59'),\n",
        "('00:00:00', '02:59:59'),\n",
        "('03:00:00', '05:59:59')]"
      ],
      "metadata": {
        "id": "4Lauv2eeRZ8K"
      },
      "execution_count": 6,
      "outputs": []
    },
    {
      "cell_type": "code",
      "execution_count": null,
      "metadata": {
        "colab": {
          "base_uri": "https://localhost:8080/",
          "height": 672
        },
        "id": "vmFDN1yhcfOr",
        "outputId": "24510545-6ee6-43ed-a148-f1c76b7f8b45"
      },
      "outputs": [
        {
          "output_type": "stream",
          "name": "stdout",
          "text": [
            "          Time interval  Total posts\n",
            "0  (06:00:00, 10:59:59)        29067\n",
            "1  (11:00:00, 13:59:59)        25720\n",
            "2  (14:00:00, 16:59:59)        31735\n",
            "3  (17:00:00, 19:59:59)        35306\n",
            "4  (20:00:00, 23:59:59)        41501\n",
            "5  (00:00:00, 02:59:59)        19897\n",
            "6  (03:00:00, 05:59:59)        16774\n"
          ]
        },
        {
          "output_type": "display_data",
          "data": {
            "text/plain": [
              "<Figure size 432x288 with 0 Axes>"
            ]
          },
          "metadata": {}
        },
        {
          "output_type": "display_data",
          "data": {
            "text/plain": [
              "<Figure size 1080x576 with 1 Axes>"
            ],
            "image/png": "[encoded data removed]"
          },
          "metadata": {
            "needs_background": "light"
          }
        }
      ],
      "source": [
        "posts = pd.read_csv(\"instagram_posts.csv\", delimiter='\\t', nrows = 200000)\n",
        "\n",
        "post_per_interval(interval, posts)"
      ]
    },
    {
      "cell_type": "markdown",
      "metadata": {
        "id": "uQzlqNiEpucl"
      },
      "source": [
        "### Research question 4: in most cases, we will not have a consistent dataset, and the one we are dealing with is not an exception (ex. in the given datasets, you may not find the information of the profiles for some of the posts). So let’s enhance our analysis."
      ]
    },
    {
      "cell_type": "markdown",
      "metadata": {
        "id": "mUWm4DbdqKVv"
      },
      "source": [
        "##### **Write a function that, given a profile_id, will be able to return the posts that belong to the given profile_id.**\n",
        "For this question, we need the post id, the profile id, the number of likes, and the number of comments. The profile id is needed to filter on a certain profile. The post id is necessary so the post can be traced back. The number of likes and comments give an idea of the post and its popularity to give a quick view. "
      ]
    },
    {
      "cell_type": "code",
      "source": [
        "posts = pd.read_csv('instagram_posts.csv', delimiter=\"\\t\", usecols = ['post_id', 'profile_id', 'numbr_likes', 'number_comments','cts'], low_memory = True)"
      ],
      "metadata": {
        "id": "YhkFamO1hbYa"
      },
      "execution_count": 7,
      "outputs": []
    },
    {
      "cell_type": "code",
      "source": [
        "def find_post_by_profileID(profileID):  \n",
        "  return(posts.loc[posts['profile_id'] == profileID])\n"
      ],
      "metadata": {
        "id": "g6PKkJkzdXYa"
      },
      "execution_count": 8,
      "outputs": []
    },
    {
      "cell_type": "code",
      "execution_count": null,
      "metadata": {
        "colab": {
          "base_uri": "https://localhost:8080/",
          "height": 1000
        },
        "id": "OB3mVnlwqGJl",
        "outputId": "1a19119c-8349-4d4e-c814-629471552eb3"
      },
      "outputs": [
        {
          "name": "stdout",
          "output_type": "stream",
          "text": [
            "Please insert a profile_id:  2237947779\n"
          ]
        },
        {
          "output_type": "execute_result",
          "data": {
            "text/plain": [
              "              post_id    profile_id  numbr_likes  number_comments\n",
              "0         BXdjjUlgcgq  2.237948e+09         80.0              0.0\n",
              "773482    BeyPed5hKj9  2.237948e+09         86.0              2.0\n",
              "2868573   Bunhd1DFVAG  2.237948e+09        168.0              3.0\n",
              "2868706   Bppi85gliQK  2.237948e+09        102.0              2.0\n",
              "3730200   BuDfIyslzfw  2.237948e+09        145.0              2.0\n",
              "29715661  BxJsMDpA2yH  2.237948e+09        124.0              2.0\n",
              "29715667  Bt5LFpZlm3z  2.237948e+09        150.0              3.0\n",
              "29715668  BxZIzaQhS-o  2.237948e+09        166.0              2.0\n",
              "29715669  BxRZvS0gPIA  2.237948e+09        220.0              9.0\n",
              "29715769  BwygkNCAShv  2.237948e+09        198.0              2.0\n",
              "29715770  Bwm7hEKHBzs  2.237948e+09        217.0              1.0\n",
              "29715771  BwYuE0cghyB  2.237948e+09        153.0              1.0\n",
              "29715772  BwGuhAoFSWj  2.237948e+09        178.0              4.0\n",
              "29715779  BwBj2vhFuGH  2.237948e+09        119.0              1.0\n",
              "29715780  Bw_XgfXA9YT  2.237948e+09        140.0              4.0\n",
              "39961173  Bw3nuV6ACyY  2.237948e+09        171.0              7.0\n",
              "40304341  BwJS1H9lfiJ  2.237948e+09        190.0              4.0\n",
              "41441812  Bf6avRfheG1  2.237948e+09        113.0              2.0\n",
              "41878656  BxMRhd2Ajgm  2.237948e+09        123.0              0.0\n",
              "42710139  Be93_r7Bnhq  2.237948e+09        129.0              1.0\n",
              "42710140  BtNaOjolj_n  2.237948e+09        114.0              4.0\n",
              "42710141  BkMhROUhNbu  2.237948e+09        119.0              8.0\n",
              "42710142  BeOMICahv0d  2.237948e+09        153.0              2.0\n",
              "42710143  BeUrXsoB0ou  2.237948e+09        125.0              1.0\n",
              "42710145  BvLnQ5QFHAs  2.237948e+09        253.0             22.0\n",
              "42710146  BrZjxHllTd9  2.237948e+09        130.0              5.0\n",
              "42710147  BeCp_INhyoh  2.237948e+09        122.0              1.0\n",
              "42710161  BqjeI31lw-y  2.237948e+09        103.0              0.0\n",
              "42710174  BoQpcWQB-gC  2.237948e+09         76.0              0.0\n",
              "42710175  Bn1k1odAXa5  2.237948e+09         73.0              0.0\n",
              "42710176  BmaTjjpBTG9  2.237948e+09         50.0              0.0\n",
              "42710177  BmNSg2ih5ex  2.237948e+09         77.0              1.0\n",
              "42710178  BkjvPM1Bpxa  2.237948e+09         60.0              2.0\n",
              "42710179  Bg22N6AhebK  2.237948e+09         47.0              0.0\n",
              "42710180  BgS2rd4BozM  2.237948e+09        113.0              1.0\n",
              "42710181  Bc6jrZIHttD  2.237948e+09        107.0              1.0\n",
              "42710182  BgDZmg1D0If  2.237948e+09         69.0              0.0\n",
              "42710183  Bf-QTObhSmW  2.237948e+09        133.0              2.0"
            ],
            "text/html": [
              "\n",
              "  <div id=\"df-e8f1e9ac-01df-4843-82aa-682f41e69159\">\n",
              "    <div class=\"colab-df-container\">\n",
              "      <div>\n",
              "<style scoped>\n",
              "    .dataframe tbody tr th:only-of-type {\n",
              "        vertical-align: middle;\n",
              "    }\n",
              "\n",
              "    .dataframe tbody tr th {\n",
              "        vertical-align: top;\n",
              "    }\n",
              "\n",
              "    .dataframe thead th {\n",
              "        text-align: right;\n",
              "    }\n",
              "</style>\n",
              "<table border=\"1\" class=\"dataframe\">\n",
              "  <thead>\n",
              "    <tr style=\"text-align: right;\">\n",
              "      <th></th>\n",
              "      <th>post_id</th>\n",
              "      <th>profile_id</th>\n",
              "      <th>numbr_likes</th>\n",
              "      <th>number_comments</th>\n",
              "    </tr>\n",
              "  </thead>\n",
              "  <tbody>\n",
              "    <tr>\n",
              "      <th>0</th>\n",
              "      <td>BXdjjUlgcgq</td>\n",
              "      <td>2.237948e+09</td>\n",
              "      <td>80.0</td>\n",
              "      <td>0.0</td>\n",
              "    </tr>\n",
              "    <tr>\n",
              "      <th>773482</th>\n",
              "      <td>BeyPed5hKj9</td>\n",
              "      <td>2.237948e+09</td>\n",
              "      <td>86.0</td>\n",
              "      <td>2.0</td>\n",
              "    </tr>\n",
              "    <tr>\n",
              "      <th>2868573</th>\n",
              "      <td>Bunhd1DFVAG</td>\n",
              "      <td>2.237948e+09</td>\n",
              "      <td>168.0</td>\n",
              "      <td>3.0</td>\n",
              "    </tr>\n",
              "    <tr>\n",
              "      <th>2868706</th>\n",
              "      <td>Bppi85gliQK</td>\n",
              "      <td>2.237948e+09</td>\n",
              "      <td>102.0</td>\n",
              "      <td>2.0</td>\n",
              "    </tr>\n",
              "    <tr>\n",
              "      <th>3730200</th>\n",
              "      <td>BuDfIyslzfw</td>\n",
              "      <td>2.237948e+09</td>\n",
              "      <td>145.0</td>\n",
              "      <td>2.0</td>\n",
              "    </tr>\n",
              "    <tr>\n",
              "      <th>29715661</th>\n",
              "      <td>BxJsMDpA2yH</td>\n",
              "      <td>2.237948e+09</td>\n",
              "      <td>124.0</td>\n",
              "      <td>2.0</td>\n",
              "    </tr>\n",
              "    <tr>\n",
              "      <th>29715667</th>\n",
              "      <td>Bt5LFpZlm3z</td>\n",
              "      <td>2.237948e+09</td>\n",
              "      <td>150.0</td>\n",
              "      <td>3.0</td>\n",
              "    </tr>\n",
              "    <tr>\n",
              "      <th>29715668</th>\n",
              "      <td>BxZIzaQhS-o</td>\n",
              "      <td>2.237948e+09</td>\n",
              "      <td>166.0</td>\n",
              "      <td>2.0</td>\n",
              "    </tr>\n",
              "    <tr>\n",
              "      <th>29715669</th>\n",
              "      <td>BxRZvS0gPIA</td>\n",
              "      <td>2.237948e+09</td>\n",
              "      <td>220.0</td>\n",
              "      <td>9.0</td>\n",
              "    </tr>\n",
              "    <tr>\n",
              "      <th>29715769</th>\n",
              "      <td>BwygkNCAShv</td>\n",
              "      <td>2.237948e+09</td>\n",
              "      <td>198.0</td>\n",
              "      <td>2.0</td>\n",
              "    </tr>\n",
              "    <tr>\n",
              "      <th>29715770</th>\n",
              "      <td>Bwm7hEKHBzs</td>\n",
              "      <td>2.237948e+09</td>\n",
              "      <td>217.0</td>\n",
              "      <td>1.0</td>\n",
              "    </tr>\n",
              "    <tr>\n",
              "      <th>29715771</th>\n",
              "      <td>BwYuE0cghyB</td>\n",
              "      <td>2.237948e+09</td>\n",
              "      <td>153.0</td>\n",
              "      <td>1.0</td>\n",
              "    </tr>\n",
              "    <tr>\n",
              "      <th>29715772</th>\n",
              "      <td>BwGuhAoFSWj</td>\n",
              "      <td>2.237948e+09</td>\n",
              "      <td>178.0</td>\n",
              "      <td>4.0</td>\n",
              "    </tr>\n",
              "    <tr>\n",
              "      <th>29715779</th>\n",
              "      <td>BwBj2vhFuGH</td>\n",
              "      <td>2.237948e+09</td>\n",
              "      <td>119.0</td>\n",
              "      <td>1.0</td>\n",
              "    </tr>\n",
              "    <tr>\n",
              "      <th>29715780</th>\n",
              "      <td>Bw_XgfXA9YT</td>\n",
              "      <td>2.237948e+09</td>\n",
              "      <td>140.0</td>\n",
              "      <td>4.0</td>\n",
              "    </tr>\n",
              "    <tr>\n",
              "      <th>39961173</th>\n",
              "      <td>Bw3nuV6ACyY</td>\n",
              "      <td>2.237948e+09</td>\n",
              "      <td>171.0</td>\n",
              "      <td>7.0</td>\n",
              "    </tr>\n",
              "    <tr>\n",
              "      <th>40304341</th>\n",
              "      <td>BwJS1H9lfiJ</td>\n",
              "      <td>2.237948e+09</td>\n",
              "      <td>190.0</td>\n",
              "      <td>4.0</td>\n",
              "    </tr>\n",
              "    <tr>\n",
              "      <th>41441812</th>\n",
              "      <td>Bf6avRfheG1</td>\n",
              "      <td>2.237948e+09</td>\n",
              "      <td>113.0</td>\n",
              "      <td>2.0</td>\n",
              "    </tr>\n",
              "    <tr>\n",
              "      <th>41878656</th>\n",
              "      <td>BxMRhd2Ajgm</td>\n",
              "      <td>2.237948e+09</td>\n",
              "      <td>123.0</td>\n",
              "      <td>0.0</td>\n",
              "    </tr>\n",
              "    <tr>\n",
              "      <th>42710139</th>\n",
              "      <td>Be93_r7Bnhq</td>\n",
              "      <td>2.237948e+09</td>\n",
              "      <td>129.0</td>\n",
              "      <td>1.0</td>\n",
              "    </tr>\n",
              "    <tr>\n",
              "      <th>42710140</th>\n",
              "      <td>BtNaOjolj_n</td>\n",
              "      <td>2.237948e+09</td>\n",
              "      <td>114.0</td>\n",
              "      <td>4.0</td>\n",
              "    </tr>\n",
              "    <tr>\n",
              "      <th>42710141</th>\n",
              "      <td>BkMhROUhNbu</td>\n",
              "      <td>2.237948e+09</td>\n",
              "      <td>119.0</td>\n",
              "      <td>8.0</td>\n",
              "    </tr>\n",
              "    <tr>\n",
              "      <th>42710142</th>\n",
              "      <td>BeOMICahv0d</td>\n",
              "      <td>2.237948e+09</td>\n",
              "      <td>153.0</td>\n",
              "      <td>2.0</td>\n",
              "    </tr>\n",
              "    <tr>\n",
              "      <th>42710143</th>\n",
              "      <td>BeUrXsoB0ou</td>\n",
              "      <td>2.237948e+09</td>\n",
              "      <td>125.0</td>\n",
              "      <td>1.0</td>\n",
              "    </tr>\n",
              "    <tr>\n",
              "      <th>42710145</th>\n",
              "      <td>BvLnQ5QFHAs</td>\n",
              "      <td>2.237948e+09</td>\n",
              "      <td>253.0</td>\n",
              "      <td>22.0</td>\n",
              "    </tr>\n",
              "    <tr>\n",
              "      <th>42710146</th>\n",
              "      <td>BrZjxHllTd9</td>\n",
              "      <td>2.237948e+09</td>\n",
              "      <td>130.0</td>\n",
              "      <td>5.0</td>\n",
              "    </tr>\n",
              "    <tr>\n",
              "      <th>42710147</th>\n",
              "      <td>BeCp_INhyoh</td>\n",
              "      <td>2.237948e+09</td>\n",
              "      <td>122.0</td>\n",
              "      <td>1.0</td>\n",
              "    </tr>\n",
              "    <tr>\n",
              "      <th>42710161</th>\n",
              "      <td>BqjeI31lw-y</td>\n",
              "      <td>2.237948e+09</td>\n",
              "      <td>103.0</td>\n",
              "      <td>0.0</td>\n",
              "    </tr>\n",
              "    <tr>\n",
              "      <th>42710174</th>\n",
              "      <td>BoQpcWQB-gC</td>\n",
              "      <td>2.237948e+09</td>\n",
              "      <td>76.0</td>\n",
              "      <td>0.0</td>\n",
              "    </tr>\n",
              "    <tr>\n",
              "      <th>42710175</th>\n",
              "      <td>Bn1k1odAXa5</td>\n",
              "      <td>2.237948e+09</td>\n",
              "      <td>73.0</td>\n",
              "      <td>0.0</td>\n",
              "    </tr>\n",
              "    <tr>\n",
              "      <th>42710176</th>\n",
              "      <td>BmaTjjpBTG9</td>\n",
              "      <td>2.237948e+09</td>\n",
              "      <td>50.0</td>\n",
              "      <td>0.0</td>\n",
              "    </tr>\n",
              "    <tr>\n",
              "      <th>42710177</th>\n",
              "      <td>BmNSg2ih5ex</td>\n",
              "      <td>2.237948e+09</td>\n",
              "      <td>77.0</td>\n",
              "      <td>1.0</td>\n",
              "    </tr>\n",
              "    <tr>\n",
              "      <th>42710178</th>\n",
              "      <td>BkjvPM1Bpxa</td>\n",
              "      <td>2.237948e+09</td>\n",
              "      <td>60.0</td>\n",
              "      <td>2.0</td>\n",
              "    </tr>\n",
              "    <tr>\n",
              "      <th>42710179</th>\n",
              "      <td>Bg22N6AhebK</td>\n",
              "      <td>2.237948e+09</td>\n",
              "      <td>47.0</td>\n",
              "      <td>0.0</td>\n",
              "    </tr>\n",
              "    <tr>\n",
              "      <th>42710180</th>\n",
              "      <td>BgS2rd4BozM</td>\n",
              "      <td>2.237948e+09</td>\n",
              "      <td>113.0</td>\n",
              "      <td>1.0</td>\n",
              "    </tr>\n",
              "    <tr>\n",
              "      <th>42710181</th>\n",
              "      <td>Bc6jrZIHttD</td>\n",
              "      <td>2.237948e+09</td>\n",
              "      <td>107.0</td>\n",
              "      <td>1.0</td>\n",
              "    </tr>\n",
              "    <tr>\n",
              "      <th>42710182</th>\n",
              "      <td>BgDZmg1D0If</td>\n",
              "      <td>2.237948e+09</td>\n",
              "      <td>69.0</td>\n",
              "      <td>0.0</td>\n",
              "    </tr>\n",
              "    <tr>\n",
              "      <th>42710183</th>\n",
              "      <td>Bf-QTObhSmW</td>\n",
              "      <td>2.237948e+09</td>\n",
              "      <td>133.0</td>\n",
              "      <td>2.0</td>\n",
              "    </tr>\n",
              "  </tbody>\n",
              "</table>\n",
              "</div>\n",
              "      <button class=\"colab-df-convert\" onclick=\"convertToInteractive('df-e8f1e9ac-01df-4843-82aa-682f41e69159')\"\n",
              "              title=\"Convert this dataframe to an interactive table.\"\n",
              "              style=\"display:none;\">\n",
              "        \n",
              "  <svg xmlns=\"http://www.w3.org/2000/svg\" height=\"24px\"viewBox=\"0 0 24 24\"\n",
              "       width=\"24px\">\n",
              "    <path d=\"M0 0h24v24H0V0z\" fill=\"none\"/>\n",
              "    <path d=\"M18.56 5.44l.94 2.06.94-2.06 2.06-.94-2.06-.94-.94-2.06-.94 2.06-2.06.94zm-11 1L8.5 8.5l.94-2.06 2.06-.94-2.06-.94L8.5 2.5l-.94 2.06-2.06.94zm10 10l.94 2.06.94-2.06 2.06-.94-2.06-.94-.94-2.06-.94 2.06-2.06.94z\"/><path d=\"M17.41 7.96l-1.37-1.37c-.4-.4-.92-.59-1.43-.59-.52 0-1.04.2-1.43.59L10.3 9.45l-7.72 7.72c-.78.78-.78 2.05 0 2.83L4 21.41c.39.39.9.59 1.41.59.51 0 1.02-.2 1.41-.59l7.78-7.78 2.81-2.81c.8-.78.8-2.07 0-2.86zM5.41 20L4 18.59l7.72-7.72 1.47 1.35L5.41 20z\"/>\n",
              "  </svg>\n",
              "      </button>\n",
              "      \n",
              "  <style>\n",
              "    .colab-df-container {\n",
              "      display:flex;\n",
              "      flex-wrap:wrap;\n",
              "      gap: 12px;\n",
              "    }\n",
              "\n",
              "    .colab-df-convert {\n",
              "      background-color: #E8F0FE;\n",
              "      border: none;\n",
              "      border-radius: 50%;\n",
              "      cursor: pointer;\n",
              "      display: none;\n",
              "      fill: #1967D2;\n",
              "      height: 32px;\n",
              "      padding: 0 0 0 0;\n",
              "      width: 32px;\n",
              "    }\n",
              "\n",
              "    .colab-df-convert:hover {\n",
              "      background-color: #E2EBFA;\n",
              "      box-shadow: 0px 1px 2px rgba(60, 64, 67, 0.3), 0px 1px 3px 1px rgba(60, 64, 67, 0.15);\n",
              "      fill: #174EA6;\n",
              "    }\n",
              "\n",
              "    [theme=dark] .colab-df-convert {\n",
              "      background-color: #3B4455;\n",
              "      fill: #D2E3FC;\n",
              "    }\n",
              "\n",
              "    [theme=dark] .colab-df-convert:hover {\n",
              "      background-color: #434B5C;\n",
              "      box-shadow: 0px 1px 3px 1px rgba(0, 0, 0, 0.15);\n",
              "      filter: drop-shadow(0px 1px 2px rgba(0, 0, 0, 0.3));\n",
              "      fill: #FFFFFF;\n",
              "    }\n",
              "  </style>\n",
              "\n",
              "      <script>\n",
              "        const buttonEl =\n",
              "          document.querySelector('#df-e8f1e9ac-01df-4843-82aa-682f41e69159 button.colab-df-convert');\n",
              "        buttonEl.style.display =\n",
              "          google.colab.kernel.accessAllowed ? 'block' : 'none';\n",
              "\n",
              "        async function convertToInteractive(key) {\n",
              "          const element = document.querySelector('#df-e8f1e9ac-01df-4843-82aa-682f41e69159');\n",
              "          const dataTable =\n",
              "            await google.colab.kernel.invokeFunction('convertToInteractive',\n",
              "                                                     [key], {});\n",
              "          if (!dataTable) return;\n",
              "\n",
              "          const docLinkHtml = 'Like what you see? Visit the ' +\n",
              "            '<a target=\"_blank\" href=https://colab.research.google.com/notebooks/data_table.ipynb>data table notebook</a>'\n",
              "            + ' to learn more about interactive tables.';\n",
              "          element.innerHTML = '';\n",
              "          dataTable['output_type'] = 'display_data';\n",
              "          await google.colab.output.renderOutput(dataTable, element);\n",
              "          const docLink = document.createElement('div');\n",
              "          docLink.innerHTML = docLinkHtml;\n",
              "          element.appendChild(docLink);\n",
              "        }\n",
              "      </script>\n",
              "    </div>\n",
              "  </div>\n",
              "  "
            ]
          },
          "metadata": {},
          "execution_count": 6
        }
      ],
      "source": [
        "#Example : 2237947779\n",
        "#The profile_id in the table shown below is written in a compact form,\n",
        "#the real form is the one shown in the row up this\n",
        "profileID = float(input(\"Please insert a profile_id:  \"))\n",
        "find_post_by_profileID(profileID)"
      ]
    },
    {
      "cell_type": "markdown",
      "metadata": {
        "id": "tZbJ4EAGqPLE"
      },
      "source": [
        "##### **Write another function that, given an input n (an integer), will return the posts that belong to the n top posted profiles (top n profiles that have posted the highest number of posts) that their data is available in the profile.csv using the previously written function.**\n",
        "First, we will sort the profiles on the number of posts. After that, we will loop over the given number and run the 'find_post_by_profileID' function that is programmed in the previous question. This will give the posts of the top n popular profiles based on their number of posts. "
      ]
    },
    {
      "cell_type": "code",
      "execution_count": null,
      "metadata": {
        "colab": {
          "base_uri": "https://localhost:8080/"
        },
        "id": "FJ-yY2jyqTUT",
        "outputId": "3e648b08-cb74-42c5-f2d2-dd5ccc62fadc"
      },
      "outputs": [
        {
          "name": "stdout",
          "output_type": "stream",
          "text": [
            "Insert an integer number:  3\n"
          ]
        }
      ],
      "source": [
        "profiles = pd.read_csv('instagram_profiles.csv', delimiter='\\t')\n",
        "df_profiles_sorted_by_n_posts = profiles.sort_values(by='n_posts', ascending=False)\n",
        "\n",
        "def posts_of_topN(n):\n",
        "  top_n = df_profiles_sorted_by_n_posts.head(n)\n",
        "  for i in range(n):\n",
        "    find_post_by_profileID(top_n.iloc[i].profile_id)\n",
        "  return\n",
        "\n",
        "n = int(input(\"Insert an integer number:  \"))\n",
        "posts_of_topN(n)\n"
      ]
    },
    {
      "cell_type": "markdown",
      "metadata": {
        "id": "EEFNhniNF2Bk"
      },
      "source": [
        "##### **What is the average number of \"likes\" and comments of the top 10 profiles with the highest number of posts which their information is available in profile.csv?**"
      ]
    },
    {
      "cell_type": "code",
      "execution_count": null,
      "metadata": {
        "id": "ewopSxvDF6xX",
        "colab": {
          "base_uri": "https://localhost:8080/"
        },
        "outputId": "e73f98c7-9044-4c81-eb3b-9da7abd061d4"
      },
      "outputs": [
        {
          "output_type": "stream",
          "name": "stdout",
          "text": [
            "The average of likes of user  jasem33312  is:  7.666666666666667\n",
            "The average of comments of user  jasem33312  is:  0.0\n",
            "\n",
            "\n",
            "The average of likes of user  koenigpic  is:  0.0\n",
            "The average of comments of user  koenigpic  is:  0.0\n",
            "\n",
            "\n",
            "The average of likes of user  rudyanto62  is:  2.96\n",
            "The average of comments of user  rudyanto62  is:  0.04\n",
            "\n",
            "\n",
            "The average of likes of user  hometown_ni  is:  0.2962962962962963\n",
            "The average of comments of user  hometown_ni  is:  0.0\n",
            "\n",
            "\n",
            "The average of likes of user  dwfitfiber_thailand  is:  1.5405405405405406\n",
            "The average of comments of user  dwfitfiber_thailand  is:  0.0\n",
            "\n",
            "\n",
            "The average of likes of user  waxking911  is:  2.026315789473684\n",
            "The average of comments of user  waxking911  is:  0.18421052631578946\n",
            "\n",
            "\n",
            "The average of likes of user  gamt_official  is:  6.477611940298507\n",
            "The average of comments of user  gamt_official  is:  0.04477611940298507\n",
            "\n",
            "\n",
            "The average of likes of user  collarosedw_official  is:  0.4\n",
            "The average of comments of user  collarosedw_official  is:  0.04\n",
            "\n",
            "\n",
            "The average of likes of user  gamt_authentic  is:  3.921875\n",
            "The average of comments of user  gamt_authentic  is:  0.0\n",
            "\n",
            "\n",
            "The average of likes of user  ivankkkka.trmp  is:  nan\n",
            "The average of comments of user  ivankkkka.trmp  is:  nan\n",
            "\n",
            "\n"
          ]
        }
      ],
      "source": [
        "# load in the data\n",
        "profiles = pd.read_csv('instagram_profiles.csv', delimiter='\\t')\n",
        "# sort on the number of posts\n",
        "df_profiles_sorted_by_n_posts = profiles.sort_values(by='n_posts', ascending=False)\n",
        "# print the top 10\n",
        "top_10 = df_profiles_sorted_by_n_posts.head(10)\n",
        "\n",
        "# loop over the top 10\n",
        "for i in range(10):\n",
        "  post_i = find_post_by_profileID(top_10.iloc[i].profile_id)\n",
        "  user = top_10.iloc[i].profile_name\n",
        "  # determine average likes\n",
        "  avg_likes_i = post_i['numbr_likes'].mean()\n",
        "  # determine average number of comments\n",
        "  avg_comments_i = post_i['number_comments'].mean()\n",
        "  print(\"The average of likes of user \",user, \" is: \", avg_likes_i)\n",
        "  print(\"The average of comments of user \",user, \" is: \", avg_comments_i)\n",
        "  print(\"\\n\")\n"
      ]
    },
    {
      "cell_type": "markdown",
      "metadata": {
        "id": "xpXFzTHsHIwR"
      },
      "source": [
        "##### **Plot the number of posts that these top 10 profiles have sent on Instagram in the given interval in question RQ3. Interpret the resulting chart.**\n"
      ]
    },
    {
      "cell_type": "code",
      "execution_count": 9,
      "metadata": {
        "id": "XrXipQVEHJ7p",
        "colab": {
          "base_uri": "https://localhost:8080/",
          "height": 670
        },
        "outputId": "c990fb48-de3e-4300-8a5d-ab9fb8f580bd"
      },
      "outputs": [
        {
          "output_type": "stream",
          "name": "stdout",
          "text": [
            "          Time interval  Total posts\n",
            "0  (06:00:00, 10:59:59)           44\n",
            "1  (11:00:00, 13:59:59)           14\n",
            "2  (14:00:00, 16:59:59)           17\n",
            "3  (17:00:00, 19:59:59)           11\n",
            "4  (20:00:00, 23:59:59)           10\n",
            "5  (00:00:00, 02:59:59)           25\n",
            "6  (03:00:00, 05:59:59)           41\n"
          ]
        },
        {
          "output_type": "display_data",
          "data": {
            "text/plain": [
              "<Figure size 432x288 with 0 Axes>"
            ]
          },
          "metadata": {}
        },
        {
          "output_type": "display_data",
          "data": {
            "text/plain": [
              "<Figure size 1080x576 with 1 Axes>"
            ],
            "image/png": "[encoded data removed]"
          },
          "metadata": {
            "needs_background": "light"
          }
        }
      ],
      "source": [
        "profiles = pd.read_csv('instagram_profiles.csv', delimiter='\\t')\n",
        "df_profiles_sorted_by_n_posts = profiles.sort_values(by='n_posts', ascending=False)\n",
        "top_10 = df_profiles_sorted_by_n_posts.head(10)\n",
        "\n",
        "posts_top10 = pd.DataFrame()\n",
        "\n",
        "#We know that the problem requires the plot of 10 profiles,\n",
        "#but our hardware does not allow us to do this becasue we constantly ran out of memory. \n",
        "for x in range(5):\n",
        "  post_x = find_post_by_profileID(top_10.iloc[x].profile_id)\n",
        "  posts_top10=posts_top10.append(post_x)\n",
        "\n",
        "post_per_interval(interval, posts_top10)"
      ]
    },
    {
      "cell_type": "markdown",
      "metadata": {
        "id": "drmW5loHHfKQ"
      },
      "source": [
        "### Research question 5: most influencial users"
      ]
    },
    {
      "cell_type": "markdown",
      "metadata": {
        "id": "sUfgYqPnHtv7"
      },
      "source": [
        "##### **Plot the top 10 most popular users in terms of followers and their number of posts.**\n",
        "\n",
        "First the rows with no information for both the followers and the nr of posts are deleted. After the data cleaning, the data is sorted based on the followers or on the number of posts, and two bar plots are created.\n",
        "\n",
        "As can be seen, instagram has the most followers, while jasem33312 has the most posts. Furthermore, it is also visible that there is no overlap between the users with the most followers and the users with the most posts. \n",
        "\n",
        "Lastly, we have also created a plot for the users with the most followers, where the number of followers are displayed on the y-axis and the number of posts are displayed on the x-axis. It shows that there is no real correlation between the number of posts and number of followers. This is only based on 10 datapoints, so we cannot conclude this for sure."
      ]
    },
    {
      "cell_type": "code",
      "execution_count": null,
      "metadata": {
        "colab": {
          "base_uri": "https://localhost:8080/",
          "height": 913
        },
        "id": "JiMHH6nlHlC3",
        "outputId": "51bfb67b-471d-463f-8b92-5dab0643784a"
      },
      "outputs": [
        {
          "output_type": "execute_result",
          "data": {
            "text/plain": [
              "             sid    profile_id     profile_name      firstname_lastname  \\\n",
              "2880218   336492  2.502532e+07        instagram               Instagram   \n",
              "2582507   371414  3.416684e+06  victoriassecret       Victoria's Secret   \n",
              "3820939   337097  2.082449e+07              nba                     NBA   \n",
              "701965    330376  1.876191e+08     louisvuitton  Louis Vuitton Official   \n",
              "2414951   292359  2.125507e+09    buzzfeedtasty                   Tasty   \n",
              "2785241  3437294  4.968651e+08   andresiniesta8          Andres Iniesta   \n",
              "333193    158690  2.341008e+07               hm                     H&M   \n",
              "3934581  3615154  2.423993e+07  princessyahrini                Syahrini   \n",
              "1311970   508140  5.041706e+07     danbilzerian           Dan Bilzerian   \n",
              "1703764  3513205  9.070254e+08      akshaykumar            Akshay Kumar   \n",
              "\n",
              "                                               description  following  \\\n",
              "2880218  Bringing you closer to the people and things y...      226.0   \n",
              "2582507                   Confidence is sexy. #wearitdaily      549.0   \n",
              "3820939  30 teams, 1 🏆\\n👟: @nbakicks \\n📽: @nbahistory \\...      817.0   \n",
              "701965    The official Instagram account of Louis Vuitton.        5.0   \n",
              "2414951  Recipes that will make you say \"oh yes!\"\\n👇 Cl...      298.0   \n",
              "2785241  Andres Iniesta Official Instagram Account, \\nB...      151.0   \n",
              "333193   Welcome to #HM! Follow us at @HM_Man @HM_Kids ...      403.0   \n",
              "3934581                                                NaN      835.0   \n",
              "1311970                               Snapchat: dbilzerian      252.0   \n",
              "1703764                                       #AkshayKumar        5.0   \n",
              "\n",
              "           followers  n_posts                                   url  \\\n",
              "2880218  285457645.0   5760.0                    help.instagram.com   \n",
              "2582507   65269440.0   7355.0             like2b.uy/victoriassecret   \n",
              "3820939   35339708.0  28816.0               nba.app.link/js6X7SVaxT   \n",
              "701965    30689316.0   3352.0          on.louisvuitton.com/Like2Buy   \n",
              "2414951   30246783.0   2791.0                    tasty.co/linkinbio   \n",
              "2785241   29542143.0    990.0                           mikakus.com   \n",
              "333193    29176804.0   4566.0                         hm.info/1c9he   \n",
              "3934581   29042823.0   4719.0  www.youtube.com/c/ThePrincesSyahrini   \n",
              "1311970   26476004.0   1311.0                         www.ignite.co   \n",
              "1703764   26252169.0   1173.0                    bit.ly/AliAliBlank   \n",
              "\n",
              "                                   cts is_business_account  \n",
              "2880218                            NaN               False  \n",
              "2582507                            NaN                True  \n",
              "3820939                            NaN                True  \n",
              "701965                             NaN                True  \n",
              "2414951                            NaN                True  \n",
              "2785241  2019-05-08 23:54:35.377 -0400               False  \n",
              "333193   2018-05-31 19:33:46.022 -0400                True  \n",
              "3934581  2019-06-26 15:05:53.411 -0400                True  \n",
              "1311970                            NaN                True  \n",
              "1703764  2019-05-14 08:29:29.754 -0400               False  "
            ],
            "text/html": [
              "\n",
              "  <div id=\"df-08c93479-aca7-4b1b-b932-a69f87b022f9\">\n",
              "    <div class=\"colab-df-container\">\n",
              "      <div>\n",
              "<style scoped>\n",
              "    .dataframe tbody tr th:only-of-type {\n",
              "        vertical-align: middle;\n",
              "    }\n",
              "\n",
              "    .dataframe tbody tr th {\n",
              "        vertical-align: top;\n",
              "    }\n",
              "\n",
              "    .dataframe thead th {\n",
              "        text-align: right;\n",
              "    }\n",
              "</style>\n",
              "<table border=\"1\" class=\"dataframe\">\n",
              "  <thead>\n",
              "    <tr style=\"text-align: right;\">\n",
              "      <th></th>\n",
              "      <th>sid</th>\n",
              "      <th>profile_id</th>\n",
              "      <th>profile_name</th>\n",
              "      <th>firstname_lastname</th>\n",
              "      <th>description</th>\n",
              "      <th>following</th>\n",
              "      <th>followers</th>\n",
              "      <th>n_posts</th>\n",
              "      <th>url</th>\n",
              "      <th>cts</th>\n",
              "      <th>is_business_account</th>\n",
              "    </tr>\n",
              "  </thead>\n",
              "  <tbody>\n",
              "    <tr>\n",
              "      <th>2880218</th>\n",
              "      <td>336492</td>\n",
              "      <td>2.502532e+07</td>\n",
              "      <td>instagram</td>\n",
              "      <td>Instagram</td>\n",
              "      <td>Bringing you closer to the people and things y...</td>\n",
              "      <td>226.0</td>\n",
              "      <td>285457645.0</td>\n",
              "      <td>5760.0</td>\n",
              "      <td>help.instagram.com</td>\n",
              "      <td>NaN</td>\n",
              "      <td>False</td>\n",
              "    </tr>\n",
              "    <tr>\n",
              "      <th>2582507</th>\n",
              "      <td>371414</td>\n",
              "      <td>3.416684e+06</td>\n",
              "      <td>victoriassecret</td>\n",
              "      <td>Victoria's Secret</td>\n",
              "      <td>Confidence is sexy. #wearitdaily</td>\n",
              "      <td>549.0</td>\n",
              "      <td>65269440.0</td>\n",
              "      <td>7355.0</td>\n",
              "      <td>like2b.uy/victoriassecret</td>\n",
              "      <td>NaN</td>\n",
              "      <td>True</td>\n",
              "    </tr>\n",
              "    <tr>\n",
              "      <th>3820939</th>\n",
              "      <td>337097</td>\n",
              "      <td>2.082449e+07</td>\n",
              "      <td>nba</td>\n",
              "      <td>NBA</td>\n",
              "      <td>30 teams, 1 🏆\\n👟: @nbakicks \\n📽: @nbahistory \\...</td>\n",
              "      <td>817.0</td>\n",
              "      <td>35339708.0</td>\n",
              "      <td>28816.0</td>\n",
              "      <td>nba.app.link/js6X7SVaxT</td>\n",
              "      <td>NaN</td>\n",
              "      <td>True</td>\n",
              "    </tr>\n",
              "    <tr>\n",
              "      <th>701965</th>\n",
              "      <td>330376</td>\n",
              "      <td>1.876191e+08</td>\n",
              "      <td>louisvuitton</td>\n",
              "      <td>Louis Vuitton Official</td>\n",
              "      <td>The official Instagram account of Louis Vuitton.</td>\n",
              "      <td>5.0</td>\n",
              "      <td>30689316.0</td>\n",
              "      <td>3352.0</td>\n",
              "      <td>on.louisvuitton.com/Like2Buy</td>\n",
              "      <td>NaN</td>\n",
              "      <td>True</td>\n",
              "    </tr>\n",
              "    <tr>\n",
              "      <th>2414951</th>\n",
              "      <td>292359</td>\n",
              "      <td>2.125507e+09</td>\n",
              "      <td>buzzfeedtasty</td>\n",
              "      <td>Tasty</td>\n",
              "      <td>Recipes that will make you say \"oh yes!\"\\n👇 Cl...</td>\n",
              "      <td>298.0</td>\n",
              "      <td>30246783.0</td>\n",
              "      <td>2791.0</td>\n",
              "      <td>tasty.co/linkinbio</td>\n",
              "      <td>NaN</td>\n",
              "      <td>True</td>\n",
              "    </tr>\n",
              "    <tr>\n",
              "      <th>2785241</th>\n",
              "      <td>3437294</td>\n",
              "      <td>4.968651e+08</td>\n",
              "      <td>andresiniesta8</td>\n",
              "      <td>Andres Iniesta</td>\n",
              "      <td>Andres Iniesta Official Instagram Account, \\nB...</td>\n",
              "      <td>151.0</td>\n",
              "      <td>29542143.0</td>\n",
              "      <td>990.0</td>\n",
              "      <td>mikakus.com</td>\n",
              "      <td>2019-05-08 23:54:35.377 -0400</td>\n",
              "      <td>False</td>\n",
              "    </tr>\n",
              "    <tr>\n",
              "      <th>333193</th>\n",
              "      <td>158690</td>\n",
              "      <td>2.341008e+07</td>\n",
              "      <td>hm</td>\n",
              "      <td>H&amp;M</td>\n",
              "      <td>Welcome to #HM! Follow us at @HM_Man @HM_Kids ...</td>\n",
              "      <td>403.0</td>\n",
              "      <td>29176804.0</td>\n",
              "      <td>4566.0</td>\n",
              "      <td>hm.info/1c9he</td>\n",
              "      <td>2018-05-31 19:33:46.022 -0400</td>\n",
              "      <td>True</td>\n",
              "    </tr>\n",
              "    <tr>\n",
              "      <th>3934581</th>\n",
              "      <td>3615154</td>\n",
              "      <td>2.423993e+07</td>\n",
              "      <td>princessyahrini</td>\n",
              "      <td>Syahrini</td>\n",
              "      <td>NaN</td>\n",
              "      <td>835.0</td>\n",
              "      <td>29042823.0</td>\n",
              "      <td>4719.0</td>\n",
              "      <td>www.youtube.com/c/ThePrincesSyahrini</td>\n",
              "      <td>2019-06-26 15:05:53.411 -0400</td>\n",
              "      <td>True</td>\n",
              "    </tr>\n",
              "    <tr>\n",
              "      <th>1311970</th>\n",
              "      <td>508140</td>\n",
              "      <td>5.041706e+07</td>\n",
              "      <td>danbilzerian</td>\n",
              "      <td>Dan Bilzerian</td>\n",
              "      <td>Snapchat: dbilzerian</td>\n",
              "      <td>252.0</td>\n",
              "      <td>26476004.0</td>\n",
              "      <td>1311.0</td>\n",
              "      <td>www.ignite.co</td>\n",
              "      <td>NaN</td>\n",
              "      <td>True</td>\n",
              "    </tr>\n",
              "    <tr>\n",
              "      <th>1703764</th>\n",
              "      <td>3513205</td>\n",
              "      <td>9.070254e+08</td>\n",
              "      <td>akshaykumar</td>\n",
              "      <td>Akshay Kumar</td>\n",
              "      <td>#AkshayKumar</td>\n",
              "      <td>5.0</td>\n",
              "      <td>26252169.0</td>\n",
              "      <td>1173.0</td>\n",
              "      <td>bit.ly/AliAliBlank</td>\n",
              "      <td>2019-05-14 08:29:29.754 -0400</td>\n",
              "      <td>False</td>\n",
              "    </tr>\n",
              "  </tbody>\n",
              "</table>\n",
              "</div>\n",
              "      <button class=\"colab-df-convert\" onclick=\"convertToInteractive('df-08c93479-aca7-4b1b-b932-a69f87b022f9')\"\n",
              "              title=\"Convert this dataframe to an interactive table.\"\n",
              "              style=\"display:none;\">\n",
              "        \n",
              "  <svg xmlns=\"http://www.w3.org/2000/svg\" height=\"24px\"viewBox=\"0 0 24 24\"\n",
              "       width=\"24px\">\n",
              "    <path d=\"M0 0h24v24H0V0z\" fill=\"none\"/>\n",
              "    <path d=\"M18.56 5.44l.94 2.06.94-2.06 2.06-.94-2.06-.94-.94-2.06-.94 2.06-2.06.94zm-11 1L8.5 8.5l.94-2.06 2.06-.94-2.06-.94L8.5 2.5l-.94 2.06-2.06.94zm10 10l.94 2.06.94-2.06 2.06-.94-2.06-.94-.94-2.06-.94 2.06-2.06.94z\"/><path d=\"M17.41 7.96l-1.37-1.37c-.4-.4-.92-.59-1.43-.59-.52 0-1.04.2-1.43.59L10.3 9.45l-7.72 7.72c-.78.78-.78 2.05 0 2.83L4 21.41c.39.39.9.59 1.41.59.51 0 1.02-.2 1.41-.59l7.78-7.78 2.81-2.81c.8-.78.8-2.07 0-2.86zM5.41 20L4 18.59l7.72-7.72 1.47 1.35L5.41 20z\"/>\n",
              "  </svg>\n",
              "      </button>\n",
              "      \n",
              "  <style>\n",
              "    .colab-df-container {\n",
              "      display:flex;\n",
              "      flex-wrap:wrap;\n",
              "      gap: 12px;\n",
              "    }\n",
              "\n",
              "    .colab-df-convert {\n",
              "      background-color: #E8F0FE;\n",
              "      border: none;\n",
              "      border-radius: 50%;\n",
              "      cursor: pointer;\n",
              "      display: none;\n",
              "      fill: #1967D2;\n",
              "      height: 32px;\n",
              "      padding: 0 0 0 0;\n",
              "      width: 32px;\n",
              "    }\n",
              "\n",
              "    .colab-df-convert:hover {\n",
              "      background-color: #E2EBFA;\n",
              "      box-shadow: 0px 1px 2px rgba(60, 64, 67, 0.3), 0px 1px 3px 1px rgba(60, 64, 67, 0.15);\n",
              "      fill: #174EA6;\n",
              "    }\n",
              "\n",
              "    [theme=dark] .colab-df-convert {\n",
              "      background-color: #3B4455;\n",
              "      fill: #D2E3FC;\n",
              "    }\n",
              "\n",
              "    [theme=dark] .colab-df-convert:hover {\n",
              "      background-color: #434B5C;\n",
              "      box-shadow: 0px 1px 3px 1px rgba(0, 0, 0, 0.15);\n",
              "      filter: drop-shadow(0px 1px 2px rgba(0, 0, 0, 0.3));\n",
              "      fill: #FFFFFF;\n",
              "    }\n",
              "  </style>\n",
              "\n",
              "      <script>\n",
              "        const buttonEl =\n",
              "          document.querySelector('#df-08c93479-aca7-4b1b-b932-a69f87b022f9 button.colab-df-convert');\n",
              "        buttonEl.style.display =\n",
              "          google.colab.kernel.accessAllowed ? 'block' : 'none';\n",
              "\n",
              "        async function convertToInteractive(key) {\n",
              "          const element = document.querySelector('#df-08c93479-aca7-4b1b-b932-a69f87b022f9');\n",
              "          const dataTable =\n",
              "            await google.colab.kernel.invokeFunction('convertToInteractive',\n",
              "                                                     [key], {});\n",
              "          if (!dataTable) return;\n",
              "\n",
              "          const docLinkHtml = 'Like what you see? Visit the ' +\n",
              "            '<a target=\"_blank\" href=https://colab.research.google.com/notebooks/data_table.ipynb>data table notebook</a>'\n",
              "            + ' to learn more about interactive tables.';\n",
              "          element.innerHTML = '';\n",
              "          dataTable['output_type'] = 'display_data';\n",
              "          await google.colab.output.renderOutput(dataTable, element);\n",
              "          const docLink = document.createElement('div');\n",
              "          docLink.innerHTML = docLinkHtml;\n",
              "          element.appendChild(docLink);\n",
              "        }\n",
              "      </script>\n",
              "    </div>\n",
              "  </div>\n",
              "  "
            ]
          },
          "metadata": {},
          "execution_count": 31
        }
      ],
      "source": [
        "# delete the rows if there is nothing now about followers\n",
        "df_profiles_followers = df_profiles.dropna( how='any',\n",
        "                    subset=['followers'])\n",
        "\n",
        "# sort the dataframe based on the nposts\n",
        "df_profiles_foll_sort = df_profiles_followers.sort_values(by='followers', ascending=False)\n",
        "\n",
        "# Show first 10\n",
        "df_profiles_foll_sort.head(10)\n",
        "\n",
        "# Print the number of followers"
      ]
    },
    {
      "cell_type": "code",
      "execution_count": null,
      "metadata": {
        "colab": {
          "base_uri": "https://localhost:8080/",
          "height": 739
        },
        "id": "cxjlNeMhIbCl",
        "outputId": "02c5cd5c-5941-4716-8478-8aa2486554fc"
      },
      "outputs": [
        {
          "output_type": "execute_result",
          "data": {
            "text/plain": [
              "             sid    profile_id          profile_name  \\\n",
              "3990313  3661552  1.996648e+08            jasem33312   \n",
              "2571453  3288809  8.563367e+09             koenigpic   \n",
              "4338921  3970193  1.273455e+09            rudyanto62   \n",
              "3942129  3621669  9.813508e+06           hometown_ni   \n",
              "4219642  3851869  1.607309e+09   dwfitfiber_thailand   \n",
              "2207897   345591  1.087614e+09            waxking911   \n",
              "4313908  3944512  1.603890e+09         gamt_official   \n",
              "4219476  3851808  2.181730e+08  collarosedw_official   \n",
              "4236057  3868432  2.855497e+08        gamt_authentic   \n",
              "1631526  1312725  8.312603e+09        ivankkkka.trmp   \n",
              "\n",
              "                   firstname_lastname  \\\n",
              "3990313                    jasem33312   \n",
              "2571453             Helperwait Studio   \n",
              "4338921                  Rudyanto 王耀祝   \n",
              "3942129           AngelsCowboysLakers   \n",
              "4219642    เห็นผลตั้งแต่เซ็ตแรกท้าลอง   \n",
              "2207897               Frank Hernandez   \n",
              "4313908  Official IG Of GAMT Thailand   \n",
              "4219476           grapeseed+collarose   \n",
              "4236057  Official IG Of GAMT Thailand   \n",
              "1631526        IVANKA DARCEY K. TRUMP   \n",
              "\n",
              "                                               description  following  \\\n",
              "3990313                                                NaN        2.0   \n",
              "2571453                       Веб сайты от идеи до запуска     4538.0   \n",
              "4338921                                                NaN      164.0   \n",
              "3942129  All about live & let live. Peace & Harmony. La...     7488.0   \n",
              "4219642  ✿รับตัวแทนรายได้ดีมาก\\n🏧 KTB l SCB l KBANK | B...     7490.0   \n",
              "2207897                                                NaN      134.0   \n",
              "4313908  ❥ แว่น gamt พร้อมส่งของแท้💯 มีโปร1290 พร้อมซอง...     7470.0   \n",
              "4219476  🍇 สินค้าแบรนด์ dwplus\\n💓 collarose+grapeseed+f...     7496.0   \n",
              "4236057  ❥ แว่น gamt พร้อมส่ง มีโปร1290 พร้อมซองแว่น+ผ้...     7480.0   \n",
              "1631526                                     DORA. 👄 #Mango     7497.0   \n",
              "\n",
              "         followers   n_posts                       url  \\\n",
              "3990313    82049.0  183730.0                       NaN   \n",
              "2571453      675.0  142428.0      vk.com/ru.helperwait   \n",
              "4338921     1693.0  126340.0                       NaN   \n",
              "3942129     1755.0  125220.0                       NaN   \n",
              "4219642    44951.0  117262.0            bit.ly/2GdIYJl   \n",
              "2207897      138.0  117099.0                       NaN   \n",
              "4313908    36001.0  113780.0            bit.ly/2GdIYJl   \n",
              "4219476    18021.0  113182.0            bit.ly/2asesw7   \n",
              "4236057    27511.0  112777.0            bit.ly/2T2RIqG   \n",
              "1631526        2.0  112723.0  www.flightclub.com/yeezy   \n",
              "\n",
              "                                   cts is_business_account  \n",
              "3990313  2019-06-30 19:14:19.780 -0400               False  \n",
              "2571453  2019-05-07 00:14:06.799 -0400                True  \n",
              "4338921  2019-07-15 10:00:51.171 -0400               False  \n",
              "3942129  2019-06-27 02:49:38.140 -0400               False  \n",
              "4219642  2019-07-13 02:10:07.317 -0400                True  \n",
              "2207897                            NaN               False  \n",
              "4313908  2019-07-14 21:10:30.785 -0400                True  \n",
              "4219476  2019-07-13 02:08:17.407 -0400                True  \n",
              "4236057  2019-07-13 09:28:30.025 -0400                True  \n",
              "1631526  2019-04-01 02:41:26.980 -0400               False  "
            ],
            "text/html": [
              "\n",
              "  <div id=\"df-b687d41d-0064-4bdf-aaca-868a5a37dce2\">\n",
              "    <div class=\"colab-df-container\">\n",
              "      <div>\n",
              "<style scoped>\n",
              "    .dataframe tbody tr th:only-of-type {\n",
              "        vertical-align: middle;\n",
              "    }\n",
              "\n",
              "    .dataframe tbody tr th {\n",
              "        vertical-align: top;\n",
              "    }\n",
              "\n",
              "    .dataframe thead th {\n",
              "        text-align: right;\n",
              "    }\n",
              "</style>\n",
              "<table border=\"1\" class=\"dataframe\">\n",
              "  <thead>\n",
              "    <tr style=\"text-align: right;\">\n",
              "      <th></th>\n",
              "      <th>sid</th>\n",
              "      <th>profile_id</th>\n",
              "      <th>profile_name</th>\n",
              "      <th>firstname_lastname</th>\n",
              "      <th>description</th>\n",
              "      <th>following</th>\n",
              "      <th>followers</th>\n",
              "      <th>n_posts</th>\n",
              "      <th>url</th>\n",
              "      <th>cts</th>\n",
              "      <th>is_business_account</th>\n",
              "    </tr>\n",
              "  </thead>\n",
              "  <tbody>\n",
              "    <tr>\n",
              "      <th>3990313</th>\n",
              "      <td>3661552</td>\n",
              "      <td>1.996648e+08</td>\n",
              "      <td>jasem33312</td>\n",
              "      <td>jasem33312</td>\n",
              "      <td>NaN</td>\n",
              "      <td>2.0</td>\n",
              "      <td>82049.0</td>\n",
              "      <td>183730.0</td>\n",
              "      <td>NaN</td>\n",
              "      <td>2019-06-30 19:14:19.780 -0400</td>\n",
              "      <td>False</td>\n",
              "    </tr>\n",
              "    <tr>\n",
              "      <th>2571453</th>\n",
              "      <td>3288809</td>\n",
              "      <td>8.563367e+09</td>\n",
              "      <td>koenigpic</td>\n",
              "      <td>Helperwait Studio</td>\n",
              "      <td>Веб сайты от идеи до запуска</td>\n",
              "      <td>4538.0</td>\n",
              "      <td>675.0</td>\n",
              "      <td>142428.0</td>\n",
              "      <td>vk.com/ru.helperwait</td>\n",
              "      <td>2019-05-07 00:14:06.799 -0400</td>\n",
              "      <td>True</td>\n",
              "    </tr>\n",
              "    <tr>\n",
              "      <th>4338921</th>\n",
              "      <td>3970193</td>\n",
              "      <td>1.273455e+09</td>\n",
              "      <td>rudyanto62</td>\n",
              "      <td>Rudyanto 王耀祝</td>\n",
              "      <td>NaN</td>\n",
              "      <td>164.0</td>\n",
              "      <td>1693.0</td>\n",
              "      <td>126340.0</td>\n",
              "      <td>NaN</td>\n",
              "      <td>2019-07-15 10:00:51.171 -0400</td>\n",
              "      <td>False</td>\n",
              "    </tr>\n",
              "    <tr>\n",
              "      <th>3942129</th>\n",
              "      <td>3621669</td>\n",
              "      <td>9.813508e+06</td>\n",
              "      <td>hometown_ni</td>\n",
              "      <td>AngelsCowboysLakers</td>\n",
              "      <td>All about live &amp; let live. Peace &amp; Harmony. La...</td>\n",
              "      <td>7488.0</td>\n",
              "      <td>1755.0</td>\n",
              "      <td>125220.0</td>\n",
              "      <td>NaN</td>\n",
              "      <td>2019-06-27 02:49:38.140 -0400</td>\n",
              "      <td>False</td>\n",
              "    </tr>\n",
              "    <tr>\n",
              "      <th>4219642</th>\n",
              "      <td>3851869</td>\n",
              "      <td>1.607309e+09</td>\n",
              "      <td>dwfitfiber_thailand</td>\n",
              "      <td>เห็นผลตั้งแต่เซ็ตแรกท้าลอง</td>\n",
              "      <td>✿รับตัวแทนรายได้ดีมาก\\n🏧 KTB l SCB l KBANK | B...</td>\n",
              "      <td>7490.0</td>\n",
              "      <td>44951.0</td>\n",
              "      <td>117262.0</td>\n",
              "      <td>bit.ly/2GdIYJl</td>\n",
              "      <td>2019-07-13 02:10:07.317 -0400</td>\n",
              "      <td>True</td>\n",
              "    </tr>\n",
              "    <tr>\n",
              "      <th>2207897</th>\n",
              "      <td>345591</td>\n",
              "      <td>1.087614e+09</td>\n",
              "      <td>waxking911</td>\n",
              "      <td>Frank Hernandez</td>\n",
              "      <td>NaN</td>\n",
              "      <td>134.0</td>\n",
              "      <td>138.0</td>\n",
              "      <td>117099.0</td>\n",
              "      <td>NaN</td>\n",
              "      <td>NaN</td>\n",
              "      <td>False</td>\n",
              "    </tr>\n",
              "    <tr>\n",
              "      <th>4313908</th>\n",
              "      <td>3944512</td>\n",
              "      <td>1.603890e+09</td>\n",
              "      <td>gamt_official</td>\n",
              "      <td>Official IG Of GAMT Thailand</td>\n",
              "      <td>❥ แว่น gamt พร้อมส่งของแท้💯 มีโปร1290 พร้อมซอง...</td>\n",
              "      <td>7470.0</td>\n",
              "      <td>36001.0</td>\n",
              "      <td>113780.0</td>\n",
              "      <td>bit.ly/2GdIYJl</td>\n",
              "      <td>2019-07-14 21:10:30.785 -0400</td>\n",
              "      <td>True</td>\n",
              "    </tr>\n",
              "    <tr>\n",
              "      <th>4219476</th>\n",
              "      <td>3851808</td>\n",
              "      <td>2.181730e+08</td>\n",
              "      <td>collarosedw_official</td>\n",
              "      <td>grapeseed+collarose</td>\n",
              "      <td>🍇 สินค้าแบรนด์ dwplus\\n💓 collarose+grapeseed+f...</td>\n",
              "      <td>7496.0</td>\n",
              "      <td>18021.0</td>\n",
              "      <td>113182.0</td>\n",
              "      <td>bit.ly/2asesw7</td>\n",
              "      <td>2019-07-13 02:08:17.407 -0400</td>\n",
              "      <td>True</td>\n",
              "    </tr>\n",
              "    <tr>\n",
              "      <th>4236057</th>\n",
              "      <td>3868432</td>\n",
              "      <td>2.855497e+08</td>\n",
              "      <td>gamt_authentic</td>\n",
              "      <td>Official IG Of GAMT Thailand</td>\n",
              "      <td>❥ แว่น gamt พร้อมส่ง มีโปร1290 พร้อมซองแว่น+ผ้...</td>\n",
              "      <td>7480.0</td>\n",
              "      <td>27511.0</td>\n",
              "      <td>112777.0</td>\n",
              "      <td>bit.ly/2T2RIqG</td>\n",
              "      <td>2019-07-13 09:28:30.025 -0400</td>\n",
              "      <td>True</td>\n",
              "    </tr>\n",
              "    <tr>\n",
              "      <th>1631526</th>\n",
              "      <td>1312725</td>\n",
              "      <td>8.312603e+09</td>\n",
              "      <td>ivankkkka.trmp</td>\n",
              "      <td>IVANKA DARCEY K. TRUMP</td>\n",
              "      <td>DORA. 👄 #Mango</td>\n",
              "      <td>7497.0</td>\n",
              "      <td>2.0</td>\n",
              "      <td>112723.0</td>\n",
              "      <td>www.flightclub.com/yeezy</td>\n",
              "      <td>2019-04-01 02:41:26.980 -0400</td>\n",
              "      <td>False</td>\n",
              "    </tr>\n",
              "  </tbody>\n",
              "</table>\n",
              "</div>\n",
              "      <button class=\"colab-df-convert\" onclick=\"convertToInteractive('df-b687d41d-0064-4bdf-aaca-868a5a37dce2')\"\n",
              "              title=\"Convert this dataframe to an interactive table.\"\n",
              "              style=\"display:none;\">\n",
              "        \n",
              "  <svg xmlns=\"http://www.w3.org/2000/svg\" height=\"24px\"viewBox=\"0 0 24 24\"\n",
              "       width=\"24px\">\n",
              "    <path d=\"M0 0h24v24H0V0z\" fill=\"none\"/>\n",
              "    <path d=\"M18.56 5.44l.94 2.06.94-2.06 2.06-.94-2.06-.94-.94-2.06-.94 2.06-2.06.94zm-11 1L8.5 8.5l.94-2.06 2.06-.94-2.06-.94L8.5 2.5l-.94 2.06-2.06.94zm10 10l.94 2.06.94-2.06 2.06-.94-2.06-.94-.94-2.06-.94 2.06-2.06.94z\"/><path d=\"M17.41 7.96l-1.37-1.37c-.4-.4-.92-.59-1.43-.59-.52 0-1.04.2-1.43.59L10.3 9.45l-7.72 7.72c-.78.78-.78 2.05 0 2.83L4 21.41c.39.39.9.59 1.41.59.51 0 1.02-.2 1.41-.59l7.78-7.78 2.81-2.81c.8-.78.8-2.07 0-2.86zM5.41 20L4 18.59l7.72-7.72 1.47 1.35L5.41 20z\"/>\n",
              "  </svg>\n",
              "      </button>\n",
              "      \n",
              "  <style>\n",
              "    .colab-df-container {\n",
              "      display:flex;\n",
              "      flex-wrap:wrap;\n",
              "      gap: 12px;\n",
              "    }\n",
              "\n",
              "    .colab-df-convert {\n",
              "      background-color: #E8F0FE;\n",
              "      border: none;\n",
              "      border-radius: 50%;\n",
              "      cursor: pointer;\n",
              "      display: none;\n",
              "      fill: #1967D2;\n",
              "      height: 32px;\n",
              "      padding: 0 0 0 0;\n",
              "      width: 32px;\n",
              "    }\n",
              "\n",
              "    .colab-df-convert:hover {\n",
              "      background-color: #E2EBFA;\n",
              "      box-shadow: 0px 1px 2px rgba(60, 64, 67, 0.3), 0px 1px 3px 1px rgba(60, 64, 67, 0.15);\n",
              "      fill: #174EA6;\n",
              "    }\n",
              "\n",
              "    [theme=dark] .colab-df-convert {\n",
              "      background-color: #3B4455;\n",
              "      fill: #D2E3FC;\n",
              "    }\n",
              "\n",
              "    [theme=dark] .colab-df-convert:hover {\n",
              "      background-color: #434B5C;\n",
              "      box-shadow: 0px 1px 3px 1px rgba(0, 0, 0, 0.15);\n",
              "      filter: drop-shadow(0px 1px 2px rgba(0, 0, 0, 0.3));\n",
              "      fill: #FFFFFF;\n",
              "    }\n",
              "  </style>\n",
              "\n",
              "      <script>\n",
              "        const buttonEl =\n",
              "          document.querySelector('#df-b687d41d-0064-4bdf-aaca-868a5a37dce2 button.colab-df-convert');\n",
              "        buttonEl.style.display =\n",
              "          google.colab.kernel.accessAllowed ? 'block' : 'none';\n",
              "\n",
              "        async function convertToInteractive(key) {\n",
              "          const element = document.querySelector('#df-b687d41d-0064-4bdf-aaca-868a5a37dce2');\n",
              "          const dataTable =\n",
              "            await google.colab.kernel.invokeFunction('convertToInteractive',\n",
              "                                                     [key], {});\n",
              "          if (!dataTable) return;\n",
              "\n",
              "          const docLinkHtml = 'Like what you see? Visit the ' +\n",
              "            '<a target=\"_blank\" href=https://colab.research.google.com/notebooks/data_table.ipynb>data table notebook</a>'\n",
              "            + ' to learn more about interactive tables.';\n",
              "          element.innerHTML = '';\n",
              "          dataTable['output_type'] = 'display_data';\n",
              "          await google.colab.output.renderOutput(dataTable, element);\n",
              "          const docLink = document.createElement('div');\n",
              "          docLink.innerHTML = docLinkHtml;\n",
              "          element.appendChild(docLink);\n",
              "        }\n",
              "      </script>\n",
              "    </div>\n",
              "  </div>\n",
              "  "
            ]
          },
          "metadata": {},
          "execution_count": 5
        }
      ],
      "source": [
        "# delete the rows if there is nothing now about n_posts\n",
        "df_profiles_posts = df_profiles.dropna( how='any',\n",
        "                    subset=['n_posts'])\n",
        "\n",
        "# sort the dataframe based on the nposts\n",
        "df_profiles_posts_sort = df_profiles_followers.sort_values(by='n_posts', ascending=False)\n",
        "\n",
        "# Show first 10\n",
        "df_profiles_posts_sort.head(10) "
      ]
    },
    {
      "cell_type": "code",
      "execution_count": null,
      "metadata": {
        "colab": {
          "base_uri": "https://localhost:8080/",
          "height": 446
        },
        "id": "T1ZFEDuKIlLd",
        "outputId": "03636a39-0bb6-453f-b0fc-b29b26126fad"
      },
      "outputs": [
        {
          "output_type": "execute_result",
          "data": {
            "text/plain": [
              "[Text(0.5, 0, '')]"
            ]
          },
          "metadata": {},
          "execution_count": 13
        },
        {
          "output_type": "display_data",
          "data": {
            "text/plain": [
              "<Figure size 1296x432 with 2 Axes>"
            ],
            "image/png": "[encoded data removed]"
          },
          "metadata": {
            "needs_background": "light"
          }
        }
      ],
      "source": [
        "# plot the top 10 of followers and nr posts\n",
        "#define subplot layout\n",
        "fig, axes = plt.subplots(nrows=1, ncols=2, figsize=(18, 6))\n",
        "\n",
        "# plot the highest top 10 followers\n",
        "ax1 = df_profiles_foll_sort.iloc[0:10].plot.bar(x='profile_name', y='followers', ax=axes[0])\n",
        "ax1.title.set_text('10 users with most followers')\n",
        "plt.sca(axes[0])\n",
        "plt.xticks(rotation=45, ha='right')\n",
        "ax1.set(xlabel=None)\n",
        "\n",
        "\n",
        "# plot the top 10 posts\n",
        "ax2 = df_profiles_posts_sort.iloc[0:10].plot.bar(x='profile_name', y='n_posts', ax=axes[1])\n",
        "ax2.title.set_text('10 users with most posts')\n",
        "plt.sca(axes[1])\n",
        "plt.xticks(rotation=45, ha='right')\n",
        "ax2.set(xlabel=None)"
      ]
    },
    {
      "cell_type": "code",
      "execution_count": null,
      "metadata": {
        "colab": {
          "base_uri": "https://localhost:8080/",
          "height": 332
        },
        "id": "iaJQ7TlUMglj",
        "outputId": "032da2ff-1f95-42f9-c2ff-ecad8f7c1bb9"
      },
      "outputs": [
        {
          "output_type": "display_data",
          "data": {
            "text/plain": [
              "<Figure size 432x288 with 0 Axes>"
            ]
          },
          "metadata": {}
        },
        {
          "output_type": "display_data",
          "data": {
            "text/plain": [
              "<Figure size 432x288 with 1 Axes>"
            ],
            "image/png": "[encoded data removed]"
          },
          "metadata": {
            "needs_background": "light"
          }
        }
      ],
      "source": [
        "# plot the highest top 10 followers\n",
        "fig = plt.figure()\n",
        "ax1 = df_profiles_foll_sort.iloc[0:10].plot(x='n_posts', y='followers')\n",
        "ax1.title.set_text('10 users with most followers against their number of followers')\n",
        "plt.xticks(rotation=45, ha='right')\n",
        "plt.show()"
      ]
    },
    {
      "cell_type": "markdown",
      "metadata": {
        "id": "sRBaUd4uONON"
      },
      "source": [
        "##### **Who is the most influential user?**\n",
        "It depends on the definition of influential. If the definition of influential means who will reach the most people, the most influential user is Instagram."
      ]
    },
    {
      "cell_type": "markdown",
      "metadata": {
        "id": "yCq6mlZsORSq"
      },
      "source": [
        "##### **Have they posted anything with tagged locations? Extract the most frequent areas on their posts and plot the number of times each city has been visited.**\n",
        "\n",
        "Based on the data, 95.6% of their posts have a tagged location. If we look at the locations of these posts (see the bar chart), we see that only one city is tagged twice, while all the other cities are tagged only once.\n",
        "\n",
        "\n",
        "\n",
        "\n"
      ]
    },
    {
      "cell_type": "code",
      "source": [
        "df_instagram = pd.read_csv('instagram_posts.csv', delimiter=\"\\t\", usecols = ['sid_profile','location_id','post_type'], low_memory = True)\n"
      ],
      "metadata": {
        "id": "48QLr5c-ISJw"
      },
      "execution_count": null,
      "outputs": []
    },
    {
      "cell_type": "code",
      "source": [
        "# sid nr of instgram\n",
        "profileNr = 336492\n",
        "\n",
        "# make a new datagram based on the posts of instagram\n",
        "df_instagram = df_instagram[df_instagram.sid_profile == profileNr]\n"
      ],
      "metadata": {
        "id": "aP4ixl31IPlw"
      },
      "execution_count": null,
      "outputs": []
    },
    {
      "cell_type": "code",
      "source": [
        "# determine how big percentage they have posted with tagged locations\n",
        "perc = (len(df_instagram)-df_instagram['location_id'].isna().sum())/len(df_instagram)*100\n",
        "print('Percentage of posts with tagged location:', perc, '%')"
      ],
      "metadata": {
        "colab": {
          "base_uri": "https://localhost:8080/"
        },
        "id": "YdrOlPuuvZiE",
        "outputId": "c6c654c9-eb05-48bd-d1b8-3e2c1d04aeaa"
      },
      "execution_count": null,
      "outputs": [
        {
          "output_type": "stream",
          "name": "stdout",
          "text": [
            "Percentage of posts with tagged location: 95.65217391304348 %\n"
          ]
        }
      ]
    },
    {
      "cell_type": "code",
      "source": [
        "# remove the posts without a tagged location\n",
        "df_instagram = df_instagram.dropna( how='any', subset = ['location_id'])\n"
      ],
      "metadata": {
        "id": "IDIBRnXfxXcV"
      },
      "execution_count": null,
      "outputs": []
    },
    {
      "cell_type": "code",
      "source": [
        "# load information of locations\n",
        "df_locations_small = pd.read_csv('instagram_locations.csv', delimiter=\"\\t\", usecols = ['id','city', 'dir_country_name'], low_memory = True)\n"
      ],
      "metadata": {
        "id": "HrAwD_CUHNx4"
      },
      "execution_count": null,
      "outputs": []
    },
    {
      "cell_type": "code",
      "source": [
        "# combine the instagram and location df based on sid number\n",
        "df_combined = pd.merge(df_instagram, df_locations_small, left_on='location_id', right_on = 'id', how=\"left\")"
      ],
      "metadata": {
        "id": "t2g_j-Ckwb5T"
      },
      "execution_count": null,
      "outputs": []
    },
    {
      "cell_type": "code",
      "source": [
        "# check if dataset makes sense\n",
        "print(df_combined.shape)\n",
        "df_combined.head(5)"
      ],
      "metadata": {
        "colab": {
          "base_uri": "https://localhost:8080/",
          "height": 224
        },
        "id": "waYVTsPVHsQs",
        "outputId": "372bbc57-0794-4dc9-ec47-b333b026ae1b"
      },
      "execution_count": null,
      "outputs": [
        {
          "output_type": "stream",
          "name": "stdout",
          "text": [
            "(44, 6)\n"
          ]
        },
        {
          "output_type": "execute_result",
          "data": {
            "text/plain": [
              "   sid_profile   location_id  post_type               id  \\\n",
              "0       336492  5.332856e+06          1          5332856   \n",
              "1       336492  5.873874e+08          1        587387369   \n",
              "2       336492  8.770667e+14          1  877066659067597   \n",
              "3       336492  3.500213e+08          1        350021298   \n",
              "4       336492  5.243120e+08          1        524311966   \n",
              "\n",
              "                   city dir_country_name  \n",
              "0         Dallas, Texas    United States  \n",
              "1                   NaN              NaN  \n",
              "2           Cusco, Peru             Peru  \n",
              "3  Stony Plain, Alberta              NaN  \n",
              "4                Forres              NaN  "
            ],
            "text/html": [
              "\n",
              "  <div id=\"df-01e3952e-ca04-46c7-8e1b-3c6b9cc5a5aa\">\n",
              "    <div class=\"colab-df-container\">\n",
              "      <div>\n",
              "<style scoped>\n",
              "    .dataframe tbody tr th:only-of-type {\n",
              "        vertical-align: middle;\n",
              "    }\n",
              "\n",
              "    .dataframe tbody tr th {\n",
              "        vertical-align: top;\n",
              "    }\n",
              "\n",
              "    .dataframe thead th {\n",
              "        text-align: right;\n",
              "    }\n",
              "</style>\n",
              "<table border=\"1\" class=\"dataframe\">\n",
              "  <thead>\n",
              "    <tr style=\"text-align: right;\">\n",
              "      <th></th>\n",
              "      <th>sid_profile</th>\n",
              "      <th>location_id</th>\n",
              "      <th>post_type</th>\n",
              "      <th>id</th>\n",
              "      <th>city</th>\n",
              "      <th>dir_country_name</th>\n",
              "    </tr>\n",
              "  </thead>\n",
              "  <tbody>\n",
              "    <tr>\n",
              "      <th>0</th>\n",
              "      <td>336492</td>\n",
              "      <td>5.332856e+06</td>\n",
              "      <td>1</td>\n",
              "      <td>5332856</td>\n",
              "      <td>Dallas, Texas</td>\n",
              "      <td>United States</td>\n",
              "    </tr>\n",
              "    <tr>\n",
              "      <th>1</th>\n",
              "      <td>336492</td>\n",
              "      <td>5.873874e+08</td>\n",
              "      <td>1</td>\n",
              "      <td>587387369</td>\n",
              "      <td>NaN</td>\n",
              "      <td>NaN</td>\n",
              "    </tr>\n",
              "    <tr>\n",
              "      <th>2</th>\n",
              "      <td>336492</td>\n",
              "      <td>8.770667e+14</td>\n",
              "      <td>1</td>\n",
              "      <td>877066659067597</td>\n",
              "      <td>Cusco, Peru</td>\n",
              "      <td>Peru</td>\n",
              "    </tr>\n",
              "    <tr>\n",
              "      <th>3</th>\n",
              "      <td>336492</td>\n",
              "      <td>3.500213e+08</td>\n",
              "      <td>1</td>\n",
              "      <td>350021298</td>\n",
              "      <td>Stony Plain, Alberta</td>\n",
              "      <td>NaN</td>\n",
              "    </tr>\n",
              "    <tr>\n",
              "      <th>4</th>\n",
              "      <td>336492</td>\n",
              "      <td>5.243120e+08</td>\n",
              "      <td>1</td>\n",
              "      <td>524311966</td>\n",
              "      <td>Forres</td>\n",
              "      <td>NaN</td>\n",
              "    </tr>\n",
              "  </tbody>\n",
              "</table>\n",
              "</div>\n",
              "      <button class=\"colab-df-convert\" onclick=\"convertToInteractive('df-01e3952e-ca04-46c7-8e1b-3c6b9cc5a5aa')\"\n",
              "              title=\"Convert this dataframe to an interactive table.\"\n",
              "              style=\"display:none;\">\n",
              "        \n",
              "  <svg xmlns=\"http://www.w3.org/2000/svg\" height=\"24px\"viewBox=\"0 0 24 24\"\n",
              "       width=\"24px\">\n",
              "    <path d=\"M0 0h24v24H0V0z\" fill=\"none\"/>\n",
              "    <path d=\"M18.56 5.44l.94 2.06.94-2.06 2.06-.94-2.06-.94-.94-2.06-.94 2.06-2.06.94zm-11 1L8.5 8.5l.94-2.06 2.06-.94-2.06-.94L8.5 2.5l-.94 2.06-2.06.94zm10 10l.94 2.06.94-2.06 2.06-.94-2.06-.94-.94-2.06-.94 2.06-2.06.94z\"/><path d=\"M17.41 7.96l-1.37-1.37c-.4-.4-.92-.59-1.43-.59-.52 0-1.04.2-1.43.59L10.3 9.45l-7.72 7.72c-.78.78-.78 2.05 0 2.83L4 21.41c.39.39.9.59 1.41.59.51 0 1.02-.2 1.41-.59l7.78-7.78 2.81-2.81c.8-.78.8-2.07 0-2.86zM5.41 20L4 18.59l7.72-7.72 1.47 1.35L5.41 20z\"/>\n",
              "  </svg>\n",
              "      </button>\n",
              "      \n",
              "  <style>\n",
              "    .colab-df-container {\n",
              "      display:flex;\n",
              "      flex-wrap:wrap;\n",
              "      gap: 12px;\n",
              "    }\n",
              "\n",
              "    .colab-df-convert {\n",
              "      background-color: #E8F0FE;\n",
              "      border: none;\n",
              "      border-radius: 50%;\n",
              "      cursor: pointer;\n",
              "      display: none;\n",
              "      fill: #1967D2;\n",
              "      height: 32px;\n",
              "      padding: 0 0 0 0;\n",
              "      width: 32px;\n",
              "    }\n",
              "\n",
              "    .colab-df-convert:hover {\n",
              "      background-color: #E2EBFA;\n",
              "      box-shadow: 0px 1px 2px rgba(60, 64, 67, 0.3), 0px 1px 3px 1px rgba(60, 64, 67, 0.15);\n",
              "      fill: #174EA6;\n",
              "    }\n",
              "\n",
              "    [theme=dark] .colab-df-convert {\n",
              "      background-color: #3B4455;\n",
              "      fill: #D2E3FC;\n",
              "    }\n",
              "\n",
              "    [theme=dark] .colab-df-convert:hover {\n",
              "      background-color: #434B5C;\n",
              "      box-shadow: 0px 1px 3px 1px rgba(0, 0, 0, 0.15);\n",
              "      filter: drop-shadow(0px 1px 2px rgba(0, 0, 0, 0.3));\n",
              "      fill: #FFFFFF;\n",
              "    }\n",
              "  </style>\n",
              "\n",
              "      <script>\n",
              "        const buttonEl =\n",
              "          document.querySelector('#df-01e3952e-ca04-46c7-8e1b-3c6b9cc5a5aa button.colab-df-convert');\n",
              "        buttonEl.style.display =\n",
              "          google.colab.kernel.accessAllowed ? 'block' : 'none';\n",
              "\n",
              "        async function convertToInteractive(key) {\n",
              "          const element = document.querySelector('#df-01e3952e-ca04-46c7-8e1b-3c6b9cc5a5aa');\n",
              "          const dataTable =\n",
              "            await google.colab.kernel.invokeFunction('convertToInteractive',\n",
              "                                                     [key], {});\n",
              "          if (!dataTable) return;\n",
              "\n",
              "          const docLinkHtml = 'Like what you see? Visit the ' +\n",
              "            '<a target=\"_blank\" href=https://colab.research.google.com/notebooks/data_table.ipynb>data table notebook</a>'\n",
              "            + ' to learn more about interactive tables.';\n",
              "          element.innerHTML = '';\n",
              "          dataTable['output_type'] = 'display_data';\n",
              "          await google.colab.output.renderOutput(dataTable, element);\n",
              "          const docLink = document.createElement('div');\n",
              "          docLink.innerHTML = docLinkHtml;\n",
              "          element.appendChild(docLink);\n",
              "        }\n",
              "      </script>\n",
              "    </div>\n",
              "  </div>\n",
              "  "
            ]
          },
          "metadata": {},
          "execution_count": 50
        }
      ]
    },
    {
      "cell_type": "code",
      "source": [
        "plt.figure(figsize=(5, 10))\n",
        "df_combined['city'].value_counts(sort=False).plot.barh()\n",
        "plt.title('Number of tagged posts per city of instagram account')\n",
        "plt.show()\n"
      ],
      "metadata": {
        "colab": {
          "base_uri": "https://localhost:8080/",
          "height": 607
        },
        "id": "D-VZcegFy1mX",
        "outputId": "7e207877-b4f2-4ae4-f0fc-79c1de0c303b"
      },
      "execution_count": null,
      "outputs": [
        {
          "output_type": "display_data",
          "data": {
            "text/plain": [
              "<Figure size 360x720 with 1 Axes>"
            ],
            "image/png": "[encoded data removed]"
          },
          "metadata": {
            "needs_background": "light"
          }
        }
      ]
    },
    {
      "cell_type": "markdown",
      "source": [
        "##### **How many pictures-only posts have they published? How many reels? (only videos) and how many with both contents? Provide the number as percentages and interpret those figures.**\n",
        "\n",
        "93% of their posts contain a picture. 7% of their posts contain a video. No posts contain both. It looks like instagram mainly likes to post posts with only pictures. "
      ],
      "metadata": {
        "id": "TgbKZ_aXjDaG"
      }
    },
    {
      "cell_type": "code",
      "source": [
        "# Group by post_type\n",
        "type1 = (df_instagram['post_type']==1).sum()\n",
        "type2 = (df_instagram['post_type']==2).sum()\n",
        "type3 = (df_instagram['post_type']==3).sum()\n",
        "\n",
        "\n",
        "# Create data\n",
        "size_of_groups=[type1, type2, type3]\n",
        "\n",
        "# Create a pieplot\n",
        "plt.pie(size_of_groups, labels=['Photo', 'Video', 'Both'], colors=['yellow', 'orange', 'red'], autopct='%1.2f%%')"
      ],
      "metadata": {
        "colab": {
          "base_uri": "https://localhost:8080/",
          "height": 404
        },
        "id": "ShR-xFfwf84H",
        "outputId": "b14885df-5a3d-41ef-a9f5-53e38a5b5191"
      },
      "execution_count": null,
      "outputs": [
        {
          "output_type": "execute_result",
          "data": {
            "text/plain": [
              "([<matplotlib.patches.Wedge at 0x7fa8517b8d50>,\n",
              "  <matplotlib.patches.Wedge at 0x7fa8517c6550>,\n",
              "  <matplotlib.patches.Wedge at 0x7fa8517c6dd0>],\n",
              " [Text(-1.0769925073829814, 0.2238015617481677, 'Photo'),\n",
              "  Text(1.0769925178598874, -0.22380151133050968, 'Video'),\n",
              "  Text(1.0999999999999954, 1.0298943244593887e-07, 'Both')],\n",
              " [Text(-0.5874504585725352, 0.1220735791353642, '93%'),\n",
              "  Text(0.5874504642872113, -0.12207355163482345, '7%'),\n",
              "  Text(0.5999999999999974, 5.6176054061421195e-08, '0%')])"
            ]
          },
          "metadata": {},
          "execution_count": 23
        },
        {
          "output_type": "display_data",
          "data": {
            "text/plain": [
              "<Figure size 432x288 with 1 Axes>"
            ],
            "image/png": "[encoded data removed]"
          },
          "metadata": {}
        }
      ]
    },
    {
      "cell_type": "markdown",
      "source": [
        "##### **How many \"likes\" and comments did posts with only pictures receive? How about videos and mixed posts? Try to provide the average numbers and confront them with their followers amount, explaining what you can say from that comparison.**\n",
        "\n",
        "If we only look at the average number of likes and comments, we can see that likes are a 100 times more placed than comments for the profile. This can be explained by the fact that a like is a very easy action to perform in comparison with leaving a comment. If we compare the number of likes and comments for pictures vs videos, we can see that pictures receive both more likes and comments. This can be explained by the fact that a lot of people do not take the time to completely watch a video when they scroll through instagram. \n",
        "\n",
        "If we compare the numbers with the number of followers (285 457 645), we see that less than 1% of the followers leave a like, and even a smaller amount leaves a comment. Even though the number of likes on itself seems a lot, compared to the number of followers it is very low."
      ],
      "metadata": {
        "id": "pCpdzHk6jGtx"
      }
    },
    {
      "cell_type": "code",
      "source": [
        "nrfollowers = df_profiles.loc[df_profiles['profile_id'] == 25025320.0, 'followers'].iloc[0]\n",
        "\n",
        "print('number of followers of instagram:', nrfollowers)\n",
        "\n",
        "df_inst_photos = df_instagram[df_instagram.post_type == 1]\n",
        "df_inst_videos = df_instagram[df_instagram.post_type == 2]\n",
        "\n",
        "photolikes = df_inst_photos['numbr_likes'].mean()\n",
        "photocomments = df_inst_photos['number_comments'].mean()\n",
        "videolikes = df_inst_videos['numbr_likes'].mean()\n",
        "videocomments = df_inst_videos['number_comments'].mean()\n",
        "\n",
        "\n",
        "dataset = {'medium': ['pictures', 'videos', 'mixed'], \n",
        "        'nr likes': [photolikes, videolikes , '-'],\n",
        "        'likes/followers': [photolikes/nrfollowers, videolikes/nrfollowers , '-'], \n",
        "        'nr comments': [photocomments , videocomments , '-'],\n",
        "        ' comments/followers': [photocomments/nrfollowers, videocomments/nrfollowers , '-']}\n",
        "df_likes = pd.DataFrame(data=dataset)\n",
        "df_likes"
      ],
      "metadata": {
        "colab": {
          "base_uri": "https://localhost:8080/",
          "height": 161
        },
        "id": "kvyQ923xxTIH",
        "outputId": "387d3198-2b01-4656-fc89-17a37107e728"
      },
      "execution_count": null,
      "outputs": [
        {
          "output_type": "stream",
          "name": "stdout",
          "text": [
            "number of followers of instagram: 285457645.0\n"
          ]
        },
        {
          "output_type": "execute_result",
          "data": {
            "text/plain": [
              "     medium       nr likes likes/followers  nr comments  comments/followers\n",
              "0  pictures  905933.451613        0.003174  6703.290323            0.000023\n",
              "1    videos  593409.666667        0.002079  5749.333333             0.00002\n",
              "2     mixed              -               -            -                   -"
            ],
            "text/html": [
              "\n",
              "  <div id=\"df-738ca81c-264d-4f40-9be2-47ed686e75c2\">\n",
              "    <div class=\"colab-df-container\">\n",
              "      <div>\n",
              "<style scoped>\n",
              "    .dataframe tbody tr th:only-of-type {\n",
              "        vertical-align: middle;\n",
              "    }\n",
              "\n",
              "    .dataframe tbody tr th {\n",
              "        vertical-align: top;\n",
              "    }\n",
              "\n",
              "    .dataframe thead th {\n",
              "        text-align: right;\n",
              "    }\n",
              "</style>\n",
              "<table border=\"1\" class=\"dataframe\">\n",
              "  <thead>\n",
              "    <tr style=\"text-align: right;\">\n",
              "      <th></th>\n",
              "      <th>medium</th>\n",
              "      <th>nr likes</th>\n",
              "      <th>likes/followers</th>\n",
              "      <th>nr comments</th>\n",
              "      <th>comments/followers</th>\n",
              "    </tr>\n",
              "  </thead>\n",
              "  <tbody>\n",
              "    <tr>\n",
              "      <th>0</th>\n",
              "      <td>pictures</td>\n",
              "      <td>905933.451613</td>\n",
              "      <td>0.003174</td>\n",
              "      <td>6703.290323</td>\n",
              "      <td>0.000023</td>\n",
              "    </tr>\n",
              "    <tr>\n",
              "      <th>1</th>\n",
              "      <td>videos</td>\n",
              "      <td>593409.666667</td>\n",
              "      <td>0.002079</td>\n",
              "      <td>5749.333333</td>\n",
              "      <td>0.00002</td>\n",
              "    </tr>\n",
              "    <tr>\n",
              "      <th>2</th>\n",
              "      <td>mixed</td>\n",
              "      <td>-</td>\n",
              "      <td>-</td>\n",
              "      <td>-</td>\n",
              "      <td>-</td>\n",
              "    </tr>\n",
              "  </tbody>\n",
              "</table>\n",
              "</div>\n",
              "      <button class=\"colab-df-convert\" onclick=\"convertToInteractive('df-738ca81c-264d-4f40-9be2-47ed686e75c2')\"\n",
              "              title=\"Convert this dataframe to an interactive table.\"\n",
              "              style=\"display:none;\">\n",
              "        \n",
              "  <svg xmlns=\"http://www.w3.org/2000/svg\" height=\"24px\"viewBox=\"0 0 24 24\"\n",
              "       width=\"24px\">\n",
              "    <path d=\"M0 0h24v24H0V0z\" fill=\"none\"/>\n",
              "    <path d=\"M18.56 5.44l.94 2.06.94-2.06 2.06-.94-2.06-.94-.94-2.06-.94 2.06-2.06.94zm-11 1L8.5 8.5l.94-2.06 2.06-.94-2.06-.94L8.5 2.5l-.94 2.06-2.06.94zm10 10l.94 2.06.94-2.06 2.06-.94-2.06-.94-.94-2.06-.94 2.06-2.06.94z\"/><path d=\"M17.41 7.96l-1.37-1.37c-.4-.4-.92-.59-1.43-.59-.52 0-1.04.2-1.43.59L10.3 9.45l-7.72 7.72c-.78.78-.78 2.05 0 2.83L4 21.41c.39.39.9.59 1.41.59.51 0 1.02-.2 1.41-.59l7.78-7.78 2.81-2.81c.8-.78.8-2.07 0-2.86zM5.41 20L4 18.59l7.72-7.72 1.47 1.35L5.41 20z\"/>\n",
              "  </svg>\n",
              "      </button>\n",
              "      \n",
              "  <style>\n",
              "    .colab-df-container {\n",
              "      display:flex;\n",
              "      flex-wrap:wrap;\n",
              "      gap: 12px;\n",
              "    }\n",
              "\n",
              "    .colab-df-convert {\n",
              "      background-color: #E8F0FE;\n",
              "      border: none;\n",
              "      border-radius: 50%;\n",
              "      cursor: pointer;\n",
              "      display: none;\n",
              "      fill: #1967D2;\n",
              "      height: 32px;\n",
              "      padding: 0 0 0 0;\n",
              "      width: 32px;\n",
              "    }\n",
              "\n",
              "    .colab-df-convert:hover {\n",
              "      background-color: #E2EBFA;\n",
              "      box-shadow: 0px 1px 2px rgba(60, 64, 67, 0.3), 0px 1px 3px 1px rgba(60, 64, 67, 0.15);\n",
              "      fill: #174EA6;\n",
              "    }\n",
              "\n",
              "    [theme=dark] .colab-df-convert {\n",
              "      background-color: #3B4455;\n",
              "      fill: #D2E3FC;\n",
              "    }\n",
              "\n",
              "    [theme=dark] .colab-df-convert:hover {\n",
              "      background-color: #434B5C;\n",
              "      box-shadow: 0px 1px 3px 1px rgba(0, 0, 0, 0.15);\n",
              "      filter: drop-shadow(0px 1px 2px rgba(0, 0, 0, 0.3));\n",
              "      fill: #FFFFFF;\n",
              "    }\n",
              "  </style>\n",
              "\n",
              "      <script>\n",
              "        const buttonEl =\n",
              "          document.querySelector('#df-738ca81c-264d-4f40-9be2-47ed686e75c2 button.colab-df-convert');\n",
              "        buttonEl.style.display =\n",
              "          google.colab.kernel.accessAllowed ? 'block' : 'none';\n",
              "\n",
              "        async function convertToInteractive(key) {\n",
              "          const element = document.querySelector('#df-738ca81c-264d-4f40-9be2-47ed686e75c2');\n",
              "          const dataTable =\n",
              "            await google.colab.kernel.invokeFunction('convertToInteractive',\n",
              "                                                     [key], {});\n",
              "          if (!dataTable) return;\n",
              "\n",
              "          const docLinkHtml = 'Like what you see? Visit the ' +\n",
              "            '<a target=\"_blank\" href=https://colab.research.google.com/notebooks/data_table.ipynb>data table notebook</a>'\n",
              "            + ' to learn more about interactive tables.';\n",
              "          element.innerHTML = '';\n",
              "          dataTable['output_type'] = 'display_data';\n",
              "          await google.colab.output.renderOutput(dataTable, element);\n",
              "          const docLink = document.createElement('div');\n",
              "          docLink.innerHTML = docLinkHtml;\n",
              "          element.appendChild(docLink);\n",
              "        }\n",
              "      </script>\n",
              "    </div>\n",
              "  </div>\n",
              "  "
            ]
          },
          "metadata": {},
          "execution_count": 21
        }
      ]
    },
    {
      "cell_type": "markdown",
      "source": [
        "### Research question 6: user posting effectiveness"
      ],
      "metadata": {
        "id": "sf66iM8W7XUS"
      }
    },
    {
      "cell_type": "markdown",
      "source": [
        "##### **What is the average time (days and minutes) a user lets pass before publishing another post? Plot the top 3 users that publish posts more frequently (calculate the average time that passes between posts), including their amount of followers and following. Provide insights from that chart.**\n",
        "\n",
        "The average time that a user waits before posting a new post is 32 days 07:23:38.337708570.\n",
        "\n",
        "If we look at the three accounts that have the smallest time between posts, we see that two of the three accounts follow more people than they have followers."
      ],
      "metadata": {
        "id": "Et8WpEFZ7dXw"
      }
    },
    {
      "cell_type": "code",
      "source": [
        "# load in data\n",
        "df_posts_small = pd.read_csv('instagram_posts.csv', delimiter=\"\\t\", usecols = ['sid_profile','cts'], low_memory = True)\n"
      ],
      "metadata": {
        "id": "DLGPVo1-9PpA"
      },
      "execution_count": null,
      "outputs": []
    },
    {
      "cell_type": "code",
      "source": [
        "# change the cts to times\n",
        "df_posts_small['cts'] = pd.to_datetime(df_posts_small['cts'], unit='ns')\n",
        "\n"
      ],
      "metadata": {
        "id": "_SdpnUYQWq7b"
      },
      "execution_count": null,
      "outputs": []
    },
    {
      "cell_type": "code",
      "source": [
        "# sort the values both on the sid and the cts so that the sids are grouped together and the cts are in order\n",
        "df_sorted_posts = df_posts_small.sort_values(['sid_profile','cts'])\n",
        "# remove the users that have only posted once\n",
        "df_sorted_posts = df_sorted_posts[df_sorted_posts.groupby('sid_profile').sid_profile.transform('count') > 1]\n"
      ],
      "metadata": {
        "colab": {
          "base_uri": "https://localhost:8080/"
        },
        "id": "lRbyopT4XIYT",
        "outputId": "59718a63-19b0-4265-d390-46710e623e32"
      },
      "execution_count": null,
      "outputs": [
        {
          "output_type": "stream",
          "name": "stdout",
          "text": [
            "42710197\n",
            "42610137\n"
          ]
        }
      ]
    },
    {
      "cell_type": "code",
      "source": [
        "# determine the interval between the times\n",
        "df_sorted_posts['Time_diff'] = df_sorted_posts['cts'].diff()\n",
        "df_sorted_posts.head(5)"
      ],
      "metadata": {
        "colab": {
          "base_uri": "https://localhost:8080/",
          "height": 206
        },
        "id": "QWqYEQlaY7CA",
        "outputId": "871c1717-b928-4b73-8676-0c3be92deb39"
      },
      "execution_count": null,
      "outputs": [
        {
          "output_type": "execute_result",
          "data": {
            "text/plain": [
              "          sid_profile                 cts        Time_diff\n",
              "35149671           -1 2010-07-19 01:12:23              NaT\n",
              "4225968            -1 2010-08-21 06:40:27 33 days 05:28:04\n",
              "1939650            -1 2010-09-05 21:48:24 15 days 15:07:57\n",
              "39517938           -1 2010-09-06 18:36:05  0 days 20:47:41\n",
              "35207772           -1 2010-10-15 00:48:15 38 days 06:12:10"
            ],
            "text/html": [
              "\n",
              "  <div id=\"df-c43ceb23-89bd-49bf-902e-17bcd2cb395f\">\n",
              "    <div class=\"colab-df-container\">\n",
              "      <div>\n",
              "<style scoped>\n",
              "    .dataframe tbody tr th:only-of-type {\n",
              "        vertical-align: middle;\n",
              "    }\n",
              "\n",
              "    .dataframe tbody tr th {\n",
              "        vertical-align: top;\n",
              "    }\n",
              "\n",
              "    .dataframe thead th {\n",
              "        text-align: right;\n",
              "    }\n",
              "</style>\n",
              "<table border=\"1\" class=\"dataframe\">\n",
              "  <thead>\n",
              "    <tr style=\"text-align: right;\">\n",
              "      <th></th>\n",
              "      <th>sid_profile</th>\n",
              "      <th>cts</th>\n",
              "      <th>Time_diff</th>\n",
              "    </tr>\n",
              "  </thead>\n",
              "  <tbody>\n",
              "    <tr>\n",
              "      <th>35149671</th>\n",
              "      <td>-1</td>\n",
              "      <td>2010-07-19 01:12:23</td>\n",
              "      <td>NaT</td>\n",
              "    </tr>\n",
              "    <tr>\n",
              "      <th>4225968</th>\n",
              "      <td>-1</td>\n",
              "      <td>2010-08-21 06:40:27</td>\n",
              "      <td>33 days 05:28:04</td>\n",
              "    </tr>\n",
              "    <tr>\n",
              "      <th>1939650</th>\n",
              "      <td>-1</td>\n",
              "      <td>2010-09-05 21:48:24</td>\n",
              "      <td>15 days 15:07:57</td>\n",
              "    </tr>\n",
              "    <tr>\n",
              "      <th>39517938</th>\n",
              "      <td>-1</td>\n",
              "      <td>2010-09-06 18:36:05</td>\n",
              "      <td>0 days 20:47:41</td>\n",
              "    </tr>\n",
              "    <tr>\n",
              "      <th>35207772</th>\n",
              "      <td>-1</td>\n",
              "      <td>2010-10-15 00:48:15</td>\n",
              "      <td>38 days 06:12:10</td>\n",
              "    </tr>\n",
              "  </tbody>\n",
              "</table>\n",
              "</div>\n",
              "      <button class=\"colab-df-convert\" onclick=\"convertToInteractive('df-c43ceb23-89bd-49bf-902e-17bcd2cb395f')\"\n",
              "              title=\"Convert this dataframe to an interactive table.\"\n",
              "              style=\"display:none;\">\n",
              "        \n",
              "  <svg xmlns=\"http://www.w3.org/2000/svg\" height=\"24px\"viewBox=\"0 0 24 24\"\n",
              "       width=\"24px\">\n",
              "    <path d=\"M0 0h24v24H0V0z\" fill=\"none\"/>\n",
              "    <path d=\"M18.56 5.44l.94 2.06.94-2.06 2.06-.94-2.06-.94-.94-2.06-.94 2.06-2.06.94zm-11 1L8.5 8.5l.94-2.06 2.06-.94-2.06-.94L8.5 2.5l-.94 2.06-2.06.94zm10 10l.94 2.06.94-2.06 2.06-.94-2.06-.94-.94-2.06-.94 2.06-2.06.94z\"/><path d=\"M17.41 7.96l-1.37-1.37c-.4-.4-.92-.59-1.43-.59-.52 0-1.04.2-1.43.59L10.3 9.45l-7.72 7.72c-.78.78-.78 2.05 0 2.83L4 21.41c.39.39.9.59 1.41.59.51 0 1.02-.2 1.41-.59l7.78-7.78 2.81-2.81c.8-.78.8-2.07 0-2.86zM5.41 20L4 18.59l7.72-7.72 1.47 1.35L5.41 20z\"/>\n",
              "  </svg>\n",
              "      </button>\n",
              "      \n",
              "  <style>\n",
              "    .colab-df-container {\n",
              "      display:flex;\n",
              "      flex-wrap:wrap;\n",
              "      gap: 12px;\n",
              "    }\n",
              "\n",
              "    .colab-df-convert {\n",
              "      background-color: #E8F0FE;\n",
              "      border: none;\n",
              "      border-radius: 50%;\n",
              "      cursor: pointer;\n",
              "      display: none;\n",
              "      fill: #1967D2;\n",
              "      height: 32px;\n",
              "      padding: 0 0 0 0;\n",
              "      width: 32px;\n",
              "    }\n",
              "\n",
              "    .colab-df-convert:hover {\n",
              "      background-color: #E2EBFA;\n",
              "      box-shadow: 0px 1px 2px rgba(60, 64, 67, 0.3), 0px 1px 3px 1px rgba(60, 64, 67, 0.15);\n",
              "      fill: #174EA6;\n",
              "    }\n",
              "\n",
              "    [theme=dark] .colab-df-convert {\n",
              "      background-color: #3B4455;\n",
              "      fill: #D2E3FC;\n",
              "    }\n",
              "\n",
              "    [theme=dark] .colab-df-convert:hover {\n",
              "      background-color: #434B5C;\n",
              "      box-shadow: 0px 1px 3px 1px rgba(0, 0, 0, 0.15);\n",
              "      filter: drop-shadow(0px 1px 2px rgba(0, 0, 0, 0.3));\n",
              "      fill: #FFFFFF;\n",
              "    }\n",
              "  </style>\n",
              "\n",
              "      <script>\n",
              "        const buttonEl =\n",
              "          document.querySelector('#df-c43ceb23-89bd-49bf-902e-17bcd2cb395f button.colab-df-convert');\n",
              "        buttonEl.style.display =\n",
              "          google.colab.kernel.accessAllowed ? 'block' : 'none';\n",
              "\n",
              "        async function convertToInteractive(key) {\n",
              "          const element = document.querySelector('#df-c43ceb23-89bd-49bf-902e-17bcd2cb395f');\n",
              "          const dataTable =\n",
              "            await google.colab.kernel.invokeFunction('convertToInteractive',\n",
              "                                                     [key], {});\n",
              "          if (!dataTable) return;\n",
              "\n",
              "          const docLinkHtml = 'Like what you see? Visit the ' +\n",
              "            '<a target=\"_blank\" href=https://colab.research.google.com/notebooks/data_table.ipynb>data table notebook</a>'\n",
              "            + ' to learn more about interactive tables.';\n",
              "          element.innerHTML = '';\n",
              "          dataTable['output_type'] = 'display_data';\n",
              "          await google.colab.output.renderOutput(dataTable, element);\n",
              "          const docLink = document.createElement('div');\n",
              "          docLink.innerHTML = docLinkHtml;\n",
              "          element.appendChild(docLink);\n",
              "        }\n",
              "      </script>\n",
              "    </div>\n",
              "  </div>\n",
              "  "
            ]
          },
          "metadata": {},
          "execution_count": 23
        }
      ]
    },
    {
      "cell_type": "code",
      "source": [
        "# Remove the first row of every new profile so we only keep the differences for the same profile\n",
        "df_cleaned = df_sorted_posts[df_sorted_posts.Time_diff > pd.Timedelta(0)]\n"
      ],
      "metadata": {
        "id": "r5YIVt4aab9b"
      },
      "execution_count": null,
      "outputs": []
    },
    {
      "cell_type": "code",
      "source": [
        "# determine the mean of the time difference\n",
        "df_time_diff = df_cleaned.groupby('sid_profile', as_index=False)['Time_diff'].mean()\n",
        "\n",
        "print('The average time that a user waits before posting a new post is', df_time_diff['Time_diff'].mean())\n",
        "df_time_diff"
      ],
      "metadata": {
        "colab": {
          "base_uri": "https://localhost:8080/",
          "height": 442
        },
        "id": "nA7s3zGIYrmz",
        "outputId": "284e9398-5304-49ff-a5b1-e6e9467ac233"
      },
      "execution_count": null,
      "outputs": [
        {
          "output_type": "stream",
          "name": "stdout",
          "text": [
            "The average time that a user waits before posting a new post is 29 days 03:21:47.309517514\n"
          ]
        },
        {
          "output_type": "execute_result",
          "data": {
            "text/plain": [
              "         sid_profile                  Time_diff\n",
              "0                 -1  0 days 00:00:27.289843250\n",
              "1               1186 18 days 04:34:02.628571428\n",
              "2               1187    14 days 15:43:24.950000\n",
              "3               1188 34 days 20:52:37.285714285\n",
              "4               1189            3 days 19:54:01\n",
              "...              ...                        ...\n",
              "2178040      4510781  5 days 12:49:08.619047619\n",
              "2178041      4510782           74 days 15:48:54\n",
              "2178042      4510783  6 days 05:26:44.818181818\n",
              "2178043      4510784  5 days 14:12:25.047619047\n",
              "2178044      4510785           14 days 23:04:27\n",
              "\n",
              "[2178045 rows x 2 columns]"
            ],
            "text/html": [
              "\n",
              "  <div id=\"df-f616f95f-f10e-414b-814c-612dcb700d9b\">\n",
              "    <div class=\"colab-df-container\">\n",
              "      <div>\n",
              "<style scoped>\n",
              "    .dataframe tbody tr th:only-of-type {\n",
              "        vertical-align: middle;\n",
              "    }\n",
              "\n",
              "    .dataframe tbody tr th {\n",
              "        vertical-align: top;\n",
              "    }\n",
              "\n",
              "    .dataframe thead th {\n",
              "        text-align: right;\n",
              "    }\n",
              "</style>\n",
              "<table border=\"1\" class=\"dataframe\">\n",
              "  <thead>\n",
              "    <tr style=\"text-align: right;\">\n",
              "      <th></th>\n",
              "      <th>sid_profile</th>\n",
              "      <th>Time_diff</th>\n",
              "    </tr>\n",
              "  </thead>\n",
              "  <tbody>\n",
              "    <tr>\n",
              "      <th>0</th>\n",
              "      <td>-1</td>\n",
              "      <td>0 days 00:00:27.289843250</td>\n",
              "    </tr>\n",
              "    <tr>\n",
              "      <th>1</th>\n",
              "      <td>1186</td>\n",
              "      <td>18 days 04:34:02.628571428</td>\n",
              "    </tr>\n",
              "    <tr>\n",
              "      <th>2</th>\n",
              "      <td>1187</td>\n",
              "      <td>14 days 15:43:24.950000</td>\n",
              "    </tr>\n",
              "    <tr>\n",
              "      <th>3</th>\n",
              "      <td>1188</td>\n",
              "      <td>34 days 20:52:37.285714285</td>\n",
              "    </tr>\n",
              "    <tr>\n",
              "      <th>4</th>\n",
              "      <td>1189</td>\n",
              "      <td>3 days 19:54:01</td>\n",
              "    </tr>\n",
              "    <tr>\n",
              "      <th>...</th>\n",
              "      <td>...</td>\n",
              "      <td>...</td>\n",
              "    </tr>\n",
              "    <tr>\n",
              "      <th>2178040</th>\n",
              "      <td>4510781</td>\n",
              "      <td>5 days 12:49:08.619047619</td>\n",
              "    </tr>\n",
              "    <tr>\n",
              "      <th>2178041</th>\n",
              "      <td>4510782</td>\n",
              "      <td>74 days 15:48:54</td>\n",
              "    </tr>\n",
              "    <tr>\n",
              "      <th>2178042</th>\n",
              "      <td>4510783</td>\n",
              "      <td>6 days 05:26:44.818181818</td>\n",
              "    </tr>\n",
              "    <tr>\n",
              "      <th>2178043</th>\n",
              "      <td>4510784</td>\n",
              "      <td>5 days 14:12:25.047619047</td>\n",
              "    </tr>\n",
              "    <tr>\n",
              "      <th>2178044</th>\n",
              "      <td>4510785</td>\n",
              "      <td>14 days 23:04:27</td>\n",
              "    </tr>\n",
              "  </tbody>\n",
              "</table>\n",
              "<p>2178045 rows × 2 columns</p>\n",
              "</div>\n",
              "      <button class=\"colab-df-convert\" onclick=\"convertToInteractive('df-f616f95f-f10e-414b-814c-612dcb700d9b')\"\n",
              "              title=\"Convert this dataframe to an interactive table.\"\n",
              "              style=\"display:none;\">\n",
              "        \n",
              "  <svg xmlns=\"http://www.w3.org/2000/svg\" height=\"24px\"viewBox=\"0 0 24 24\"\n",
              "       width=\"24px\">\n",
              "    <path d=\"M0 0h24v24H0V0z\" fill=\"none\"/>\n",
              "    <path d=\"M18.56 5.44l.94 2.06.94-2.06 2.06-.94-2.06-.94-.94-2.06-.94 2.06-2.06.94zm-11 1L8.5 8.5l.94-2.06 2.06-.94-2.06-.94L8.5 2.5l-.94 2.06-2.06.94zm10 10l.94 2.06.94-2.06 2.06-.94-2.06-.94-.94-2.06-.94 2.06-2.06.94z\"/><path d=\"M17.41 7.96l-1.37-1.37c-.4-.4-.92-.59-1.43-.59-.52 0-1.04.2-1.43.59L10.3 9.45l-7.72 7.72c-.78.78-.78 2.05 0 2.83L4 21.41c.39.39.9.59 1.41.59.51 0 1.02-.2 1.41-.59l7.78-7.78 2.81-2.81c.8-.78.8-2.07 0-2.86zM5.41 20L4 18.59l7.72-7.72 1.47 1.35L5.41 20z\"/>\n",
              "  </svg>\n",
              "      </button>\n",
              "      \n",
              "  <style>\n",
              "    .colab-df-container {\n",
              "      display:flex;\n",
              "      flex-wrap:wrap;\n",
              "      gap: 12px;\n",
              "    }\n",
              "\n",
              "    .colab-df-convert {\n",
              "      background-color: #E8F0FE;\n",
              "      border: none;\n",
              "      border-radius: 50%;\n",
              "      cursor: pointer;\n",
              "      display: none;\n",
              "      fill: #1967D2;\n",
              "      height: 32px;\n",
              "      padding: 0 0 0 0;\n",
              "      width: 32px;\n",
              "    }\n",
              "\n",
              "    .colab-df-convert:hover {\n",
              "      background-color: #E2EBFA;\n",
              "      box-shadow: 0px 1px 2px rgba(60, 64, 67, 0.3), 0px 1px 3px 1px rgba(60, 64, 67, 0.15);\n",
              "      fill: #174EA6;\n",
              "    }\n",
              "\n",
              "    [theme=dark] .colab-df-convert {\n",
              "      background-color: #3B4455;\n",
              "      fill: #D2E3FC;\n",
              "    }\n",
              "\n",
              "    [theme=dark] .colab-df-convert:hover {\n",
              "      background-color: #434B5C;\n",
              "      box-shadow: 0px 1px 3px 1px rgba(0, 0, 0, 0.15);\n",
              "      filter: drop-shadow(0px 1px 2px rgba(0, 0, 0, 0.3));\n",
              "      fill: #FFFFFF;\n",
              "    }\n",
              "  </style>\n",
              "\n",
              "      <script>\n",
              "        const buttonEl =\n",
              "          document.querySelector('#df-f616f95f-f10e-414b-814c-612dcb700d9b button.colab-df-convert');\n",
              "        buttonEl.style.display =\n",
              "          google.colab.kernel.accessAllowed ? 'block' : 'none';\n",
              "\n",
              "        async function convertToInteractive(key) {\n",
              "          const element = document.querySelector('#df-f616f95f-f10e-414b-814c-612dcb700d9b');\n",
              "          const dataTable =\n",
              "            await google.colab.kernel.invokeFunction('convertToInteractive',\n",
              "                                                     [key], {});\n",
              "          if (!dataTable) return;\n",
              "\n",
              "          const docLinkHtml = 'Like what you see? Visit the ' +\n",
              "            '<a target=\"_blank\" href=https://colab.research.google.com/notebooks/data_table.ipynb>data table notebook</a>'\n",
              "            + ' to learn more about interactive tables.';\n",
              "          element.innerHTML = '';\n",
              "          dataTable['output_type'] = 'display_data';\n",
              "          await google.colab.output.renderOutput(dataTable, element);\n",
              "          const docLink = document.createElement('div');\n",
              "          docLink.innerHTML = docLinkHtml;\n",
              "          element.appendChild(docLink);\n",
              "        }\n",
              "      </script>\n",
              "    </div>\n",
              "  </div>\n",
              "  "
            ]
          },
          "metadata": {},
          "execution_count": 25
        }
      ]
    },
    {
      "cell_type": "code",
      "source": [
        "# find the three users that post the most frequently\n",
        "df_time_diff = df_time_diff.sort_values(by=['Time_diff'], ascending = True)"
      ],
      "metadata": {
        "id": "xNiGS-FReodd"
      },
      "execution_count": null,
      "outputs": []
    },
    {
      "cell_type": "code",
      "source": [
        "# only keep three top rows\n",
        "df_top3 = df_time_diff.iloc[:3]"
      ],
      "metadata": {
        "id": "N5blvjpfgyys"
      },
      "execution_count": null,
      "outputs": []
    },
    {
      "cell_type": "code",
      "source": [
        "# load in the number of followers and following\n",
        "df_profiles_small = pd.read_csv('instagram_profiles.csv', delimiter=\"\\t\", usecols = ['sid','followers', 'following'], low_memory = True)\n"
      ],
      "metadata": {
        "id": "S4VhPJoLc7Ew"
      },
      "execution_count": null,
      "outputs": []
    },
    {
      "cell_type": "code",
      "source": [
        "# find the number of followers and the following or the top three and plot the dataset\n",
        "df_top3_combined = df_top3.merge(df_profiles_small, how = 'left',  left_on='sid_profile', right_on='sid')\n",
        "df_top3_combined.head()"
      ],
      "metadata": {
        "colab": {
          "base_uri": "https://localhost:8080/",
          "height": 143
        },
        "id": "aYGEE8nbgr3h",
        "outputId": "6450fd0b-ee9e-461d-8941-563e00cf5a4b"
      },
      "execution_count": null,
      "outputs": [
        {
          "output_type": "execute_result",
          "data": {
            "text/plain": [
              "   sid_profile       Time_diff      sid  following  followers\n",
              "0      3015220 0 days 00:00:01  3015220       35.0        4.0\n",
              "1       130281 0 days 00:00:01   130281       25.0       47.0\n",
              "2      2838569 0 days 00:00:01  2838569      395.0       82.0"
            ],
            "text/html": [
              "\n",
              "  <div id=\"df-42cd961e-d9e8-4cac-93c5-13303db9af9d\">\n",
              "    <div class=\"colab-df-container\">\n",
              "      <div>\n",
              "<style scoped>\n",
              "    .dataframe tbody tr th:only-of-type {\n",
              "        vertical-align: middle;\n",
              "    }\n",
              "\n",
              "    .dataframe tbody tr th {\n",
              "        vertical-align: top;\n",
              "    }\n",
              "\n",
              "    .dataframe thead th {\n",
              "        text-align: right;\n",
              "    }\n",
              "</style>\n",
              "<table border=\"1\" class=\"dataframe\">\n",
              "  <thead>\n",
              "    <tr style=\"text-align: right;\">\n",
              "      <th></th>\n",
              "      <th>sid_profile</th>\n",
              "      <th>Time_diff</th>\n",
              "      <th>sid</th>\n",
              "      <th>following</th>\n",
              "      <th>followers</th>\n",
              "    </tr>\n",
              "  </thead>\n",
              "  <tbody>\n",
              "    <tr>\n",
              "      <th>0</th>\n",
              "      <td>3015220</td>\n",
              "      <td>0 days 00:00:01</td>\n",
              "      <td>3015220</td>\n",
              "      <td>35.0</td>\n",
              "      <td>4.0</td>\n",
              "    </tr>\n",
              "    <tr>\n",
              "      <th>1</th>\n",
              "      <td>130281</td>\n",
              "      <td>0 days 00:00:01</td>\n",
              "      <td>130281</td>\n",
              "      <td>25.0</td>\n",
              "      <td>47.0</td>\n",
              "    </tr>\n",
              "    <tr>\n",
              "      <th>2</th>\n",
              "      <td>2838569</td>\n",
              "      <td>0 days 00:00:01</td>\n",
              "      <td>2838569</td>\n",
              "      <td>395.0</td>\n",
              "      <td>82.0</td>\n",
              "    </tr>\n",
              "  </tbody>\n",
              "</table>\n",
              "</div>\n",
              "      <button class=\"colab-df-convert\" onclick=\"convertToInteractive('df-42cd961e-d9e8-4cac-93c5-13303db9af9d')\"\n",
              "              title=\"Convert this dataframe to an interactive table.\"\n",
              "              style=\"display:none;\">\n",
              "        \n",
              "  <svg xmlns=\"http://www.w3.org/2000/svg\" height=\"24px\"viewBox=\"0 0 24 24\"\n",
              "       width=\"24px\">\n",
              "    <path d=\"M0 0h24v24H0V0z\" fill=\"none\"/>\n",
              "    <path d=\"M18.56 5.44l.94 2.06.94-2.06 2.06-.94-2.06-.94-.94-2.06-.94 2.06-2.06.94zm-11 1L8.5 8.5l.94-2.06 2.06-.94-2.06-.94L8.5 2.5l-.94 2.06-2.06.94zm10 10l.94 2.06.94-2.06 2.06-.94-2.06-.94-.94-2.06-.94 2.06-2.06.94z\"/><path d=\"M17.41 7.96l-1.37-1.37c-.4-.4-.92-.59-1.43-.59-.52 0-1.04.2-1.43.59L10.3 9.45l-7.72 7.72c-.78.78-.78 2.05 0 2.83L4 21.41c.39.39.9.59 1.41.59.51 0 1.02-.2 1.41-.59l7.78-7.78 2.81-2.81c.8-.78.8-2.07 0-2.86zM5.41 20L4 18.59l7.72-7.72 1.47 1.35L5.41 20z\"/>\n",
              "  </svg>\n",
              "      </button>\n",
              "      \n",
              "  <style>\n",
              "    .colab-df-container {\n",
              "      display:flex;\n",
              "      flex-wrap:wrap;\n",
              "      gap: 12px;\n",
              "    }\n",
              "\n",
              "    .colab-df-convert {\n",
              "      background-color: #E8F0FE;\n",
              "      border: none;\n",
              "      border-radius: 50%;\n",
              "      cursor: pointer;\n",
              "      display: none;\n",
              "      fill: #1967D2;\n",
              "      height: 32px;\n",
              "      padding: 0 0 0 0;\n",
              "      width: 32px;\n",
              "    }\n",
              "\n",
              "    .colab-df-convert:hover {\n",
              "      background-color: #E2EBFA;\n",
              "      box-shadow: 0px 1px 2px rgba(60, 64, 67, 0.3), 0px 1px 3px 1px rgba(60, 64, 67, 0.15);\n",
              "      fill: #174EA6;\n",
              "    }\n",
              "\n",
              "    [theme=dark] .colab-df-convert {\n",
              "      background-color: #3B4455;\n",
              "      fill: #D2E3FC;\n",
              "    }\n",
              "\n",
              "    [theme=dark] .colab-df-convert:hover {\n",
              "      background-color: #434B5C;\n",
              "      box-shadow: 0px 1px 3px 1px rgba(0, 0, 0, 0.15);\n",
              "      filter: drop-shadow(0px 1px 2px rgba(0, 0, 0, 0.3));\n",
              "      fill: #FFFFFF;\n",
              "    }\n",
              "  </style>\n",
              "\n",
              "      <script>\n",
              "        const buttonEl =\n",
              "          document.querySelector('#df-42cd961e-d9e8-4cac-93c5-13303db9af9d button.colab-df-convert');\n",
              "        buttonEl.style.display =\n",
              "          google.colab.kernel.accessAllowed ? 'block' : 'none';\n",
              "\n",
              "        async function convertToInteractive(key) {\n",
              "          const element = document.querySelector('#df-42cd961e-d9e8-4cac-93c5-13303db9af9d');\n",
              "          const dataTable =\n",
              "            await google.colab.kernel.invokeFunction('convertToInteractive',\n",
              "                                                     [key], {});\n",
              "          if (!dataTable) return;\n",
              "\n",
              "          const docLinkHtml = 'Like what you see? Visit the ' +\n",
              "            '<a target=\"_blank\" href=https://colab.research.google.com/notebooks/data_table.ipynb>data table notebook</a>'\n",
              "            + ' to learn more about interactive tables.';\n",
              "          element.innerHTML = '';\n",
              "          dataTable['output_type'] = 'display_data';\n",
              "          await google.colab.output.renderOutput(dataTable, element);\n",
              "          const docLink = document.createElement('div');\n",
              "          docLink.innerHTML = docLinkHtml;\n",
              "          element.appendChild(docLink);\n",
              "        }\n",
              "      </script>\n",
              "    </div>\n",
              "  </div>\n",
              "  "
            ]
          },
          "metadata": {},
          "execution_count": 34
        }
      ]
    },
    {
      "cell_type": "code",
      "source": [
        "# plot the following and followers in a chart\n",
        "# plotting graph\n",
        "df_top3_combined.plot(x=\"sid\", y=[\"following\", \"followers\"], kind=\"bar\")"
      ],
      "metadata": {
        "colab": {
          "base_uri": "https://localhost:8080/",
          "height": 332
        },
        "id": "3wXPcxdLhnc3",
        "outputId": "1c7e7089-3eeb-4229-99db-b02cea5f490e"
      },
      "execution_count": null,
      "outputs": [
        {
          "output_type": "execute_result",
          "data": {
            "text/plain": [
              "<matplotlib.axes._subplots.AxesSubplot at 0x7ff9196c92d0>"
            ]
          },
          "metadata": {},
          "execution_count": 40
        },
        {
          "output_type": "display_data",
          "data": {
            "text/plain": [
              "<Figure size 432x288 with 1 Axes>"
            ],
            "image/png": "[encoded data removed]"
          },
          "metadata": {
            "needs_background": "light"
          }
        }
      ]
    },
    {
      "cell_type": "markdown",
      "source": [
        "##### **Using the function you previously coded, plot the time intervals with the highest average number of “likes” and the ones with the highest average number of comments on posts.**\n",
        "The highest average number of likes  is from the profile, with profile sid 531404. They have posted several posts with in general not so much time in between.\n",
        "\n",
        "The profile with on average the highest number of comments is user 468168, which has posted 2 posts in total with approximately 151 days in between the two posts."
      ],
      "metadata": {
        "id": "k4qbn27i7hTk"
      }
    },
    {
      "cell_type": "code",
      "source": [
        "# load in data\n",
        "df_posts_small = pd.read_csv('instagram_posts.csv', delimiter=\"\\t\", usecols = ['sid_profile','cts', 'numbr_likes', 'number_comments'], low_memory = True)\n"
      ],
      "metadata": {
        "id": "cul3IjUZjByy"
      },
      "execution_count": null,
      "outputs": []
    },
    {
      "cell_type": "code",
      "source": [
        "# change the cts to times\n",
        "df_posts_small['cts'] = pd.to_datetime(df_posts_small['cts'], unit='ns')\n",
        "\n",
        "# sort the values both on the sid and the cts so that the sids are grouped together and the cts are in order\n",
        "df_sorted_posts = df_posts_small.sort_values(['sid_profile','cts'])\n",
        "# remove the users that have only posted once\n",
        "df_sorted_posts = df_sorted_posts[df_sorted_posts.groupby('sid_profile').sid_profile.transform('count') > 1]\n",
        "\n",
        "# determine the interval between the times\n",
        "df_sorted_posts['Time_diff'] = df_sorted_posts['cts'].diff()\n",
        "\n",
        "# Remove the first row of every new profile so we only keep the differences for the same profile\n",
        "df_cleaned = df_sorted_posts[df_sorted_posts.Time_diff > pd.Timedelta(0)]\n"
      ],
      "metadata": {
        "id": "VT1hWye7jcYs"
      },
      "execution_count": null,
      "outputs": []
    },
    {
      "cell_type": "code",
      "source": [
        "# determine the sid number with highest number of likes and comments\n",
        "sid_nrlikes = df_cleaned.groupby('sid_profile', as_index=False)['numbr_likes'].mean()\n",
        "sid_nrcomments = df_cleaned.groupby('sid_profile', as_index=False)['number_comments'].mean()\n"
      ],
      "metadata": {
        "id": "Q4iG0YHjkI03"
      },
      "execution_count": null,
      "outputs": []
    },
    {
      "cell_type": "code",
      "source": [
        "sid_nrlikes.loc[sid_nrlikes['numbr_likes'] == sid_nrlikes['numbr_likes'].max()]\n"
      ],
      "metadata": {
        "colab": {
          "base_uri": "https://localhost:8080/",
          "height": 81
        },
        "id": "aXb-AUX7_CqZ",
        "outputId": "b50c6df5-da28-486f-d7f0-cb23c9ab124f"
      },
      "execution_count": null,
      "outputs": [
        {
          "output_type": "execute_result",
          "data": {
            "text/plain": [
              "        sid_profile  numbr_likes\n",
              "243730       531404    3528630.5"
            ],
            "text/html": [
              "\n",
              "  <div id=\"df-df93d67e-5b13-4ed3-bf6c-8ec6f86e1c34\">\n",
              "    <div class=\"colab-df-container\">\n",
              "      <div>\n",
              "<style scoped>\n",
              "    .dataframe tbody tr th:only-of-type {\n",
              "        vertical-align: middle;\n",
              "    }\n",
              "\n",
              "    .dataframe tbody tr th {\n",
              "        vertical-align: top;\n",
              "    }\n",
              "\n",
              "    .dataframe thead th {\n",
              "        text-align: right;\n",
              "    }\n",
              "</style>\n",
              "<table border=\"1\" class=\"dataframe\">\n",
              "  <thead>\n",
              "    <tr style=\"text-align: right;\">\n",
              "      <th></th>\n",
              "      <th>sid_profile</th>\n",
              "      <th>numbr_likes</th>\n",
              "    </tr>\n",
              "  </thead>\n",
              "  <tbody>\n",
              "    <tr>\n",
              "      <th>243730</th>\n",
              "      <td>531404</td>\n",
              "      <td>3528630.5</td>\n",
              "    </tr>\n",
              "  </tbody>\n",
              "</table>\n",
              "</div>\n",
              "      <button class=\"colab-df-convert\" onclick=\"convertToInteractive('df-df93d67e-5b13-4ed3-bf6c-8ec6f86e1c34')\"\n",
              "              title=\"Convert this dataframe to an interactive table.\"\n",
              "              style=\"display:none;\">\n",
              "        \n",
              "  <svg xmlns=\"http://www.w3.org/2000/svg\" height=\"24px\"viewBox=\"0 0 24 24\"\n",
              "       width=\"24px\">\n",
              "    <path d=\"M0 0h24v24H0V0z\" fill=\"none\"/>\n",
              "    <path d=\"M18.56 5.44l.94 2.06.94-2.06 2.06-.94-2.06-.94-.94-2.06-.94 2.06-2.06.94zm-11 1L8.5 8.5l.94-2.06 2.06-.94-2.06-.94L8.5 2.5l-.94 2.06-2.06.94zm10 10l.94 2.06.94-2.06 2.06-.94-2.06-.94-.94-2.06-.94 2.06-2.06.94z\"/><path d=\"M17.41 7.96l-1.37-1.37c-.4-.4-.92-.59-1.43-.59-.52 0-1.04.2-1.43.59L10.3 9.45l-7.72 7.72c-.78.78-.78 2.05 0 2.83L4 21.41c.39.39.9.59 1.41.59.51 0 1.02-.2 1.41-.59l7.78-7.78 2.81-2.81c.8-.78.8-2.07 0-2.86zM5.41 20L4 18.59l7.72-7.72 1.47 1.35L5.41 20z\"/>\n",
              "  </svg>\n",
              "      </button>\n",
              "      \n",
              "  <style>\n",
              "    .colab-df-container {\n",
              "      display:flex;\n",
              "      flex-wrap:wrap;\n",
              "      gap: 12px;\n",
              "    }\n",
              "\n",
              "    .colab-df-convert {\n",
              "      background-color: #E8F0FE;\n",
              "      border: none;\n",
              "      border-radius: 50%;\n",
              "      cursor: pointer;\n",
              "      display: none;\n",
              "      fill: #1967D2;\n",
              "      height: 32px;\n",
              "      padding: 0 0 0 0;\n",
              "      width: 32px;\n",
              "    }\n",
              "\n",
              "    .colab-df-convert:hover {\n",
              "      background-color: #E2EBFA;\n",
              "      box-shadow: 0px 1px 2px rgba(60, 64, 67, 0.3), 0px 1px 3px 1px rgba(60, 64, 67, 0.15);\n",
              "      fill: #174EA6;\n",
              "    }\n",
              "\n",
              "    [theme=dark] .colab-df-convert {\n",
              "      background-color: #3B4455;\n",
              "      fill: #D2E3FC;\n",
              "    }\n",
              "\n",
              "    [theme=dark] .colab-df-convert:hover {\n",
              "      background-color: #434B5C;\n",
              "      box-shadow: 0px 1px 3px 1px rgba(0, 0, 0, 0.15);\n",
              "      filter: drop-shadow(0px 1px 2px rgba(0, 0, 0, 0.3));\n",
              "      fill: #FFFFFF;\n",
              "    }\n",
              "  </style>\n",
              "\n",
              "      <script>\n",
              "        const buttonEl =\n",
              "          document.querySelector('#df-df93d67e-5b13-4ed3-bf6c-8ec6f86e1c34 button.colab-df-convert');\n",
              "        buttonEl.style.display =\n",
              "          google.colab.kernel.accessAllowed ? 'block' : 'none';\n",
              "\n",
              "        async function convertToInteractive(key) {\n",
              "          const element = document.querySelector('#df-df93d67e-5b13-4ed3-bf6c-8ec6f86e1c34');\n",
              "          const dataTable =\n",
              "            await google.colab.kernel.invokeFunction('convertToInteractive',\n",
              "                                                     [key], {});\n",
              "          if (!dataTable) return;\n",
              "\n",
              "          const docLinkHtml = 'Like what you see? Visit the ' +\n",
              "            '<a target=\"_blank\" href=https://colab.research.google.com/notebooks/data_table.ipynb>data table notebook</a>'\n",
              "            + ' to learn more about interactive tables.';\n",
              "          element.innerHTML = '';\n",
              "          dataTable['output_type'] = 'display_data';\n",
              "          await google.colab.output.renderOutput(dataTable, element);\n",
              "          const docLink = document.createElement('div');\n",
              "          docLink.innerHTML = docLinkHtml;\n",
              "          element.appendChild(docLink);\n",
              "        }\n",
              "      </script>\n",
              "    </div>\n",
              "  </div>\n",
              "  "
            ]
          },
          "metadata": {},
          "execution_count": 35
        }
      ]
    },
    {
      "cell_type": "code",
      "source": [
        "sid_nrcomments.loc[sid_nrcomments['number_comments'] == sid_nrcomments['number_comments'].max()]\n"
      ],
      "metadata": {
        "colab": {
          "base_uri": "https://localhost:8080/",
          "height": 81
        },
        "id": "DSLdtLkSAPfA",
        "outputId": "d2ba30a0-301e-4b62-df9a-2194c5f35152"
      },
      "execution_count": null,
      "outputs": [
        {
          "output_type": "execute_result",
          "data": {
            "text/plain": [
              "        sid_profile  number_comments\n",
              "230742       468168         170836.0"
            ],
            "text/html": [
              "\n",
              "  <div id=\"df-07a29fe5-8ce8-4b46-a456-938170b53ddd\">\n",
              "    <div class=\"colab-df-container\">\n",
              "      <div>\n",
              "<style scoped>\n",
              "    .dataframe tbody tr th:only-of-type {\n",
              "        vertical-align: middle;\n",
              "    }\n",
              "\n",
              "    .dataframe tbody tr th {\n",
              "        vertical-align: top;\n",
              "    }\n",
              "\n",
              "    .dataframe thead th {\n",
              "        text-align: right;\n",
              "    }\n",
              "</style>\n",
              "<table border=\"1\" class=\"dataframe\">\n",
              "  <thead>\n",
              "    <tr style=\"text-align: right;\">\n",
              "      <th></th>\n",
              "      <th>sid_profile</th>\n",
              "      <th>number_comments</th>\n",
              "    </tr>\n",
              "  </thead>\n",
              "  <tbody>\n",
              "    <tr>\n",
              "      <th>230742</th>\n",
              "      <td>468168</td>\n",
              "      <td>170836.0</td>\n",
              "    </tr>\n",
              "  </tbody>\n",
              "</table>\n",
              "</div>\n",
              "      <button class=\"colab-df-convert\" onclick=\"convertToInteractive('df-07a29fe5-8ce8-4b46-a456-938170b53ddd')\"\n",
              "              title=\"Convert this dataframe to an interactive table.\"\n",
              "              style=\"display:none;\">\n",
              "        \n",
              "  <svg xmlns=\"http://www.w3.org/2000/svg\" height=\"24px\"viewBox=\"0 0 24 24\"\n",
              "       width=\"24px\">\n",
              "    <path d=\"M0 0h24v24H0V0z\" fill=\"none\"/>\n",
              "    <path d=\"M18.56 5.44l.94 2.06.94-2.06 2.06-.94-2.06-.94-.94-2.06-.94 2.06-2.06.94zm-11 1L8.5 8.5l.94-2.06 2.06-.94-2.06-.94L8.5 2.5l-.94 2.06-2.06.94zm10 10l.94 2.06.94-2.06 2.06-.94-2.06-.94-.94-2.06-.94 2.06-2.06.94z\"/><path d=\"M17.41 7.96l-1.37-1.37c-.4-.4-.92-.59-1.43-.59-.52 0-1.04.2-1.43.59L10.3 9.45l-7.72 7.72c-.78.78-.78 2.05 0 2.83L4 21.41c.39.39.9.59 1.41.59.51 0 1.02-.2 1.41-.59l7.78-7.78 2.81-2.81c.8-.78.8-2.07 0-2.86zM5.41 20L4 18.59l7.72-7.72 1.47 1.35L5.41 20z\"/>\n",
              "  </svg>\n",
              "      </button>\n",
              "      \n",
              "  <style>\n",
              "    .colab-df-container {\n",
              "      display:flex;\n",
              "      flex-wrap:wrap;\n",
              "      gap: 12px;\n",
              "    }\n",
              "\n",
              "    .colab-df-convert {\n",
              "      background-color: #E8F0FE;\n",
              "      border: none;\n",
              "      border-radius: 50%;\n",
              "      cursor: pointer;\n",
              "      display: none;\n",
              "      fill: #1967D2;\n",
              "      height: 32px;\n",
              "      padding: 0 0 0 0;\n",
              "      width: 32px;\n",
              "    }\n",
              "\n",
              "    .colab-df-convert:hover {\n",
              "      background-color: #E2EBFA;\n",
              "      box-shadow: 0px 1px 2px rgba(60, 64, 67, 0.3), 0px 1px 3px 1px rgba(60, 64, 67, 0.15);\n",
              "      fill: #174EA6;\n",
              "    }\n",
              "\n",
              "    [theme=dark] .colab-df-convert {\n",
              "      background-color: #3B4455;\n",
              "      fill: #D2E3FC;\n",
              "    }\n",
              "\n",
              "    [theme=dark] .colab-df-convert:hover {\n",
              "      background-color: #434B5C;\n",
              "      box-shadow: 0px 1px 3px 1px rgba(0, 0, 0, 0.15);\n",
              "      filter: drop-shadow(0px 1px 2px rgba(0, 0, 0, 0.3));\n",
              "      fill: #FFFFFF;\n",
              "    }\n",
              "  </style>\n",
              "\n",
              "      <script>\n",
              "        const buttonEl =\n",
              "          document.querySelector('#df-07a29fe5-8ce8-4b46-a456-938170b53ddd button.colab-df-convert');\n",
              "        buttonEl.style.display =\n",
              "          google.colab.kernel.accessAllowed ? 'block' : 'none';\n",
              "\n",
              "        async function convertToInteractive(key) {\n",
              "          const element = document.querySelector('#df-07a29fe5-8ce8-4b46-a456-938170b53ddd');\n",
              "          const dataTable =\n",
              "            await google.colab.kernel.invokeFunction('convertToInteractive',\n",
              "                                                     [key], {});\n",
              "          if (!dataTable) return;\n",
              "\n",
              "          const docLinkHtml = 'Like what you see? Visit the ' +\n",
              "            '<a target=\"_blank\" href=https://colab.research.google.com/notebooks/data_table.ipynb>data table notebook</a>'\n",
              "            + ' to learn more about interactive tables.';\n",
              "          element.innerHTML = '';\n",
              "          dataTable['output_type'] = 'display_data';\n",
              "          await google.colab.output.renderOutput(dataTable, element);\n",
              "          const docLink = document.createElement('div');\n",
              "          docLink.innerHTML = docLinkHtml;\n",
              "          element.appendChild(docLink);\n",
              "        }\n",
              "      </script>\n",
              "    </div>\n",
              "  </div>\n",
              "  "
            ]
          },
          "metadata": {},
          "execution_count": 36
        }
      ]
    },
    {
      "cell_type": "code",
      "source": [
        "# make df only for sid_nrlikes and sid_nrcomments\n",
        "df_likes = df_cleaned[df_cleaned.sid_profile == 531404]\n",
        "df_comments = df_cleaned[df_cleaned.sid_profile == 468168]"
      ],
      "metadata": {
        "id": "wLnzVv-cl8ID"
      },
      "execution_count": null,
      "outputs": []
    },
    {
      "cell_type": "code",
      "source": [
        "df_comments"
      ],
      "metadata": {
        "colab": {
          "base_uri": "https://localhost:8080/",
          "height": 81
        },
        "id": "KtSUcCCCAZ1Q",
        "outputId": "bfc39590-0f16-4855-cd08-68b351af3700"
      },
      "execution_count": null,
      "outputs": [
        {
          "output_type": "execute_result",
          "data": {
            "text/plain": [
              "         sid_profile                 cts  numbr_likes  number_comments  \\\n",
              "6220011       468168 2019-02-15 03:18:33    2224495.0         170836.0   \n",
              "\n",
              "                Time_diff  \n",
              "6220011 151 days 02:58:28  "
            ],
            "text/html": [
              "\n",
              "  <div id=\"df-975ebdb0-44b4-43c6-9c70-83d270a10ac2\">\n",
              "    <div class=\"colab-df-container\">\n",
              "      <div>\n",
              "<style scoped>\n",
              "    .dataframe tbody tr th:only-of-type {\n",
              "        vertical-align: middle;\n",
              "    }\n",
              "\n",
              "    .dataframe tbody tr th {\n",
              "        vertical-align: top;\n",
              "    }\n",
              "\n",
              "    .dataframe thead th {\n",
              "        text-align: right;\n",
              "    }\n",
              "</style>\n",
              "<table border=\"1\" class=\"dataframe\">\n",
              "  <thead>\n",
              "    <tr style=\"text-align: right;\">\n",
              "      <th></th>\n",
              "      <th>sid_profile</th>\n",
              "      <th>cts</th>\n",
              "      <th>numbr_likes</th>\n",
              "      <th>number_comments</th>\n",
              "      <th>Time_diff</th>\n",
              "    </tr>\n",
              "  </thead>\n",
              "  <tbody>\n",
              "    <tr>\n",
              "      <th>6220011</th>\n",
              "      <td>468168</td>\n",
              "      <td>2019-02-15 03:18:33</td>\n",
              "      <td>2224495.0</td>\n",
              "      <td>170836.0</td>\n",
              "      <td>151 days 02:58:28</td>\n",
              "    </tr>\n",
              "  </tbody>\n",
              "</table>\n",
              "</div>\n",
              "      <button class=\"colab-df-convert\" onclick=\"convertToInteractive('df-975ebdb0-44b4-43c6-9c70-83d270a10ac2')\"\n",
              "              title=\"Convert this dataframe to an interactive table.\"\n",
              "              style=\"display:none;\">\n",
              "        \n",
              "  <svg xmlns=\"http://www.w3.org/2000/svg\" height=\"24px\"viewBox=\"0 0 24 24\"\n",
              "       width=\"24px\">\n",
              "    <path d=\"M0 0h24v24H0V0z\" fill=\"none\"/>\n",
              "    <path d=\"M18.56 5.44l.94 2.06.94-2.06 2.06-.94-2.06-.94-.94-2.06-.94 2.06-2.06.94zm-11 1L8.5 8.5l.94-2.06 2.06-.94-2.06-.94L8.5 2.5l-.94 2.06-2.06.94zm10 10l.94 2.06.94-2.06 2.06-.94-2.06-.94-.94-2.06-.94 2.06-2.06.94z\"/><path d=\"M17.41 7.96l-1.37-1.37c-.4-.4-.92-.59-1.43-.59-.52 0-1.04.2-1.43.59L10.3 9.45l-7.72 7.72c-.78.78-.78 2.05 0 2.83L4 21.41c.39.39.9.59 1.41.59.51 0 1.02-.2 1.41-.59l7.78-7.78 2.81-2.81c.8-.78.8-2.07 0-2.86zM5.41 20L4 18.59l7.72-7.72 1.47 1.35L5.41 20z\"/>\n",
              "  </svg>\n",
              "      </button>\n",
              "      \n",
              "  <style>\n",
              "    .colab-df-container {\n",
              "      display:flex;\n",
              "      flex-wrap:wrap;\n",
              "      gap: 12px;\n",
              "    }\n",
              "\n",
              "    .colab-df-convert {\n",
              "      background-color: #E8F0FE;\n",
              "      border: none;\n",
              "      border-radius: 50%;\n",
              "      cursor: pointer;\n",
              "      display: none;\n",
              "      fill: #1967D2;\n",
              "      height: 32px;\n",
              "      padding: 0 0 0 0;\n",
              "      width: 32px;\n",
              "    }\n",
              "\n",
              "    .colab-df-convert:hover {\n",
              "      background-color: #E2EBFA;\n",
              "      box-shadow: 0px 1px 2px rgba(60, 64, 67, 0.3), 0px 1px 3px 1px rgba(60, 64, 67, 0.15);\n",
              "      fill: #174EA6;\n",
              "    }\n",
              "\n",
              "    [theme=dark] .colab-df-convert {\n",
              "      background-color: #3B4455;\n",
              "      fill: #D2E3FC;\n",
              "    }\n",
              "\n",
              "    [theme=dark] .colab-df-convert:hover {\n",
              "      background-color: #434B5C;\n",
              "      box-shadow: 0px 1px 3px 1px rgba(0, 0, 0, 0.15);\n",
              "      filter: drop-shadow(0px 1px 2px rgba(0, 0, 0, 0.3));\n",
              "      fill: #FFFFFF;\n",
              "    }\n",
              "  </style>\n",
              "\n",
              "      <script>\n",
              "        const buttonEl =\n",
              "          document.querySelector('#df-975ebdb0-44b4-43c6-9c70-83d270a10ac2 button.colab-df-convert');\n",
              "        buttonEl.style.display =\n",
              "          google.colab.kernel.accessAllowed ? 'block' : 'none';\n",
              "\n",
              "        async function convertToInteractive(key) {\n",
              "          const element = document.querySelector('#df-975ebdb0-44b4-43c6-9c70-83d270a10ac2');\n",
              "          const dataTable =\n",
              "            await google.colab.kernel.invokeFunction('convertToInteractive',\n",
              "                                                     [key], {});\n",
              "          if (!dataTable) return;\n",
              "\n",
              "          const docLinkHtml = 'Like what you see? Visit the ' +\n",
              "            '<a target=\"_blank\" href=https://colab.research.google.com/notebooks/data_table.ipynb>data table notebook</a>'\n",
              "            + ' to learn more about interactive tables.';\n",
              "          element.innerHTML = '';\n",
              "          dataTable['output_type'] = 'display_data';\n",
              "          await google.colab.output.renderOutput(dataTable, element);\n",
              "          const docLink = document.createElement('div');\n",
              "          docLink.innerHTML = docLinkHtml;\n",
              "          element.appendChild(docLink);\n",
              "        }\n",
              "      </script>\n",
              "    </div>\n",
              "  </div>\n",
              "  "
            ]
          },
          "metadata": {},
          "execution_count": 40
        }
      ]
    },
    {
      "cell_type": "code",
      "source": [
        "# plot the difference in times for profile with the highest number of likes and highest number of comments\n",
        "#define subplot layout\n",
        "fig, axes = plt.subplots(nrows=1, ncols=2, figsize=(6, 10))\n",
        "\n",
        "# plot the highest 150 number of posts\n",
        "ax1 = df_likes.iloc[0:150].plot( y='Time_diff', ax=axes[0])\n",
        "ax1.get_xaxis().set_visible(False)\n",
        "ax1.title.set_text('150 highest number of posts')\n",
        "\n",
        "# plot the lowest 150 number of posts\n",
        "ax2 = df_comments.iloc[-150:].plot(y='Time_diff', ax=axes[1])\n",
        "ax2.get_xaxis().set_visible(False)\n",
        "ax2.title.set_text('150 lowest number of posts')\n"
      ],
      "metadata": {
        "colab": {
          "base_uri": "https://localhost:8080/",
          "height": 594
        },
        "id": "hB7qPDZ1mTcz",
        "outputId": "ef5a8541-6fb9-4add-f736-53f6e588954e"
      },
      "execution_count": null,
      "outputs": [
        {
          "output_type": "display_data",
          "data": {
            "text/plain": [
              "<Figure size 432x720 with 2 Axes>"
            ],
            "image/png": "[encoded data removed]"
          },
          "metadata": {
            "needs_background": "light"
          }
        }
      ]
    },
    {
      "cell_type": "markdown",
      "source": [
        "### Research question 7: calculating probabilities"
      ],
      "metadata": {
        "id": "ub42grWEfCgk"
      }
    },
    {
      "cell_type": "markdown",
      "source": [
        "##### **What's the probability that a post receives more than 20% \"likes\" of the number of followers a user has?**\n",
        "The probability is approximately 6%."
      ],
      "metadata": {
        "id": "AdWp399bfKO6"
      }
    },
    {
      "cell_type": "code",
      "source": [
        "# first half of set\n",
        "df_small_posts1 = pd.read_csv('instagram_posts.csv', delimiter=\"\\t\", usecols = ['profile_id','numbr_likes'], low_memory = True, nrows = 8500000)\n",
        "df_small_profiles = pd.read_csv('instagram_profiles.csv', delimiter=\"\\t\", usecols = ['profile_id','followers'], low_memory = True)"
      ],
      "metadata": {
        "id": "lLaOYzLTfQDT"
      },
      "execution_count": null,
      "outputs": []
    },
    {
      "cell_type": "code",
      "source": [
        "# combine the posts and followers into one dataframe\n",
        "df_combined_small = pd.merge(df_small_posts1, df_small_profiles, on=\"profile_id\", how=\"left\")\n",
        "\n",
        "# remove any nans\n",
        "df_combined_small = df_combined_small.dropna( how='any')\n"
      ],
      "metadata": {
        "id": "yWXk1tom9rG3"
      },
      "execution_count": null,
      "outputs": []
    },
    {
      "cell_type": "code",
      "source": [
        "# add extra column (nrlikes/ followers)\n",
        "df_combined_small[\"perc_likes\"] = (df_combined_small[\"numbr_likes\"] / df_combined_small[\"followers\"])*100"
      ],
      "metadata": {
        "id": "YcbW72hpEHAM"
      },
      "execution_count": null,
      "outputs": []
    },
    {
      "cell_type": "code",
      "source": [
        "# see how many posts have more than 20% of the number of followers\n",
        "count = df_combined_small[\"perc_likes\"][df_combined_small[\"perc_likes\"] > 20].count()\n",
        "\n",
        "# determine probability\n",
        "print('The probability that a post receives more than 20% likes of the number of followers is', (count/len(df_combined_small))*100,'%')"
      ],
      "metadata": {
        "colab": {
          "base_uri": "https://localhost:8080/"
        },
        "id": "Pgz7qYCxEKGd",
        "outputId": "0ec69e61-dcc9-463b-f9d2-1f53cec6ab69"
      },
      "execution_count": null,
      "outputs": [
        {
          "output_type": "stream",
          "name": "stdout",
          "text": [
            "The probability that a post receives more than 20% likes of the number of followers is 6.308404401687083 %\n"
          ]
        }
      ]
    },
    {
      "cell_type": "markdown",
      "source": [
        "##### **Do users usually return to locations? Extract the probability that a user returns to a site after having posted it in the past. Does that probability make sense to you? Explain why or why not.**\n",
        "A user returns to a site when the location is tagged more than once. To determine the probability that a user will return to a previous location, we will first group the posts on the user and on the location and count how many times a certain user has visited a location. Since the change of returning will be different for every user, we will determine an average probability of return with a 95% confidence interval. This is done by looping through the list of users and their locations and determining the probability of return per user.\n",
        "\n",
        "This results in a probability of return of 24.63 % with a 95% confidence interval of 24.6% - 24.67%.\n",
        "In our opinion this makes sense, since a lot of the accounts are non-business accounts. These are people that want to show what they are doing and were they are going, especially if they are going to new places. We did expect to have a bigger confidence interval for the locations, since there are both business and non-business account. However, there are so many accounts that the confidence interval will be lower. "
      ],
      "metadata": {
        "id": "4uGUn5urfNAH"
      }
    },
    {
      "cell_type": "code",
      "source": [
        "# load in data\n",
        "df_posts_small = pd.read_csv('instagram_posts.csv', delimiter=\"\\t\", usecols = ['sid_profile','location_id'], low_memory = True)\n"
      ],
      "metadata": {
        "id": "uj6IsVoy3q8n"
      },
      "execution_count": null,
      "outputs": []
    },
    {
      "cell_type": "code",
      "source": [
        "# group by the profile id and the location id to see how many users go to what location\n",
        "df_sorted = df_posts_small.groupby(['sid_profile', 'location_id']).size().reset_index(name='count') "
      ],
      "metadata": {
        "colab": {
          "base_uri": "https://localhost:8080/",
          "height": 424
        },
        "id": "RxbbqxfmiGJd",
        "outputId": "bdd795aa-2b80-4a27-c4dd-6239812a4c40"
      },
      "execution_count": null,
      "outputs": [
        {
          "output_type": "execute_result",
          "data": {
            "text/plain": [
              "          sid_profile   location_id  count\n",
              "0                  -1  1.000000e+01     28\n",
              "1                  -1  4.600000e+01     29\n",
              "2                  -1  5.400000e+01     26\n",
              "3                  -1  9.000000e+01     29\n",
              "4                  -1  1.200000e+02     27\n",
              "...               ...           ...    ...\n",
              "10335980      4510784  5.830319e+08     22\n",
              "10335981      4510785  2.283802e+08      2\n",
              "10335982      4510785  5.830319e+08      1\n",
              "10335983      4510785  1.780794e+14      2\n",
              "10335984      4510785  9.386501e+14      1\n",
              "\n",
              "[10335985 rows x 3 columns]"
            ],
            "text/html": [
              "\n",
              "  <div id=\"df-976ae676-9a6c-4aef-94e9-7373778cfe2a\">\n",
              "    <div class=\"colab-df-container\">\n",
              "      <div>\n",
              "<style scoped>\n",
              "    .dataframe tbody tr th:only-of-type {\n",
              "        vertical-align: middle;\n",
              "    }\n",
              "\n",
              "    .dataframe tbody tr th {\n",
              "        vertical-align: top;\n",
              "    }\n",
              "\n",
              "    .dataframe thead th {\n",
              "        text-align: right;\n",
              "    }\n",
              "</style>\n",
              "<table border=\"1\" class=\"dataframe\">\n",
              "  <thead>\n",
              "    <tr style=\"text-align: right;\">\n",
              "      <th></th>\n",
              "      <th>sid_profile</th>\n",
              "      <th>location_id</th>\n",
              "      <th>count</th>\n",
              "    </tr>\n",
              "  </thead>\n",
              "  <tbody>\n",
              "    <tr>\n",
              "      <th>0</th>\n",
              "      <td>-1</td>\n",
              "      <td>1.000000e+01</td>\n",
              "      <td>28</td>\n",
              "    </tr>\n",
              "    <tr>\n",
              "      <th>1</th>\n",
              "      <td>-1</td>\n",
              "      <td>4.600000e+01</td>\n",
              "      <td>29</td>\n",
              "    </tr>\n",
              "    <tr>\n",
              "      <th>2</th>\n",
              "      <td>-1</td>\n",
              "      <td>5.400000e+01</td>\n",
              "      <td>26</td>\n",
              "    </tr>\n",
              "    <tr>\n",
              "      <th>3</th>\n",
              "      <td>-1</td>\n",
              "      <td>9.000000e+01</td>\n",
              "      <td>29</td>\n",
              "    </tr>\n",
              "    <tr>\n",
              "      <th>4</th>\n",
              "      <td>-1</td>\n",
              "      <td>1.200000e+02</td>\n",
              "      <td>27</td>\n",
              "    </tr>\n",
              "    <tr>\n",
              "      <th>...</th>\n",
              "      <td>...</td>\n",
              "      <td>...</td>\n",
              "      <td>...</td>\n",
              "    </tr>\n",
              "    <tr>\n",
              "      <th>10335980</th>\n",
              "      <td>4510784</td>\n",
              "      <td>5.830319e+08</td>\n",
              "      <td>22</td>\n",
              "    </tr>\n",
              "    <tr>\n",
              "      <th>10335981</th>\n",
              "      <td>4510785</td>\n",
              "      <td>2.283802e+08</td>\n",
              "      <td>2</td>\n",
              "    </tr>\n",
              "    <tr>\n",
              "      <th>10335982</th>\n",
              "      <td>4510785</td>\n",
              "      <td>5.830319e+08</td>\n",
              "      <td>1</td>\n",
              "    </tr>\n",
              "    <tr>\n",
              "      <th>10335983</th>\n",
              "      <td>4510785</td>\n",
              "      <td>1.780794e+14</td>\n",
              "      <td>2</td>\n",
              "    </tr>\n",
              "    <tr>\n",
              "      <th>10335984</th>\n",
              "      <td>4510785</td>\n",
              "      <td>9.386501e+14</td>\n",
              "      <td>1</td>\n",
              "    </tr>\n",
              "  </tbody>\n",
              "</table>\n",
              "<p>10335985 rows × 3 columns</p>\n",
              "</div>\n",
              "      <button class=\"colab-df-convert\" onclick=\"convertToInteractive('df-976ae676-9a6c-4aef-94e9-7373778cfe2a')\"\n",
              "              title=\"Convert this dataframe to an interactive table.\"\n",
              "              style=\"display:none;\">\n",
              "        \n",
              "  <svg xmlns=\"http://www.w3.org/2000/svg\" height=\"24px\"viewBox=\"0 0 24 24\"\n",
              "       width=\"24px\">\n",
              "    <path d=\"M0 0h24v24H0V0z\" fill=\"none\"/>\n",
              "    <path d=\"M18.56 5.44l.94 2.06.94-2.06 2.06-.94-2.06-.94-.94-2.06-.94 2.06-2.06.94zm-11 1L8.5 8.5l.94-2.06 2.06-.94-2.06-.94L8.5 2.5l-.94 2.06-2.06.94zm10 10l.94 2.06.94-2.06 2.06-.94-2.06-.94-.94-2.06-.94 2.06-2.06.94z\"/><path d=\"M17.41 7.96l-1.37-1.37c-.4-.4-.92-.59-1.43-.59-.52 0-1.04.2-1.43.59L10.3 9.45l-7.72 7.72c-.78.78-.78 2.05 0 2.83L4 21.41c.39.39.9.59 1.41.59.51 0 1.02-.2 1.41-.59l7.78-7.78 2.81-2.81c.8-.78.8-2.07 0-2.86zM5.41 20L4 18.59l7.72-7.72 1.47 1.35L5.41 20z\"/>\n",
              "  </svg>\n",
              "      </button>\n",
              "      \n",
              "  <style>\n",
              "    .colab-df-container {\n",
              "      display:flex;\n",
              "      flex-wrap:wrap;\n",
              "      gap: 12px;\n",
              "    }\n",
              "\n",
              "    .colab-df-convert {\n",
              "      background-color: #E8F0FE;\n",
              "      border: none;\n",
              "      border-radius: 50%;\n",
              "      cursor: pointer;\n",
              "      display: none;\n",
              "      fill: #1967D2;\n",
              "      height: 32px;\n",
              "      padding: 0 0 0 0;\n",
              "      width: 32px;\n",
              "    }\n",
              "\n",
              "    .colab-df-convert:hover {\n",
              "      background-color: #E2EBFA;\n",
              "      box-shadow: 0px 1px 2px rgba(60, 64, 67, 0.3), 0px 1px 3px 1px rgba(60, 64, 67, 0.15);\n",
              "      fill: #174EA6;\n",
              "    }\n",
              "\n",
              "    [theme=dark] .colab-df-convert {\n",
              "      background-color: #3B4455;\n",
              "      fill: #D2E3FC;\n",
              "    }\n",
              "\n",
              "    [theme=dark] .colab-df-convert:hover {\n",
              "      background-color: #434B5C;\n",
              "      box-shadow: 0px 1px 3px 1px rgba(0, 0, 0, 0.15);\n",
              "      filter: drop-shadow(0px 1px 2px rgba(0, 0, 0, 0.3));\n",
              "      fill: #FFFFFF;\n",
              "    }\n",
              "  </style>\n",
              "\n",
              "      <script>\n",
              "        const buttonEl =\n",
              "          document.querySelector('#df-976ae676-9a6c-4aef-94e9-7373778cfe2a button.colab-df-convert');\n",
              "        buttonEl.style.display =\n",
              "          google.colab.kernel.accessAllowed ? 'block' : 'none';\n",
              "\n",
              "        async function convertToInteractive(key) {\n",
              "          const element = document.querySelector('#df-976ae676-9a6c-4aef-94e9-7373778cfe2a');\n",
              "          const dataTable =\n",
              "            await google.colab.kernel.invokeFunction('convertToInteractive',\n",
              "                                                     [key], {});\n",
              "          if (!dataTable) return;\n",
              "\n",
              "          const docLinkHtml = 'Like what you see? Visit the ' +\n",
              "            '<a target=\"_blank\" href=https://colab.research.google.com/notebooks/data_table.ipynb>data table notebook</a>'\n",
              "            + ' to learn more about interactive tables.';\n",
              "          element.innerHTML = '';\n",
              "          dataTable['output_type'] = 'display_data';\n",
              "          await google.colab.output.renderOutput(dataTable, element);\n",
              "          const docLink = document.createElement('div');\n",
              "          docLink.innerHTML = docLinkHtml;\n",
              "          element.appendChild(docLink);\n",
              "        }\n",
              "      </script>\n",
              "    </div>\n",
              "  </div>\n",
              "  "
            ]
          },
          "metadata": {},
          "execution_count": 52
        }
      ]
    },
    {
      "cell_type": "code",
      "source": [
        "# make a new df to save the percentage of returning per user\n",
        "df_prob = pd.DataFrame(columns = ['sid_profile', 'Probability'])\n",
        "\n",
        "# initialize counter\n",
        "counter = 0\n",
        "lencounter = 0\n",
        "# determine the probability that someone will return to a location for every user separately\n",
        "for i in range(len(df_sorted)):\n",
        "\n",
        "  if i == 0:\n",
        "    counter += df_sorted['count'][i]\n",
        "    lencounter += 1\n",
        "  elif df_sorted['sid_profile'][i] == df_sorted['sid_profile'][i-1]:\n",
        "    counter += df_sorted['count'][i]\n",
        "    lencounter += 1\n",
        "  # looped through one profile\n",
        "  else:\n",
        "    df_prob = df_prob.append({'sid_profile' : df_sorted['sid_profile'][i-1], 'Probability' : (1-(lencounter/counter))},ignore_index = True)\n",
        "    # initialize counter and lencounter again\n",
        "    counter = df_sorted['count'][i]\n",
        "    lencounter = 1"
      ],
      "metadata": {
        "id": "lidle6PrN5-P"
      },
      "execution_count": null,
      "outputs": []
    },
    {
      "cell_type": "code",
      "source": [
        "# calculate mean and standard deviation\n",
        "mean = df_prob['Probability'].mean()\n",
        "sd = df_prob['Probability'].std()\n",
        "n = len(df_prob)\n",
        "# Z value for 95% confidence interval\n",
        "Zstar=1.65\n",
        "\n",
        "# Determine lower and upper bound\n",
        "se = sd/np.sqrt(n)\n",
        "lcb = (mean - Zstar * se)*100\n",
        "ucb = (mean + Zstar * se)*100\n",
        "\n",
        "# Print mean and CI\n",
        "print('The probability that a user returns to a site is', mean*100,'%')\n",
        "print(\" with CI (95%):\", (round(lcb,2),round(ucb,2)))\n"
      ],
      "metadata": {
        "id": "LGsH5m3aeNLe",
        "colab": {
          "base_uri": "https://localhost:8080/"
        },
        "outputId": "87e86ef1-914c-4f55-a5bd-eb26962a62e6"
      },
      "execution_count": null,
      "outputs": [
        {
          "output_type": "stream",
          "name": "stdout",
          "text": [
            "The probability that a user returns to a site is 24.631076010598125 %\n",
            " with CI (95%): (24.6, 24.67)\n"
          ]
        }
      ]
    },
    {
      "cell_type": "markdown",
      "source": [
        "### Research question 8: reinforcement with charts, statistical tests and analysis methods"
      ],
      "metadata": {
        "id": "e1pdMSEmjLrq"
      }
    },
    {
      "cell_type": "markdown",
      "source": [
        "##### **Does more “likes” also mean more comments? Plot a scatter plot of “likes” vs comments for posts.**\n",
        "Based on the scatter plot, it does not look like that more comments also mean more likes. To be sure that there is no strong correlation, we also determined the correlation number. This number is 0.41, which is considered moderate and not strong."
      ],
      "metadata": {
        "id": "CaoeSg-Ojb9q"
      }
    },
    {
      "cell_type": "code",
      "source": [
        "ax = df_posts.plot.scatter('numbr_likes', 'number_comments')\n",
        "ax.set_title(\"Number of likes vs number of comments\")\n"
      ],
      "metadata": {
        "colab": {
          "base_uri": "https://localhost:8080/",
          "height": 298
        },
        "id": "efK34HGUjejl",
        "outputId": "82ed5bc7-edfa-482c-b72a-9d09c3786b6e"
      },
      "execution_count": null,
      "outputs": [
        {
          "output_type": "execute_result",
          "data": {
            "text/plain": [
              "<matplotlib.axes._subplots.AxesSubplot at 0x7ff33afaa0d0>"
            ]
          },
          "metadata": {},
          "execution_count": 13
        },
        {
          "output_type": "display_data",
          "data": {
            "text/plain": [
              "<Figure size 432x288 with 1 Axes>"
            ],
            "image/png": "[encoded data removed]"
          },
          "metadata": {
            "needs_background": "light"
          }
        }
      ]
    },
    {
      "cell_type": "code",
      "source": [
        "corr = df_posts['numbr_likes'].corr(df_posts[\"number_comments\"])\n",
        "print(\"Correlation between the number of likes and the number of comments is: \", round(corr, 2))"
      ],
      "metadata": {
        "colab": {
          "base_uri": "https://localhost:8080/"
        },
        "id": "mQkL77XQlCri",
        "outputId": "e62ffdfa-de50-4423-91c8-add9ff65f8ff"
      },
      "execution_count": null,
      "outputs": [
        {
          "output_type": "stream",
          "name": "stdout",
          "text": [
            "Correlation between the number of likes and the number of comments is:  0.41\n"
          ]
        }
      ]
    },
    {
      "cell_type": "markdown",
      "source": [
        "##### **Can you find any significant relationship between the time a user publishes a post and the number of comments and “likes”? Use an appropriate statistical test or technique and support your choice.**\n",
        "\n",
        "To define if there is any significant relationship between two or more parameters, we will look at the correlation between parameters, which looks for a linear relationship between two parameters. We interpret the correlation as follows:\n",
        "\n",
        "Complete correlation between two variables is a value of either + 1 or -1. Complete absence of correlation is represented by a value of 0. A moderate correlation is a correlation between 0.4-0.7. A higher correlation is a strong correlation.\n",
        "\n",
        "First, we will convert the given dates to the hour in which a post is posted, since the changes are very slim that multiple posts are posted in the same minute. \n",
        "Next we will make a heatplot based on the correlation to see if there is any correlation between the parameters.\n",
        "\n",
        "\n",
        "As we can see from the heatmap, there is no correlation between the number of likes and the hour in which a post is posted (0.0018), and there is also no correlation between the number of comments and the hour in which a post is posted (0.0011).\n",
        "\n",
        "\n"
      ],
      "metadata": {
        "id": "OMwKx_MYlh8U"
      }
    },
    {
      "cell_type": "code",
      "source": [
        "# make a dataframe with only the needed columns\n",
        "posts_corr = df_posts[[\"cts\", \"numbr_likes\", \"number_comments\"]]\n",
        "\n",
        "#Takes only the date_time column and extrapolate only hours \n",
        "posts_corr['cts'] = pd.to_datetime(posts_corr['cts'], unit='ns').dt.hour\n",
        "\n",
        "sns.heatmap(posts_corr.corr(), annot = True)\n",
        "plt.show()\n"
      ],
      "metadata": {
        "colab": {
          "base_uri": "https://localhost:8080/",
          "height": 394
        },
        "id": "NY6mtP4Slktr",
        "outputId": "ada30bfd-2ad5-4616-9e4e-d4b48e3a936c"
      },
      "execution_count": null,
      "outputs": [
        {
          "output_type": "stream",
          "name": "stderr",
          "text": [
            "/usr/local/lib/python3.7/dist-packages/ipykernel_launcher.py:5: SettingWithCopyWarning: \n",
            "A value is trying to be set on a copy of a slice from a DataFrame.\n",
            "Try using .loc[row_indexer,col_indexer] = value instead\n",
            "\n",
            "See the caveats in the documentation: https://pandas.pydata.org/pandas-docs/stable/user_guide/indexing.html#returning-a-view-versus-a-copy\n",
            "  \"\"\"\n"
          ]
        },
        {
          "output_type": "display_data",
          "data": {
            "text/plain": [
              "<Figure size 432x288 with 2 Axes>"
            ],
            "image/png": "[encoded data removed]"
          },
          "metadata": {
            "needs_background": "light"
          }
        }
      ]
    },
    {
      "cell_type": "markdown",
      "source": [
        "##### **What’s the distribution of followers? Plot the empirical distribution of followers amongst all users and extract the mean, mode, and quantiles. Interpret those figures.**\n",
        "\n",
        "First, we removed the rows that do not have any information regarding the number of followers. Second, we removed any outliers so we can plot the distribution. As can be seen in the plot, most of the users fall in the same bin, namely the first bin, that goes from 0 to approximately 300. \n",
        "\n",
        "If we look at the mean, we see that this falls in the first bin, which also explains why the first bin is so big. Even if we make the number of bins higher, we still see this phenomenon (unless you would make it really high, but this is not the idea of a histogram). If we look at the mode, we see a mode of 50, which is also really low and explains the same phenomenon. The reason why the mean is way higher than the mode, can be explained by the fact that there are some users with a large number of followers. You also see this back in the quantiles."
      ],
      "metadata": {
        "id": "z5n8PC6bmGi0"
      }
    },
    {
      "cell_type": "code",
      "source": [
        "from scipy import stats\n",
        "\n",
        "# remove the rows with nan in followers\n",
        "df_profiles_nfollowers = df_profiles.dropna( how='any',\n",
        "                    subset=['followers'])\n",
        "\n",
        "# remove outliers\n",
        "q_low = df_profiles_nfollowers[\"followers\"].quantile(0.01)\n",
        "q_hi  = df_profiles_nfollowers[\"followers\"].quantile(0.99)\n",
        "df_filtered = df_profiles_nfollowers[(df_profiles_nfollowers[\"followers\"] < q_hi) & (df_profiles_nfollowers[\"followers\"] > q_low)]\n",
        "\n",
        "df_filtered.hist(column='followers', bins=30, grid=False, figsize=(12,8), color='#86bf91', zorder=2, rwidth=0.9)\n",
        "\n",
        "print(\"mode:\", df_profiles_nfollowers['followers'].mode())\n",
        "df_profiles_nfollowers['followers'].describe()\n"
      ],
      "metadata": {
        "colab": {
          "base_uri": "https://localhost:8080/",
          "height": 690
        },
        "id": "qRpRxG0KmIDQ",
        "outputId": "0e1a6689-3224-4e8f-8907-977288e36beb"
      },
      "execution_count": null,
      "outputs": [
        {
          "output_type": "stream",
          "name": "stdout",
          "text": [
            "mode: 0    50.0\n",
            "dtype: float64\n"
          ]
        },
        {
          "output_type": "execute_result",
          "data": {
            "text/plain": [
              "count    3.380715e+06\n",
              "mean     1.333294e+03\n",
              "std      3.654137e+03\n",
              "min      3.000000e+00\n",
              "25%      1.630000e+02\n",
              "50%      4.060000e+02\n",
              "75%      9.560000e+02\n",
              "max      4.531600e+04\n",
              "Name: followers, dtype: float64"
            ]
          },
          "metadata": {},
          "execution_count": 43
        },
        {
          "output_type": "display_data",
          "data": {
            "text/plain": [
              "<Figure size 864x576 with 1 Axes>"
            ],
            "image/png": "[encoded data removed]"
          },
          "metadata": {
            "needs_background": "light"
          }
        }
      ]
    },
    {
      "cell_type": "markdown",
      "source": [
        "##### **What are histograms, bar plots, scatterplots and pie charts used for?**\n",
        "\n",
        "**Histograms:**\n",
        "A histogram shows the frequency of occurences of a parameter based on bins. You can use it for discrete or continuous data.\n",
        "\n",
        "**Bar plots:**\n",
        "A bar plot shows the relationship between numeric and categorical data. You can group different parameters together based on a certain category and show a comparison based on their values.\n",
        "\n",
        "**Scatter plots:**\n",
        "Scatter plots are used to show the relationship between two numerical/continuous parameters. The independent variable is plotted on the x-axis, while the dependenent variable is plotted on the y-axis. A scatter plot visualizes any correlation between the two parameters.\n",
        "\n",
        "**Pie charts:**\n",
        "A pie chart is used to show numerical proportions based on categories. Most of the time the percentage/ fraction of a proportion is displayed as well. "
      ],
      "metadata": {
        "id": "CvTlzYiMtoxi"
      }
    },
    {
      "cell_type": "markdown",
      "source": [
        "##### **What insights can you extract from a Box Plot?**\n",
        "\n",
        "With a boxplot, the variation of a certain parameter is visualised. a boxplot typically shows five main characteristics of the data:\n",
        "\n",
        "*   The minimum\n",
        "*   The maximum\n",
        "*   The lower quartile\n",
        "*   The upper quartile\n",
        "*   The median\n",
        "\n",
        "Sometimes it also displayes any outliers. Between the lower and upper quartile, the inter quartile range (IQR) is visible. \n",
        "Furthermore, the position of the median in the IQR also tells a lot about the skewness of the data. If the median is in the middle of the IQR, the data is symmetric. Otherwise, it is either left or right skewed. \n",
        "\n"
      ],
      "metadata": {
        "id": "6TS-1Ey7tssq"
      }
    },
    {
      "cell_type": "markdown",
      "source": [
        "##**Algorithmic question**"
      ],
      "metadata": {
        "id": "y_iIqjacNRR2"
      }
    },
    {
      "cell_type": "markdown",
      "source": [
        "***Algorithmic Question 1***"
      ],
      "metadata": {
        "id": "UkkkVBtHSH5G"
      }
    },
    {
      "cell_type": "markdown",
      "source": [
        "###What is the output of this algorithm? Describe the mechanism of the algorithm in detail . We do not want to know only its final result."
      ],
      "metadata": {
        "id": "nO637-xkNigo"
      }
    },
    {
      "cell_type": "markdown",
      "source": [
        "The algorithm scrolls the sequence starting from the 0 position to the end.\n",
        "it fixes the 0 position and start to the 1 and so on, practically it starts from the end;\n",
        "Fixed the all sequence's position since the third last, it reverses the last two, and print the the entire sequence with the input order and the sequence with the two last position swapped.\n",
        "Now fixes all the positions since the fourth last, the third last position is swapped with the second last and do the same as before, but now it works with the last two values, that are the original third last and last.\n",
        "Therefore the algorithm is doing all the possible disposition given a sequence, for this reason there will be *len(sequence) factorial* steps."
      ],
      "metadata": {
        "id": "jm5sI8LFN4At"
      }
    },
    {
      "cell_type": "markdown",
      "source": [
        "###What is asymptotically (i.e., we are asking for big-O complexity) the algorithm's running time as a function of N?"
      ],
      "metadata": {
        "id": "UMEF8Hf3PuK5"
      }
    },
    {
      "cell_type": "markdown",
      "source": [
        "The algorithm doesn't care about the content of the sequence but only about its length, it is exactly a function of ***(N!)***"
      ],
      "metadata": {
        "id": "icQ-M7ZjP0dg"
      }
    },
    {
      "cell_type": "markdown",
      "source": [
        "###Is this algorithm the optimal one to produce this output? If not, can you suggest a better algorithm to perform the same task?"
      ],
      "metadata": {
        "id": "4L5S7uXIQb-z"
      }
    },
    {
      "cell_type": "markdown",
      "source": [
        "If I understand correctly the aim of the algorithm, which is to create a set of all the possible dispositions, it means that the length of the set is exactly ***N!*** so it can't be better."
      ],
      "metadata": {
        "id": "ZoGZD7xpQj7k"
      }
    },
    {
      "cell_type": "markdown",
      "source": [
        "###***Algorithmic question 2***"
      ],
      "metadata": {
        "id": "U3ac77I4SO6Q"
      }
    },
    {
      "cell_type": "markdown",
      "source": [
        "###Implement a recursive algorithm to help Alex find the maximum possible value after multiplying the length of the pieces. Explain your algorithm in detail."
      ],
      "metadata": {
        "id": "ZE3ZwlxQSV0N"
      }
    },
    {
      "cell_type": "code",
      "source": [
        "def tagliaN(N):\n",
        "    if  N <= 1 :                                            #  1\n",
        "        return 0                                            # <= 1 \n",
        "    elif N == 2:                                            #  1\n",
        "        return 1                                            # <= 1\n",
        "    elif N == 3:                                            #  1\n",
        "        return 2                                            # <= 1\n",
        "    else:                                                   #  1\n",
        "        mas=0                                               # 1\n",
        "        for n in range(2,N):                                # N-3\n",
        "            mas=  max(mas, max(n*(N-n), n*tagliaN(N-n) ) )  # <= (N-2)* T(N-2) \n",
        "                \n",
        "    return mas                                              # 1\n",
        "tagliaN(int(input()))"
      ],
      "metadata": {
        "colab": {
          "base_uri": "https://localhost:8080/"
        },
        "id": "gEKr1hmdSow6",
        "outputId": "8466ed2b-0be1-41e4-aec1-ec4c93caf6ee"
      },
      "execution_count": null,
      "outputs": [
        {
          "name": "stdout",
          "output_type": "stream",
          "text": [
            "10\n"
          ]
        },
        {
          "output_type": "execute_result",
          "data": {
            "text/plain": [
              "36"
            ]
          },
          "metadata": {},
          "execution_count": 10
        }
      ]
    },
    {
      "cell_type": "markdown",
      "source": [
        "###Show that the algorithm has exponential running time."
      ],
      "metadata": {
        "id": "NKM7SOHiS6-Y"
      }
    },
    {
      "cell_type": "markdown",
      "source": [
        "We can write the running time of this function in this way:\n",
        "\n",
        "\n",
        "$T(N)=\n",
        "\\begin{cases}\n",
        "C_1, & \\text{if $N=0,1,2,3$,} \\\\\n",
        "\\sum_{i=2}^{N-1}T(N-i), & \\text{Otherwise}\n",
        "\\end{cases}\n",
        "$\n",
        "\n",
        "$T(N)=\\sum_{i=2}^{N-1}T(N-i)=T(N-2)+T(N-3)+ ... +T(N-(N-1))=$\n",
        "$=T(N-2)+T(N-3)+ ... +T(1)$\n",
        "\n",
        "$=T(N-1)+T(N-2)+T(N-3)+ ... +T(1)-T(N-1)$\n",
        "\n",
        "If we look at the singol terms of the sum:\n",
        "\n",
        "$T(N-1)=T(N-2)+T(N-3)+ ... T(1)- T(N-2)$\n",
        "\n",
        "So we can write $T(N)$ as:\n",
        "\n",
        "$T(N)=T(N-1)+[T(N-1)+T(N-2)]-T(N-1) $\n",
        "\n",
        "$=T(N-1)+T(N-2)$\n",
        "\n",
        "$=T(N-2)+ 2T(N-3)+T(n-4)$\n",
        "\n",
        "$=T(N-3)+ 2^2T(N-4)+2T(n-5)$\n",
        "\n",
        "$=T(N-4)+ 2^3T(N-5)+2^2T(n-6)+ 2T(N-7)$\n",
        "\n",
        "$ ... $\n",
        "\n",
        "$=T(3)+2^{N-1}T(2)+2^{N-2}T(1)+2^{N-3}T(0)+O(1)$\n",
        "\n",
        "Where $T(0),T(1),T(2),T(3)$ are the base case so asymptotically to $O(1)$\n",
        "\n",
        "$T(N)=O(1)+2^{N-1}O(1)+2^{N-2}O(1)+2^{N-3}O(1)=O(2^{N-1})$"
      ],
      "metadata": {
        "id": "U3jobSQ6Tf1s"
      }
    },
    {
      "cell_type": "markdown",
      "source": [
        "###Now provide a polynomial solution, based on dynamic programming, and compute its running-time complexity."
      ],
      "metadata": {
        "id": "Qx5BHNtgTGoU"
      }
    },
    {
      "cell_type": "code",
      "source": [
        "def taglio_polinomial(N):\n",
        "    P = np.zeros(N+1)\n",
        "    for i in range(1,N+1):\n",
        "        mas = 0\n",
        "        for j in range(1, i):\n",
        "            mas = max(mas, (i-j)*j,  P[i-j]*j)\n",
        "            P[i] = mas\n",
        "    return int(P[N])\n",
        "taglio_polinomial(int(input()))"
      ],
      "metadata": {
        "colab": {
          "base_uri": "https://localhost:8080/"
        },
        "id": "NGwRh-BHT7Ey",
        "outputId": "edb62cc8-cc6c-42d6-8166-bcb6e02ba6eb"
      },
      "execution_count": null,
      "outputs": [
        {
          "name": "stdout",
          "output_type": "stream",
          "text": [
            "10\n"
          ]
        },
        {
          "output_type": "execute_result",
          "data": {
            "text/plain": [
              "36"
            ]
          },
          "metadata": {},
          "execution_count": 12
        }
      ]
    },
    {
      "cell_type": "markdown",
      "source": [
        "$T(N)=C_1 +\\sum_{i=1}^{N}\\sum_{j=1}^{i}C_2$\n",
        "\n",
        "$T(N)=O(1)+\\sum_{i=1}^{N}\\sum_{j=1}^{i}O(1)$\n",
        "\n",
        "$T(N)=O(1)+\\sum_{i=1}^{N}(i-0+1)O(1)$\n",
        "\n",
        "$T(N)=O(1)+\\sum_{i=1}^{N}(i+1)O(1)$\n",
        "\n",
        "$T(N)=O(1)+\\sum_{i=1}^{N}(i+1)O(1)$\n",
        "\n",
        "Since $1 \\leq i \\leq N$ we can consider $i+1=O(N)$ then:\n",
        "\n",
        "$T(N)=O(1)+\\sum_{i=1}^{N}O(N)O(1)$\n",
        "\n",
        "$=O(1)+\\sum_{i=1}^{N}O(N)$\n",
        "\n",
        "$T(N)= O(1)+ (N-1+1)O(N)$\n",
        "\n",
        "$T(N)= O(1)+ O(N)O(N)= O(N^2)$"
      ],
      "metadata": {
        "id": "yzin4pkFcVqh"
      }
    },
    {
      "cell_type": "markdown",
      "source": [
        "###Evaluate the running time of your algorithm for the sizes (Ns) in the range of [2, 25], plot the results, and interpret it (if you have implemented two algorithms, please include both in the plot and compare them)."
      ],
      "metadata": {
        "id": "CVrVzNgoTOUn"
      }
    },
    {
      "cell_type": "code",
      "source": [
        "import time\n",
        "start1 = time.time()\n",
        "for N in range(2,26):\n",
        "    tagliaN(N)\n",
        "end1 = time.time()\n",
        "delta_time1= end1 - start1\n",
        "print(f\"Execution time of the recursive function tagliaN() is: {round(delta_time1,5)*1000} milliseconds\")"
      ],
      "metadata": {
        "colab": {
          "base_uri": "https://localhost:8080/"
        },
        "id": "GVYZzsaNUyNJ",
        "outputId": "622c79f6-1556-4a61-9df8-b36d75977788"
      },
      "execution_count": null,
      "outputs": [
        {
          "output_type": "stream",
          "name": "stdout",
          "text": [
            "Execution time of the recursive function tagliaN() is: 90.47 milliseconds\n"
          ]
        }
      ]
    },
    {
      "cell_type": "code",
      "source": [
        "start2 = time.time()\n",
        "for N in range(2,26):\n",
        "    taglio_polinomial(N)\n",
        "end2 = time.time()\n",
        "delta_time2= end2 - start2\n",
        "print(f\"Execution time of the polinomial function taglio_polinomial() is: {round(delta_time2,5)*1000} milliseconds\")"
      ],
      "metadata": {
        "colab": {
          "base_uri": "https://localhost:8080/"
        },
        "id": "Bx3wPUpqU-fs",
        "outputId": "a5b42166-3244-4cd8-bfe3-401174f93d7c"
      },
      "execution_count": null,
      "outputs": [
        {
          "output_type": "stream",
          "name": "stdout",
          "text": [
            "Execution time of the polinomial function taglio_polinomial() is: 4.67 milliseconds\n"
          ]
        }
      ]
    },
    {
      "cell_type": "code",
      "source": [
        "import numpy as np\n",
        "from matplotlib import pyplot as plt\n",
        "\n",
        "r = range(2, 26)\n",
        "start_rec = time.time()\n",
        "dt_rec = []\n",
        "for N in r: \n",
        "    tagliaN(N)\n",
        "    dt_rec.append(time.time()-start_rec)\n",
        "plt.plot(r, dt_rec, color=\"blue\")\n",
        "\n",
        "start_pol = time.time()\n",
        "dt_pol = []\n",
        "for N in r: \n",
        "    taglio_polinomial(N)\n",
        "    dt_pol.append(time.time()-start_pol)\n",
        "plt.plot(r, dt_pol, color=\"orange\")"
      ],
      "metadata": {
        "colab": {
          "base_uri": "https://localhost:8080/",
          "height": 283
        },
        "id": "JiuSGa0pVNtj",
        "outputId": "01c3e9e9-4406-4e81-9e78-c8de83985e5f"
      },
      "execution_count": null,
      "outputs": [
        {
          "output_type": "execute_result",
          "data": {
            "text/plain": [
              "[<matplotlib.lines.Line2D at 0x7f69c1401490>]"
            ]
          },
          "metadata": {},
          "execution_count": 15
        },
        {
          "output_type": "display_data",
          "data": {
            "text/plain": [
              "<Figure size 432x288 with 1 Axes>"
            ],
            "image/png": "[encoded data removed]"
          },
          "metadata": {
            "needs_background": "light"
          }
        }
      ]
    },
    {
      "cell_type": "markdown",
      "source": [
        "###(Optional, mini bonus) Is the algorithm of question 3 optimal? If you belive it, can you prove it? If not, can you find a faster algorithm? In case you found a faster algorithm implement it and explain your algorithm in detail."
      ],
      "metadata": {
        "id": "m6Ceo_ufTSJU"
      }
    },
    {
      "cell_type": "markdown",
      "source": [
        "We implemented two different version of this algorithm:\n",
        "\n",
        "the idea of this algorithm is based on a lateral observation. Mainly the polinomyal version of the algorithm build a vector where for each index $i$ we have the solution for a ribbon with length $i$.\n",
        "So I decided to focus on studying that sequence of numbers. I decomposed each element of the sequence in a product of prime numbers, and I observed that every member is a product of $2^m$ and $3^n$ where $m \\in \\left \\{ 0,1,2 \\right\\}$ and $n$ is integer positive number and increase every 3 number.\n",
        "\n",
        "Therefore in the first version i build the same vector than the polynomial algorithm but in a easier way.\n",
        "After that I observed that I only need the last position of the vector and I write the exponents $m$, $n$ in a different way: $m$ is the remainder of the division of the index (the lenght of the ribbon) by three, and $n$ is the whole part of the same division."
      ],
      "metadata": {
        "id": "WMRRwT65XQwQ"
      }
    },
    {
      "cell_type": "code",
      "source": [
        "def cut(N):\n",
        "    C=np.zeros(N)\n",
        "    C[0]=1\n",
        "    C[1]=2\n",
        "    f=0\n",
        "    g=2\n",
        "    h=1\n",
        "    for i in range(1,N-1):\n",
        "        \n",
        "        if i%3 == 0:\n",
        "            C[i+1]=3**(g)\n",
        "            g+=1\n",
        "        elif (i-1)%3 == 0:\n",
        "            C[i+1]=4*(3**(f))\n",
        "            f+=1\n",
        "        elif (i-2)%3 == 0:\n",
        "            C[i+1]=2*(3**(h))\n",
        "            h+=1\n",
        "            \n",
        "    return C[N-2]"
      ],
      "metadata": {
        "id": "WpVmvvVlV63a"
      },
      "execution_count": null,
      "outputs": []
    },
    {
      "cell_type": "code",
      "source": [
        "start_cut = time.time()\n",
        "dt_cut = []\n",
        "for N in r: \n",
        "    cut(N)\n",
        "    dt_cut.append(time.time()-start_cut)\n",
        "plt.plot(r, dt_cut, color=\"orange\")"
      ],
      "metadata": {
        "colab": {
          "base_uri": "https://localhost:8080/",
          "height": 283
        },
        "id": "h4TbY07bWS4r",
        "outputId": "255b878c-9e49-48d2-ae7e-d51cc28f7caf"
      },
      "execution_count": null,
      "outputs": [
        {
          "output_type": "execute_result",
          "data": {
            "text/plain": [
              "[<matplotlib.lines.Line2D at 0x7f69ae536790>]"
            ]
          },
          "metadata": {},
          "execution_count": 17
        },
        {
          "output_type": "display_data",
          "data": {
            "text/plain": [
              "<Figure size 432x288 with 1 Axes>"
            ],
            "image/png": "[encoded data removed]"
          },
          "metadata": {
            "needs_background": "light"
          }
        }
      ]
    },
    {
      "cell_type": "code",
      "source": [
        "start_cut = time.time()\n",
        "for N in range(2,26):\n",
        "    cut(N)\n",
        "end_cut = time.time()\n",
        "delta_time_cut= end_cut - start_cut\n",
        "print(f\"Execution time of the polinomial function taglio_polinom() is: {round(delta_time2,5)*1000} milliseconds\")"
      ],
      "metadata": {
        "colab": {
          "base_uri": "https://localhost:8080/"
        },
        "id": "X2cczxBTWVPX",
        "outputId": "e1cf521a-81fa-4855-9f13-1fd88e5eb07e"
      },
      "execution_count": null,
      "outputs": [
        {
          "output_type": "stream",
          "name": "stdout",
          "text": [
            "Execution time of the polinomial function taglio_polinom() is: 4.67 milliseconds\n"
          ]
        }
      ]
    },
    {
      "cell_type": "code",
      "source": [
        "def cut_better(N):\n",
        "    if N <= 1:\n",
        "        return 0\n",
        "    elif N == 2:\n",
        "        return 1\n",
        "    elif N == 3:\n",
        "        return 2\n",
        "    else:\n",
        "        if N%3 == 0:\n",
        "            M=3**(N//3)\n",
        "        \n",
        "        elif (N-1)%3 == 0:\n",
        "            M=4*(3**(N//3 -1))\n",
        "        \n",
        "        elif (N-2)%3 == 0:\n",
        "            M=2*(3**(N//3))\n",
        "            \n",
        "    return M\n",
        "\n",
        "cut_better(int(input()))"
      ],
      "metadata": {
        "colab": {
          "base_uri": "https://localhost:8080/"
        },
        "id": "6HDMQh7jWI-6",
        "outputId": "7d044714-25d6-4699-a7f1-bb74fe6ab323"
      },
      "execution_count": null,
      "outputs": [
        {
          "name": "stdout",
          "output_type": "stream",
          "text": [
            "25\n"
          ]
        },
        {
          "output_type": "execute_result",
          "data": {
            "text/plain": [
              "8748"
            ]
          },
          "metadata": {},
          "execution_count": 19
        }
      ]
    },
    {
      "cell_type": "code",
      "source": [
        "start_cutB = time.time()\n",
        "dt_cutB = []\n",
        "for N in r: \n",
        "    cut_better(N)\n",
        "    dt_cutB.append(time.time()-start_cutB)\n",
        "plt.plot(r, dt_cutB, color=\"purple\")"
      ],
      "metadata": {
        "colab": {
          "base_uri": "https://localhost:8080/",
          "height": 294
        },
        "id": "DmMMH8UHWlTj",
        "outputId": "8d3d064c-4036-4049-f185-0537d597962f"
      },
      "execution_count": null,
      "outputs": [
        {
          "output_type": "execute_result",
          "data": {
            "text/plain": [
              "[<matplotlib.lines.Line2D at 0x7f6a0f054ed0>]"
            ]
          },
          "metadata": {},
          "execution_count": 20
        },
        {
          "output_type": "display_data",
          "data": {
            "text/plain": [
              "<Figure size 432x288 with 1 Axes>"
            ],
            "image/png": "[encoded data removed]"
          },
          "metadata": {
            "needs_background": "light"
          }
        }
      ]
    },
    {
      "cell_type": "code",
      "source": [
        "start4 = time.time()\n",
        "for N in range(2,26):\n",
        "    cut_better(N)\n",
        "end4 = time.time()\n",
        "delta_time4= end4 - start4\n",
        "print(f\"Execution time of the function cut_better() is: {round(delta_time4,5)*1000} milliseconds\")"
      ],
      "metadata": {
        "colab": {
          "base_uri": "https://localhost:8080/"
        },
        "id": "My5dzAN9WsIY",
        "outputId": "6a7b3010-8ba8-48db-e5ab-f3bf2af2dfc4"
      },
      "execution_count": null,
      "outputs": [
        {
          "output_type": "stream",
          "name": "stdout",
          "text": [
            "Execution time of the function cut_better() is: 0.12000000000000001 milliseconds\n"
          ]
        }
      ]
    },
    {
      "cell_type": "code",
      "source": [],
      "metadata": {
        "id": "GIyMz2fVcDbN"
      },
      "execution_count": null,
      "outputs": []
    }
  ],
  "metadata": {
    "accelerator": "GPU",
    "colab": {
      "collapsed_sections": [
        "VEdOLrYW44YQ",
        "g3hXGkDi-STT",
        "drmW5loHHfKQ",
        "sf66iM8W7XUS",
        "ub42grWEfCgk",
        "nO637-xkNigo",
        "UMEF8Hf3PuK5"
      ],
      "provenance": []
    },
    "kernelspec": {
      "display_name": "Python 3",
      "name": "python3"
    },
    "language_info": {
      "name": "python"
    },
    "gpuClass": "standard"
  },
  "nbformat": 4,
  "nbformat_minor": 0
}